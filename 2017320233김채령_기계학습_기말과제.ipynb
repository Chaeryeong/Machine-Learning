{
 "cells": [
  {
   "cell_type": "markdown",
   "metadata": {},
   "source": [
    "# ML - Classifier 만들기 (2018)"
   ]
  },
  {
   "cell_type": "markdown",
   "metadata": {},
   "source": [
    "## - 설명-"
   ]
  },
  {
   "cell_type": "markdown",
   "metadata": {},
   "source": [
    "* classification model 설계\n",
    "    * 4가지 이상의 모델, 1가지 이상의 딥러닝 라이브러리 사용한 모델\n",
    "* Dataset 최대한 분석"
   ]
  },
  {
   "cell_type": "markdown",
   "metadata": {},
   "source": [
    "## -실험 전체 요약-"
   ]
  },
  {
   "cell_type": "markdown",
   "metadata": {},
   "source": [
    "이번 실험은 주어진 데이터 셋에 대해서 여러 classification 알고리즘을 통한 모델을 설계해서 실험 내용 중에서 최적의 모델 성능 평가를 하는 것에 초점을 두었다. 추천 데이터 셋 중에서 mushroom data set을 선정하였으며, 아래 실험 과정에 기술한 바와 같이 데이터 셋을 해석하여 Precision을 metric으로 성능을 평가하였다. Cross validation을 여러 모델에 대해서 실험해보았으며, 그 후 전체 데이터를 train, validation, test 용으로 6:2:2의 비율로 나누어 실험에 사용하였다. 총 8가지 classifier 모델로 실험하였으며 초기 계획은 인코딩 후, 여러 모델 구축, feature selection 후 같은 모델에 대한 성능 비교, 그리고 딥러닝 도구 keras를 이용한 MLP 설계 후 sklearn의 MLP와 비교 순서로 진행할 예정이었으나, feature selection 후 인코딩 과정에서 아무리 시간을 투자해도 해결되지 않는 에러가 계속 발생하여, 초기 계획하였던 실험의 outline 코드만 마크다운으로 처리하여 보고서를 작성하였다. 에러가 해결되었다면 좀 더 다각적인 시각에서 비교가 가능했을 것이라는 점이 매우 아쉽지만, 일단 여러 시도를 통헤 8가지의 classifier를 part1에서 구축해보았다는 것과, 끝까지 시도해보았다는 점에 의의를 두며 이 실험을 마감한다.\n",
    "*더 자세한 요약은 각 파트에서 다룸"
   ]
  },
  {
   "cell_type": "markdown",
   "metadata": {},
   "source": [
    "## -선정 데이터 설명-"
   ]
  },
  {
   "cell_type": "markdown",
   "metadata": {},
   "source": [
    "### Mushroom Data Set"
   ]
  },
  {
   "cell_type": "markdown",
   "metadata": {},
   "source": [
    "    total: 8124 instances\n",
    "이 데이터는 주름버섯과에 속하는 주름버섯속과 갓버섯속에 해당하는 23가지 종의 주름버섯들 중에서 채취한 8124개의 샘플들이다. 총 22개의 attributes는 버섯 뚜껑의 모양, 색깔, 향기, 주름의 크기 등을 기술하고 있다. 섭취 가능 여부를 definitely edible(확실히 섭취 가능)과 definitely poisonous(확실히 독성), unknown edibility(섭취 가능 여부 모름), not recommended(섭취 추천하지 않음)로 나누어서 edible 그리고 poisonous 이렇게 2개의 class로 나타나있다."
   ]
  },
  {
   "cell_type": "markdown",
   "metadata": {},
   "source": [
    "### attribute description\n",
    "    total: 22 attributes, all categorical\n",
    "1. cap-shape: bell=b,conical=c,convex=x,flat=f, knobbed=k,sunken=s \n",
    "2. cap-surface: fibrous=f,grooves=g,scaly=y,smooth=s \n",
    "3. cap-color: brown=n,buff=b,cinnamon=c,gray=g,green=r, pink=p,purple=u,red=e,white=w,yellow=y \n",
    "4. bruises?: bruises=t,no=f \n",
    "5. odor: almond=a,anise=l,creosote=c,fishy=y,foul=f, musty=m,none=n,pungent=p,spicy=s \n",
    "6. gill-attachment: attached=a,descending=d,free=f,notched=n \n",
    "7. gill-spacing: close=c,crowded=w,distant=d \n",
    "8. gill-size: broad=b,narrow=n \n",
    "9. gill-color: black=k,brown=n,buff=b,chocolate=h,gray=g, green=r,orange=o,pink=p,purple=u,red=e, white=w,yellow=y \n",
    "10. stalk-shape: enlarging=e,tapering=t \n",
    "11. stalk-root: bulbous=b,club=c,cup=u,equal=e, rhizomorphs=z,rooted=r,missing=? \n",
    "12. stalk-surface-above-ring: fibrous=f,scaly=y,silky=k,smooth=s \n",
    "13. stalk-surface-below-ring: fibrous=f,scaly=y,silky=k,smooth=s \n",
    "14. stalk-color-above-ring: brown=n,buff=b,cinnamon=c,gray=g,orange=o, pink=p,red=e,white=w,yellow=y \n",
    "15. stalk-color-below-ring: brown=n,buff=b,cinnamon=c,gray=g,orange=o, pink=p,red=e,white=w,yellow=y \n",
    "16. veil-type: partial=p,universal=u \n",
    "17. veil-color: brown=n,orange=o,white=w,yellow=y \n",
    "18. ring-number: none=n,one=o,two=t \n",
    "19. ring-type: cobwebby=c,evanescent=e,flaring=f,large=l, none=n,pendant=p,sheathing=s,zone=z \n",
    "20. spore-print-color: black=k,brown=n,buff=b,chocolate=h,green=r, orange=o,purple=u,white=w,yellow=y \n",
    "21. population: abundant=a,clustered=c,numerous=n, scattered=s,several=v,solitary=y \n",
    "22. habitat: grasses=g,leaves=l,meadows=m,paths=p, urban=u,waste=w,woods=d"
   ]
  },
  {
   "cell_type": "markdown",
   "metadata": {},
   "source": [
    "### class description\n",
    "    total: 2 classes\n",
    "1. edible\n",
    "2. poisonous\n",
    "    class distribution \n",
    "   -edible: 51.8% (4208 instances)\n",
    "   -poisonous: 48.2% (3916 instances)"
   ]
  },
  {
   "cell_type": "markdown",
   "metadata": {},
   "source": [
    "### data URL\n",
    "https://archive.ics.uci.edu/ml/datasets/Mushroom"
   ]
  },
  {
   "cell_type": "markdown",
   "metadata": {},
   "source": [
    "## 실험 진행 목차"
   ]
  },
  {
   "cell_type": "markdown",
   "metadata": {},
   "source": [
    "본 레포트는 주어진 data를 통해서 각 버섯 샘플들이 섭취 가능한지 여부를 classify하는 여러 모델들을 설계하는 실험 과정에서의 여러 시도와 이를 통한 모델 개선 과정 및 결론을 포함한다.\n",
    "\n",
    "### Part 1. 주어진 data를 인코딩 후 다양한 모델 실험 해보기\n",
    "### Part 2. Feature space size 변경 실험: feature selection\n",
    "### Part 3. 편집한 feature로 다양한 모델 실험\n",
    "### Part 4. 딥러닝 도구 keras로 MLP 모델 구축해보기\n",
    "### Part 5. 실험 정리 및 결론\n",
    "---"
   ]
  },
  {
   "cell_type": "markdown",
   "metadata": {},
   "source": [
    "## Part1"
   ]
  },
  {
   "cell_type": "markdown",
   "metadata": {},
   "source": [
    "### 데이터 준비하기"
   ]
  },
  {
   "cell_type": "markdown",
   "metadata": {},
   "source": [
    "주어진 data에 인덱스를 추가해 csv 파일로 변환해주었고, 이를 pandas로 불러왔다."
   ]
  },
  {
   "cell_type": "code",
   "execution_count": 407,
   "metadata": {},
   "outputs": [],
   "source": [
    "import pandas as pd"
   ]
  },
  {
   "cell_type": "code",
   "execution_count": 408,
   "metadata": {},
   "outputs": [],
   "source": [
    "data_path = \"C:\\\\Users\\\\chae\\\\Downloads\\\\mushroom.csv\""
   ]
  },
  {
   "cell_type": "code",
   "execution_count": 419,
   "metadata": {},
   "outputs": [],
   "source": [
    "data = pd.read_csv(data_path)"
   ]
  },
  {
   "cell_type": "code",
   "execution_count": 420,
   "metadata": {},
   "outputs": [
    {
     "data": {
      "text/plain": [
       "Class                       object\n",
       "cap-shape                   object\n",
       "cap-surface                 object\n",
       "cap-color                   object\n",
       "bruises                     object\n",
       "odor                        object\n",
       "gill-attachment             object\n",
       "gill-spacing                object\n",
       "gill-size                   object\n",
       "gill-color                  object\n",
       "stalk-shape                 object\n",
       "stalk-root                  object\n",
       "stalk-surface-above-ring    object\n",
       "stalk-surface-below-ring    object\n",
       "stalk-color-above-ring      object\n",
       "stalk-color-below-ring      object\n",
       "veil-type                   object\n",
       "veil-color                  object\n",
       "ring-number                 object\n",
       "ring-type                   object\n",
       "spore-print-color           object\n",
       "population                  object\n",
       "habitat                     object\n",
       "dtype: object"
      ]
     },
     "execution_count": 420,
     "metadata": {},
     "output_type": "execute_result"
    }
   ],
   "source": [
    "data.dtypes"
   ]
  },
  {
   "cell_type": "markdown",
   "metadata": {},
   "source": [
    "모든 attribute가 다 categorical한 값을 가짐을 알 수 있다."
   ]
  },
  {
   "cell_type": "code",
   "execution_count": 421,
   "metadata": {},
   "outputs": [
    {
     "data": {
      "text/plain": [
       "Index(['Class', 'cap-shape', 'cap-surface', 'cap-color', 'bruises', 'odor',\n",
       "       'gill-attachment', 'gill-spacing', 'gill-size', 'gill-color',\n",
       "       'stalk-shape', 'stalk-root', 'stalk-surface-above-ring',\n",
       "       'stalk-surface-below-ring', 'stalk-color-above-ring',\n",
       "       'stalk-color-below-ring', 'veil-type', 'veil-color', 'ring-number',\n",
       "       'ring-type', 'spore-print-color', 'population', 'habitat'],\n",
       "      dtype='object')"
      ]
     },
     "execution_count": 421,
     "metadata": {},
     "output_type": "execute_result"
    }
   ],
   "source": [
    "data.columns"
   ]
  },
  {
   "cell_type": "markdown",
   "metadata": {},
   "source": [
    "첫번째 column은 class를 나머지 column들은 22개의 각 attribute들이다."
   ]
  },
  {
   "cell_type": "code",
   "execution_count": 422,
   "metadata": {},
   "outputs": [
    {
     "data": {
      "text/plain": [
       "Class                       8124\n",
       "cap-shape                   8124\n",
       "cap-surface                 8124\n",
       "cap-color                   8124\n",
       "bruises                     8124\n",
       "odor                        8124\n",
       "gill-attachment             8124\n",
       "gill-spacing                8124\n",
       "gill-size                   8124\n",
       "gill-color                  8124\n",
       "stalk-shape                 8124\n",
       "stalk-root                  8124\n",
       "stalk-surface-above-ring    8124\n",
       "stalk-surface-below-ring    8124\n",
       "stalk-color-above-ring      8124\n",
       "stalk-color-below-ring      8124\n",
       "veil-type                   8124\n",
       "veil-color                  8124\n",
       "ring-number                 8124\n",
       "ring-type                   8124\n",
       "spore-print-color           8124\n",
       "population                  8124\n",
       "habitat                     8124\n",
       "dtype: int64"
      ]
     },
     "execution_count": 422,
     "metadata": {},
     "output_type": "execute_result"
    }
   ],
   "source": [
    "data.count()"
   ]
  },
  {
   "cell_type": "markdown",
   "metadata": {},
   "source": [
    "### 전처리: missing value 처리"
   ]
  },
  {
   "cell_type": "code",
   "execution_count": 423,
   "metadata": {},
   "outputs": [],
   "source": [
    "stalk_root_data=data['stalk-root']"
   ]
  },
  {
   "cell_type": "code",
   "execution_count": 424,
   "metadata": {},
   "outputs": [],
   "source": [
    "stalk_root_data = stalk_root_data.astype('category')"
   ]
  },
  {
   "cell_type": "code",
   "execution_count": 425,
   "metadata": {},
   "outputs": [],
   "source": [
    "stalk_root_index1 = pd.Index(list(stalk_root_data))"
   ]
  },
  {
   "cell_type": "code",
   "execution_count": 426,
   "metadata": {},
   "outputs": [
    {
     "data": {
      "text/plain": [
       "Index(['e', 'c', 'c', 'e', 'e', 'c', 'c', 'c', 'e', 'c',\n",
       "       ...\n",
       "       'c', '?', '?', '?', '?', '?', '?', '?', '?', '?'],\n",
       "      dtype='object', length=8124)"
      ]
     },
     "execution_count": 426,
     "metadata": {},
     "output_type": "execute_result"
    }
   ],
   "source": [
    "stalk_root_index1"
   ]
  },
  {
   "cell_type": "markdown",
   "metadata": {},
   "source": [
    "'?'라는 값으로 학습에 방해가 되는 값들이 존재함을 확인하였다."
   ]
  },
  {
   "cell_type": "code",
   "execution_count": 427,
   "metadata": {},
   "outputs": [],
   "source": [
    "df=pd.DataFrame(data=stalk_root_index1)"
   ]
  },
  {
   "cell_type": "code",
   "execution_count": 428,
   "metadata": {},
   "outputs": [],
   "source": [
    "import numpy as np"
   ]
  },
  {
   "cell_type": "code",
   "execution_count": 429,
   "metadata": {},
   "outputs": [],
   "source": [
    "df = df.replace('?', np.nan)"
   ]
  },
  {
   "cell_type": "code",
   "execution_count": 430,
   "metadata": {},
   "outputs": [],
   "source": [
    "from sklearn.impute import SimpleImputer"
   ]
  },
  {
   "cell_type": "code",
   "execution_count": 431,
   "metadata": {},
   "outputs": [],
   "source": [
    "imputer = SimpleImputer(strategy='most_frequent')"
   ]
  },
  {
   "cell_type": "code",
   "execution_count": 432,
   "metadata": {},
   "outputs": [],
   "source": [
    "df=imputer.fit_transform(df)"
   ]
  },
  {
   "cell_type": "code",
   "execution_count": 433,
   "metadata": {},
   "outputs": [
    {
     "data": {
      "text/plain": [
       "array([['e'],\n",
       "       ['c'],\n",
       "       ['c'],\n",
       "       ...,\n",
       "       ['b'],\n",
       "       ['b'],\n",
       "       ['b']], dtype=object)"
      ]
     },
     "execution_count": 433,
     "metadata": {},
     "output_type": "execute_result"
    }
   ],
   "source": [
    "df"
   ]
  },
  {
   "cell_type": "markdown",
   "metadata": {},
   "source": [
    "'?'값을 nan으로 대체해준 뒤, imputer를 통해서 빈도수가 가장 높은 값으로 missing value를 채워주었다."
   ]
  },
  {
   "cell_type": "markdown",
   "metadata": {},
   "source": [
    "### 인코딩"
   ]
  },
  {
   "cell_type": "markdown",
   "metadata": {},
   "source": [
    "위의 22개의 attribute와 class value가 모두 categorical하므로 인코딩을 해주었다."
   ]
  },
  {
   "cell_type": "markdown",
   "metadata": {},
   "source": [
    "인코딩 기법으로는 onehot encoding을 해주었는데 값의 크기에 따라서 상관관계가 없는 attribute value라고 판단했기 때문이다."
   ]
  },
  {
   "cell_type": "code",
   "execution_count": 435,
   "metadata": {},
   "outputs": [],
   "source": [
    "from sklearn.preprocessing import OneHotEncoder"
   ]
  },
  {
   "cell_type": "code",
   "execution_count": 436,
   "metadata": {},
   "outputs": [],
   "source": [
    "ohe = OneHotEncoder()"
   ]
  },
  {
   "cell_type": "code",
   "execution_count": 437,
   "metadata": {},
   "outputs": [],
   "source": [
    "data_x = data.drop(columns=['Class'])"
   ]
  },
  {
   "cell_type": "code",
   "execution_count": 438,
   "metadata": {},
   "outputs": [
    {
     "data": {
      "text/plain": [
       "OneHotEncoder(categorical_features=None, categories=None,\n",
       "       dtype=<class 'numpy.float64'>, handle_unknown='error',\n",
       "       n_values=None, sparse=True)"
      ]
     },
     "execution_count": 438,
     "metadata": {},
     "output_type": "execute_result"
    }
   ],
   "source": [
    "ohe.fit(data_x)"
   ]
  },
  {
   "cell_type": "code",
   "execution_count": 439,
   "metadata": {},
   "outputs": [
    {
     "data": {
      "text/plain": [
       "[array(['b', 'c', 'f', 'k', 's', 'x'], dtype=object),\n",
       " array(['f', 'g', 's', 'y'], dtype=object),\n",
       " array(['b', 'c', 'e', 'g', 'n', 'p', 'r', 'u', 'w', 'y'], dtype=object),\n",
       " array(['f', 't'], dtype=object),\n",
       " array(['a', 'c', 'f', 'l', 'm', 'n', 'p', 's', 'y'], dtype=object),\n",
       " array(['a', 'f'], dtype=object),\n",
       " array(['c', 'w'], dtype=object),\n",
       " array(['b', 'n'], dtype=object),\n",
       " array(['b', 'e', 'g', 'h', 'k', 'n', 'o', 'p', 'r', 'u', 'w', 'y'],\n",
       "       dtype=object),\n",
       " array(['e', 't'], dtype=object),\n",
       " array(['?', 'b', 'c', 'e', 'r'], dtype=object),\n",
       " array(['f', 'k', 's', 'y'], dtype=object),\n",
       " array(['f', 'k', 's', 'y'], dtype=object),\n",
       " array(['b', 'c', 'e', 'g', 'n', 'o', 'p', 'w', 'y'], dtype=object),\n",
       " array(['b', 'c', 'e', 'g', 'n', 'o', 'p', 'w', 'y'], dtype=object),\n",
       " array(['p'], dtype=object),\n",
       " array(['n', 'o', 'w', 'y'], dtype=object),\n",
       " array(['n', 'o', 't'], dtype=object),\n",
       " array(['e', 'f', 'l', 'n', 'p'], dtype=object),\n",
       " array(['b', 'h', 'k', 'n', 'o', 'r', 'u', 'w', 'y'], dtype=object),\n",
       " array(['a', 'c', 'n', 's', 'v', 'y'], dtype=object),\n",
       " array(['d', 'g', 'l', 'm', 'p', 'u', 'w'], dtype=object)]"
      ]
     },
     "execution_count": 439,
     "metadata": {},
     "output_type": "execute_result"
    }
   ],
   "source": [
    "ohe.categories_"
   ]
  },
  {
   "cell_type": "code",
   "execution_count": 440,
   "metadata": {},
   "outputs": [],
   "source": [
    "data_onehot = ohe.transform(data_x)"
   ]
  },
  {
   "cell_type": "code",
   "execution_count": 441,
   "metadata": {},
   "outputs": [
    {
     "data": {
      "text/plain": [
       "117"
      ]
     },
     "execution_count": 441,
     "metadata": {},
     "output_type": "execute_result"
    }
   ],
   "source": [
    "data_onehot = data_onehot.toarray()\n",
    "data_onehot.shape[1]"
   ]
  },
  {
   "cell_type": "code",
   "execution_count": 442,
   "metadata": {},
   "outputs": [],
   "source": [
    "df = pd.DataFrame(data=data_onehot)"
   ]
  },
  {
   "cell_type": "code",
   "execution_count": 443,
   "metadata": {},
   "outputs": [
    {
     "data": {
      "text/html": [
       "<div>\n",
       "<style scoped>\n",
       "    .dataframe tbody tr th:only-of-type {\n",
       "        vertical-align: middle;\n",
       "    }\n",
       "\n",
       "    .dataframe tbody tr th {\n",
       "        vertical-align: top;\n",
       "    }\n",
       "\n",
       "    .dataframe thead th {\n",
       "        text-align: right;\n",
       "    }\n",
       "</style>\n",
       "<table border=\"1\" class=\"dataframe\">\n",
       "  <thead>\n",
       "    <tr style=\"text-align: right;\">\n",
       "      <th></th>\n",
       "      <th>Class</th>\n",
       "      <th>0</th>\n",
       "      <th>1</th>\n",
       "      <th>2</th>\n",
       "      <th>3</th>\n",
       "      <th>4</th>\n",
       "      <th>5</th>\n",
       "      <th>6</th>\n",
       "      <th>7</th>\n",
       "      <th>8</th>\n",
       "      <th>...</th>\n",
       "      <th>107</th>\n",
       "      <th>108</th>\n",
       "      <th>109</th>\n",
       "      <th>110</th>\n",
       "      <th>111</th>\n",
       "      <th>112</th>\n",
       "      <th>113</th>\n",
       "      <th>114</th>\n",
       "      <th>115</th>\n",
       "      <th>116</th>\n",
       "    </tr>\n",
       "  </thead>\n",
       "  <tbody>\n",
       "    <tr>\n",
       "      <th>0</th>\n",
       "      <td>p</td>\n",
       "      <td>0.0</td>\n",
       "      <td>0.0</td>\n",
       "      <td>0.0</td>\n",
       "      <td>0.0</td>\n",
       "      <td>0.0</td>\n",
       "      <td>1.0</td>\n",
       "      <td>0.0</td>\n",
       "      <td>0.0</td>\n",
       "      <td>1.0</td>\n",
       "      <td>...</td>\n",
       "      <td>1.0</td>\n",
       "      <td>0.0</td>\n",
       "      <td>0.0</td>\n",
       "      <td>0.0</td>\n",
       "      <td>0.0</td>\n",
       "      <td>0.0</td>\n",
       "      <td>0.0</td>\n",
       "      <td>0.0</td>\n",
       "      <td>1.0</td>\n",
       "      <td>0.0</td>\n",
       "    </tr>\n",
       "    <tr>\n",
       "      <th>1</th>\n",
       "      <td>e</td>\n",
       "      <td>0.0</td>\n",
       "      <td>0.0</td>\n",
       "      <td>0.0</td>\n",
       "      <td>0.0</td>\n",
       "      <td>0.0</td>\n",
       "      <td>1.0</td>\n",
       "      <td>0.0</td>\n",
       "      <td>0.0</td>\n",
       "      <td>1.0</td>\n",
       "      <td>...</td>\n",
       "      <td>0.0</td>\n",
       "      <td>0.0</td>\n",
       "      <td>0.0</td>\n",
       "      <td>0.0</td>\n",
       "      <td>1.0</td>\n",
       "      <td>0.0</td>\n",
       "      <td>0.0</td>\n",
       "      <td>0.0</td>\n",
       "      <td>0.0</td>\n",
       "      <td>0.0</td>\n",
       "    </tr>\n",
       "    <tr>\n",
       "      <th>2</th>\n",
       "      <td>e</td>\n",
       "      <td>1.0</td>\n",
       "      <td>0.0</td>\n",
       "      <td>0.0</td>\n",
       "      <td>0.0</td>\n",
       "      <td>0.0</td>\n",
       "      <td>0.0</td>\n",
       "      <td>0.0</td>\n",
       "      <td>0.0</td>\n",
       "      <td>1.0</td>\n",
       "      <td>...</td>\n",
       "      <td>0.0</td>\n",
       "      <td>0.0</td>\n",
       "      <td>0.0</td>\n",
       "      <td>0.0</td>\n",
       "      <td>0.0</td>\n",
       "      <td>0.0</td>\n",
       "      <td>1.0</td>\n",
       "      <td>0.0</td>\n",
       "      <td>0.0</td>\n",
       "      <td>0.0</td>\n",
       "    </tr>\n",
       "    <tr>\n",
       "      <th>3</th>\n",
       "      <td>p</td>\n",
       "      <td>0.0</td>\n",
       "      <td>0.0</td>\n",
       "      <td>0.0</td>\n",
       "      <td>0.0</td>\n",
       "      <td>0.0</td>\n",
       "      <td>1.0</td>\n",
       "      <td>0.0</td>\n",
       "      <td>0.0</td>\n",
       "      <td>0.0</td>\n",
       "      <td>...</td>\n",
       "      <td>1.0</td>\n",
       "      <td>0.0</td>\n",
       "      <td>0.0</td>\n",
       "      <td>0.0</td>\n",
       "      <td>0.0</td>\n",
       "      <td>0.0</td>\n",
       "      <td>0.0</td>\n",
       "      <td>0.0</td>\n",
       "      <td>1.0</td>\n",
       "      <td>0.0</td>\n",
       "    </tr>\n",
       "    <tr>\n",
       "      <th>4</th>\n",
       "      <td>e</td>\n",
       "      <td>0.0</td>\n",
       "      <td>0.0</td>\n",
       "      <td>0.0</td>\n",
       "      <td>0.0</td>\n",
       "      <td>0.0</td>\n",
       "      <td>1.0</td>\n",
       "      <td>0.0</td>\n",
       "      <td>0.0</td>\n",
       "      <td>1.0</td>\n",
       "      <td>...</td>\n",
       "      <td>0.0</td>\n",
       "      <td>0.0</td>\n",
       "      <td>0.0</td>\n",
       "      <td>0.0</td>\n",
       "      <td>1.0</td>\n",
       "      <td>0.0</td>\n",
       "      <td>0.0</td>\n",
       "      <td>0.0</td>\n",
       "      <td>0.0</td>\n",
       "      <td>0.0</td>\n",
       "    </tr>\n",
       "    <tr>\n",
       "      <th>5</th>\n",
       "      <td>e</td>\n",
       "      <td>0.0</td>\n",
       "      <td>0.0</td>\n",
       "      <td>0.0</td>\n",
       "      <td>0.0</td>\n",
       "      <td>0.0</td>\n",
       "      <td>1.0</td>\n",
       "      <td>0.0</td>\n",
       "      <td>0.0</td>\n",
       "      <td>0.0</td>\n",
       "      <td>...</td>\n",
       "      <td>0.0</td>\n",
       "      <td>0.0</td>\n",
       "      <td>0.0</td>\n",
       "      <td>0.0</td>\n",
       "      <td>1.0</td>\n",
       "      <td>0.0</td>\n",
       "      <td>0.0</td>\n",
       "      <td>0.0</td>\n",
       "      <td>0.0</td>\n",
       "      <td>0.0</td>\n",
       "    </tr>\n",
       "    <tr>\n",
       "      <th>6</th>\n",
       "      <td>e</td>\n",
       "      <td>1.0</td>\n",
       "      <td>0.0</td>\n",
       "      <td>0.0</td>\n",
       "      <td>0.0</td>\n",
       "      <td>0.0</td>\n",
       "      <td>0.0</td>\n",
       "      <td>0.0</td>\n",
       "      <td>0.0</td>\n",
       "      <td>1.0</td>\n",
       "      <td>...</td>\n",
       "      <td>0.0</td>\n",
       "      <td>0.0</td>\n",
       "      <td>0.0</td>\n",
       "      <td>0.0</td>\n",
       "      <td>0.0</td>\n",
       "      <td>0.0</td>\n",
       "      <td>1.0</td>\n",
       "      <td>0.0</td>\n",
       "      <td>0.0</td>\n",
       "      <td>0.0</td>\n",
       "    </tr>\n",
       "    <tr>\n",
       "      <th>7</th>\n",
       "      <td>e</td>\n",
       "      <td>1.0</td>\n",
       "      <td>0.0</td>\n",
       "      <td>0.0</td>\n",
       "      <td>0.0</td>\n",
       "      <td>0.0</td>\n",
       "      <td>0.0</td>\n",
       "      <td>0.0</td>\n",
       "      <td>0.0</td>\n",
       "      <td>0.0</td>\n",
       "      <td>...</td>\n",
       "      <td>1.0</td>\n",
       "      <td>0.0</td>\n",
       "      <td>0.0</td>\n",
       "      <td>0.0</td>\n",
       "      <td>0.0</td>\n",
       "      <td>0.0</td>\n",
       "      <td>1.0</td>\n",
       "      <td>0.0</td>\n",
       "      <td>0.0</td>\n",
       "      <td>0.0</td>\n",
       "    </tr>\n",
       "    <tr>\n",
       "      <th>8</th>\n",
       "      <td>p</td>\n",
       "      <td>0.0</td>\n",
       "      <td>0.0</td>\n",
       "      <td>0.0</td>\n",
       "      <td>0.0</td>\n",
       "      <td>0.0</td>\n",
       "      <td>1.0</td>\n",
       "      <td>0.0</td>\n",
       "      <td>0.0</td>\n",
       "      <td>0.0</td>\n",
       "      <td>...</td>\n",
       "      <td>0.0</td>\n",
       "      <td>1.0</td>\n",
       "      <td>0.0</td>\n",
       "      <td>0.0</td>\n",
       "      <td>1.0</td>\n",
       "      <td>0.0</td>\n",
       "      <td>0.0</td>\n",
       "      <td>0.0</td>\n",
       "      <td>0.0</td>\n",
       "      <td>0.0</td>\n",
       "    </tr>\n",
       "    <tr>\n",
       "      <th>9</th>\n",
       "      <td>e</td>\n",
       "      <td>1.0</td>\n",
       "      <td>0.0</td>\n",
       "      <td>0.0</td>\n",
       "      <td>0.0</td>\n",
       "      <td>0.0</td>\n",
       "      <td>0.0</td>\n",
       "      <td>0.0</td>\n",
       "      <td>0.0</td>\n",
       "      <td>1.0</td>\n",
       "      <td>...</td>\n",
       "      <td>1.0</td>\n",
       "      <td>0.0</td>\n",
       "      <td>0.0</td>\n",
       "      <td>0.0</td>\n",
       "      <td>0.0</td>\n",
       "      <td>0.0</td>\n",
       "      <td>1.0</td>\n",
       "      <td>0.0</td>\n",
       "      <td>0.0</td>\n",
       "      <td>0.0</td>\n",
       "    </tr>\n",
       "    <tr>\n",
       "      <th>10</th>\n",
       "      <td>e</td>\n",
       "      <td>0.0</td>\n",
       "      <td>0.0</td>\n",
       "      <td>0.0</td>\n",
       "      <td>0.0</td>\n",
       "      <td>0.0</td>\n",
       "      <td>1.0</td>\n",
       "      <td>0.0</td>\n",
       "      <td>0.0</td>\n",
       "      <td>0.0</td>\n",
       "      <td>...</td>\n",
       "      <td>0.0</td>\n",
       "      <td>0.0</td>\n",
       "      <td>0.0</td>\n",
       "      <td>0.0</td>\n",
       "      <td>1.0</td>\n",
       "      <td>0.0</td>\n",
       "      <td>0.0</td>\n",
       "      <td>0.0</td>\n",
       "      <td>0.0</td>\n",
       "      <td>0.0</td>\n",
       "    </tr>\n",
       "    <tr>\n",
       "      <th>11</th>\n",
       "      <td>e</td>\n",
       "      <td>0.0</td>\n",
       "      <td>0.0</td>\n",
       "      <td>0.0</td>\n",
       "      <td>0.0</td>\n",
       "      <td>0.0</td>\n",
       "      <td>1.0</td>\n",
       "      <td>0.0</td>\n",
       "      <td>0.0</td>\n",
       "      <td>0.0</td>\n",
       "      <td>...</td>\n",
       "      <td>1.0</td>\n",
       "      <td>0.0</td>\n",
       "      <td>0.0</td>\n",
       "      <td>0.0</td>\n",
       "      <td>0.0</td>\n",
       "      <td>0.0</td>\n",
       "      <td>1.0</td>\n",
       "      <td>0.0</td>\n",
       "      <td>0.0</td>\n",
       "      <td>0.0</td>\n",
       "    </tr>\n",
       "    <tr>\n",
       "      <th>12</th>\n",
       "      <td>e</td>\n",
       "      <td>1.0</td>\n",
       "      <td>0.0</td>\n",
       "      <td>0.0</td>\n",
       "      <td>0.0</td>\n",
       "      <td>0.0</td>\n",
       "      <td>0.0</td>\n",
       "      <td>0.0</td>\n",
       "      <td>0.0</td>\n",
       "      <td>1.0</td>\n",
       "      <td>...</td>\n",
       "      <td>1.0</td>\n",
       "      <td>0.0</td>\n",
       "      <td>0.0</td>\n",
       "      <td>0.0</td>\n",
       "      <td>1.0</td>\n",
       "      <td>0.0</td>\n",
       "      <td>0.0</td>\n",
       "      <td>0.0</td>\n",
       "      <td>0.0</td>\n",
       "      <td>0.0</td>\n",
       "    </tr>\n",
       "    <tr>\n",
       "      <th>13</th>\n",
       "      <td>p</td>\n",
       "      <td>0.0</td>\n",
       "      <td>0.0</td>\n",
       "      <td>0.0</td>\n",
       "      <td>0.0</td>\n",
       "      <td>0.0</td>\n",
       "      <td>1.0</td>\n",
       "      <td>0.0</td>\n",
       "      <td>0.0</td>\n",
       "      <td>0.0</td>\n",
       "      <td>...</td>\n",
       "      <td>0.0</td>\n",
       "      <td>1.0</td>\n",
       "      <td>0.0</td>\n",
       "      <td>0.0</td>\n",
       "      <td>0.0</td>\n",
       "      <td>0.0</td>\n",
       "      <td>0.0</td>\n",
       "      <td>0.0</td>\n",
       "      <td>1.0</td>\n",
       "      <td>0.0</td>\n",
       "    </tr>\n",
       "    <tr>\n",
       "      <th>14</th>\n",
       "      <td>e</td>\n",
       "      <td>0.0</td>\n",
       "      <td>0.0</td>\n",
       "      <td>0.0</td>\n",
       "      <td>0.0</td>\n",
       "      <td>0.0</td>\n",
       "      <td>1.0</td>\n",
       "      <td>1.0</td>\n",
       "      <td>0.0</td>\n",
       "      <td>0.0</td>\n",
       "      <td>...</td>\n",
       "      <td>0.0</td>\n",
       "      <td>0.0</td>\n",
       "      <td>0.0</td>\n",
       "      <td>0.0</td>\n",
       "      <td>1.0</td>\n",
       "      <td>0.0</td>\n",
       "      <td>0.0</td>\n",
       "      <td>0.0</td>\n",
       "      <td>0.0</td>\n",
       "      <td>0.0</td>\n",
       "    </tr>\n",
       "    <tr>\n",
       "      <th>15</th>\n",
       "      <td>e</td>\n",
       "      <td>0.0</td>\n",
       "      <td>0.0</td>\n",
       "      <td>0.0</td>\n",
       "      <td>0.0</td>\n",
       "      <td>1.0</td>\n",
       "      <td>0.0</td>\n",
       "      <td>1.0</td>\n",
       "      <td>0.0</td>\n",
       "      <td>0.0</td>\n",
       "      <td>...</td>\n",
       "      <td>0.0</td>\n",
       "      <td>0.0</td>\n",
       "      <td>1.0</td>\n",
       "      <td>0.0</td>\n",
       "      <td>0.0</td>\n",
       "      <td>0.0</td>\n",
       "      <td>0.0</td>\n",
       "      <td>0.0</td>\n",
       "      <td>1.0</td>\n",
       "      <td>0.0</td>\n",
       "    </tr>\n",
       "    <tr>\n",
       "      <th>16</th>\n",
       "      <td>e</td>\n",
       "      <td>0.0</td>\n",
       "      <td>0.0</td>\n",
       "      <td>1.0</td>\n",
       "      <td>0.0</td>\n",
       "      <td>0.0</td>\n",
       "      <td>0.0</td>\n",
       "      <td>1.0</td>\n",
       "      <td>0.0</td>\n",
       "      <td>0.0</td>\n",
       "      <td>...</td>\n",
       "      <td>0.0</td>\n",
       "      <td>0.0</td>\n",
       "      <td>0.0</td>\n",
       "      <td>0.0</td>\n",
       "      <td>1.0</td>\n",
       "      <td>0.0</td>\n",
       "      <td>0.0</td>\n",
       "      <td>0.0</td>\n",
       "      <td>0.0</td>\n",
       "      <td>0.0</td>\n",
       "    </tr>\n",
       "    <tr>\n",
       "      <th>17</th>\n",
       "      <td>p</td>\n",
       "      <td>0.0</td>\n",
       "      <td>0.0</td>\n",
       "      <td>0.0</td>\n",
       "      <td>0.0</td>\n",
       "      <td>0.0</td>\n",
       "      <td>1.0</td>\n",
       "      <td>0.0</td>\n",
       "      <td>0.0</td>\n",
       "      <td>1.0</td>\n",
       "      <td>...</td>\n",
       "      <td>1.0</td>\n",
       "      <td>0.0</td>\n",
       "      <td>0.0</td>\n",
       "      <td>0.0</td>\n",
       "      <td>1.0</td>\n",
       "      <td>0.0</td>\n",
       "      <td>0.0</td>\n",
       "      <td>0.0</td>\n",
       "      <td>0.0</td>\n",
       "      <td>0.0</td>\n",
       "    </tr>\n",
       "    <tr>\n",
       "      <th>18</th>\n",
       "      <td>p</td>\n",
       "      <td>0.0</td>\n",
       "      <td>0.0</td>\n",
       "      <td>0.0</td>\n",
       "      <td>0.0</td>\n",
       "      <td>0.0</td>\n",
       "      <td>1.0</td>\n",
       "      <td>0.0</td>\n",
       "      <td>0.0</td>\n",
       "      <td>0.0</td>\n",
       "      <td>...</td>\n",
       "      <td>1.0</td>\n",
       "      <td>0.0</td>\n",
       "      <td>0.0</td>\n",
       "      <td>0.0</td>\n",
       "      <td>0.0</td>\n",
       "      <td>0.0</td>\n",
       "      <td>0.0</td>\n",
       "      <td>0.0</td>\n",
       "      <td>1.0</td>\n",
       "      <td>0.0</td>\n",
       "    </tr>\n",
       "    <tr>\n",
       "      <th>19</th>\n",
       "      <td>p</td>\n",
       "      <td>0.0</td>\n",
       "      <td>0.0</td>\n",
       "      <td>0.0</td>\n",
       "      <td>0.0</td>\n",
       "      <td>0.0</td>\n",
       "      <td>1.0</td>\n",
       "      <td>0.0</td>\n",
       "      <td>0.0</td>\n",
       "      <td>1.0</td>\n",
       "      <td>...</td>\n",
       "      <td>1.0</td>\n",
       "      <td>0.0</td>\n",
       "      <td>0.0</td>\n",
       "      <td>0.0</td>\n",
       "      <td>0.0</td>\n",
       "      <td>0.0</td>\n",
       "      <td>0.0</td>\n",
       "      <td>0.0</td>\n",
       "      <td>1.0</td>\n",
       "      <td>0.0</td>\n",
       "    </tr>\n",
       "    <tr>\n",
       "      <th>20</th>\n",
       "      <td>e</td>\n",
       "      <td>1.0</td>\n",
       "      <td>0.0</td>\n",
       "      <td>0.0</td>\n",
       "      <td>0.0</td>\n",
       "      <td>0.0</td>\n",
       "      <td>0.0</td>\n",
       "      <td>0.0</td>\n",
       "      <td>0.0</td>\n",
       "      <td>1.0</td>\n",
       "      <td>...</td>\n",
       "      <td>1.0</td>\n",
       "      <td>0.0</td>\n",
       "      <td>0.0</td>\n",
       "      <td>0.0</td>\n",
       "      <td>0.0</td>\n",
       "      <td>0.0</td>\n",
       "      <td>1.0</td>\n",
       "      <td>0.0</td>\n",
       "      <td>0.0</td>\n",
       "      <td>0.0</td>\n",
       "    </tr>\n",
       "    <tr>\n",
       "      <th>21</th>\n",
       "      <td>p</td>\n",
       "      <td>0.0</td>\n",
       "      <td>0.0</td>\n",
       "      <td>0.0</td>\n",
       "      <td>0.0</td>\n",
       "      <td>0.0</td>\n",
       "      <td>1.0</td>\n",
       "      <td>0.0</td>\n",
       "      <td>0.0</td>\n",
       "      <td>0.0</td>\n",
       "      <td>...</td>\n",
       "      <td>0.0</td>\n",
       "      <td>1.0</td>\n",
       "      <td>0.0</td>\n",
       "      <td>0.0</td>\n",
       "      <td>1.0</td>\n",
       "      <td>0.0</td>\n",
       "      <td>0.0</td>\n",
       "      <td>0.0</td>\n",
       "      <td>0.0</td>\n",
       "      <td>0.0</td>\n",
       "    </tr>\n",
       "    <tr>\n",
       "      <th>22</th>\n",
       "      <td>e</td>\n",
       "      <td>1.0</td>\n",
       "      <td>0.0</td>\n",
       "      <td>0.0</td>\n",
       "      <td>0.0</td>\n",
       "      <td>0.0</td>\n",
       "      <td>0.0</td>\n",
       "      <td>0.0</td>\n",
       "      <td>0.0</td>\n",
       "      <td>0.0</td>\n",
       "      <td>...</td>\n",
       "      <td>1.0</td>\n",
       "      <td>0.0</td>\n",
       "      <td>0.0</td>\n",
       "      <td>0.0</td>\n",
       "      <td>0.0</td>\n",
       "      <td>0.0</td>\n",
       "      <td>1.0</td>\n",
       "      <td>0.0</td>\n",
       "      <td>0.0</td>\n",
       "      <td>0.0</td>\n",
       "    </tr>\n",
       "    <tr>\n",
       "      <th>23</th>\n",
       "      <td>e</td>\n",
       "      <td>1.0</td>\n",
       "      <td>0.0</td>\n",
       "      <td>0.0</td>\n",
       "      <td>0.0</td>\n",
       "      <td>0.0</td>\n",
       "      <td>0.0</td>\n",
       "      <td>0.0</td>\n",
       "      <td>0.0</td>\n",
       "      <td>0.0</td>\n",
       "      <td>...</td>\n",
       "      <td>0.0</td>\n",
       "      <td>0.0</td>\n",
       "      <td>0.0</td>\n",
       "      <td>0.0</td>\n",
       "      <td>0.0</td>\n",
       "      <td>0.0</td>\n",
       "      <td>1.0</td>\n",
       "      <td>0.0</td>\n",
       "      <td>0.0</td>\n",
       "      <td>0.0</td>\n",
       "    </tr>\n",
       "    <tr>\n",
       "      <th>24</th>\n",
       "      <td>e</td>\n",
       "      <td>1.0</td>\n",
       "      <td>0.0</td>\n",
       "      <td>0.0</td>\n",
       "      <td>0.0</td>\n",
       "      <td>0.0</td>\n",
       "      <td>0.0</td>\n",
       "      <td>0.0</td>\n",
       "      <td>0.0</td>\n",
       "      <td>1.0</td>\n",
       "      <td>...</td>\n",
       "      <td>1.0</td>\n",
       "      <td>0.0</td>\n",
       "      <td>0.0</td>\n",
       "      <td>0.0</td>\n",
       "      <td>0.0</td>\n",
       "      <td>0.0</td>\n",
       "      <td>1.0</td>\n",
       "      <td>0.0</td>\n",
       "      <td>0.0</td>\n",
       "      <td>0.0</td>\n",
       "    </tr>\n",
       "    <tr>\n",
       "      <th>25</th>\n",
       "      <td>p</td>\n",
       "      <td>0.0</td>\n",
       "      <td>0.0</td>\n",
       "      <td>1.0</td>\n",
       "      <td>0.0</td>\n",
       "      <td>0.0</td>\n",
       "      <td>0.0</td>\n",
       "      <td>0.0</td>\n",
       "      <td>0.0</td>\n",
       "      <td>1.0</td>\n",
       "      <td>...</td>\n",
       "      <td>0.0</td>\n",
       "      <td>1.0</td>\n",
       "      <td>0.0</td>\n",
       "      <td>0.0</td>\n",
       "      <td>1.0</td>\n",
       "      <td>0.0</td>\n",
       "      <td>0.0</td>\n",
       "      <td>0.0</td>\n",
       "      <td>0.0</td>\n",
       "      <td>0.0</td>\n",
       "    </tr>\n",
       "    <tr>\n",
       "      <th>26</th>\n",
       "      <td>e</td>\n",
       "      <td>0.0</td>\n",
       "      <td>0.0</td>\n",
       "      <td>0.0</td>\n",
       "      <td>0.0</td>\n",
       "      <td>0.0</td>\n",
       "      <td>1.0</td>\n",
       "      <td>0.0</td>\n",
       "      <td>0.0</td>\n",
       "      <td>0.0</td>\n",
       "      <td>...</td>\n",
       "      <td>0.0</td>\n",
       "      <td>0.0</td>\n",
       "      <td>0.0</td>\n",
       "      <td>0.0</td>\n",
       "      <td>0.0</td>\n",
       "      <td>0.0</td>\n",
       "      <td>1.0</td>\n",
       "      <td>0.0</td>\n",
       "      <td>0.0</td>\n",
       "      <td>0.0</td>\n",
       "    </tr>\n",
       "    <tr>\n",
       "      <th>27</th>\n",
       "      <td>e</td>\n",
       "      <td>0.0</td>\n",
       "      <td>0.0</td>\n",
       "      <td>0.0</td>\n",
       "      <td>0.0</td>\n",
       "      <td>0.0</td>\n",
       "      <td>1.0</td>\n",
       "      <td>0.0</td>\n",
       "      <td>0.0</td>\n",
       "      <td>0.0</td>\n",
       "      <td>...</td>\n",
       "      <td>0.0</td>\n",
       "      <td>0.0</td>\n",
       "      <td>0.0</td>\n",
       "      <td>0.0</td>\n",
       "      <td>0.0</td>\n",
       "      <td>0.0</td>\n",
       "      <td>1.0</td>\n",
       "      <td>0.0</td>\n",
       "      <td>0.0</td>\n",
       "      <td>0.0</td>\n",
       "    </tr>\n",
       "    <tr>\n",
       "      <th>28</th>\n",
       "      <td>e</td>\n",
       "      <td>0.0</td>\n",
       "      <td>0.0</td>\n",
       "      <td>1.0</td>\n",
       "      <td>0.0</td>\n",
       "      <td>0.0</td>\n",
       "      <td>0.0</td>\n",
       "      <td>1.0</td>\n",
       "      <td>0.0</td>\n",
       "      <td>0.0</td>\n",
       "      <td>...</td>\n",
       "      <td>0.0</td>\n",
       "      <td>0.0</td>\n",
       "      <td>1.0</td>\n",
       "      <td>0.0</td>\n",
       "      <td>0.0</td>\n",
       "      <td>0.0</td>\n",
       "      <td>0.0</td>\n",
       "      <td>0.0</td>\n",
       "      <td>1.0</td>\n",
       "      <td>0.0</td>\n",
       "    </tr>\n",
       "    <tr>\n",
       "      <th>29</th>\n",
       "      <td>e</td>\n",
       "      <td>0.0</td>\n",
       "      <td>0.0</td>\n",
       "      <td>0.0</td>\n",
       "      <td>0.0</td>\n",
       "      <td>0.0</td>\n",
       "      <td>1.0</td>\n",
       "      <td>0.0</td>\n",
       "      <td>0.0</td>\n",
       "      <td>1.0</td>\n",
       "      <td>...</td>\n",
       "      <td>0.0</td>\n",
       "      <td>1.0</td>\n",
       "      <td>0.0</td>\n",
       "      <td>1.0</td>\n",
       "      <td>0.0</td>\n",
       "      <td>0.0</td>\n",
       "      <td>0.0</td>\n",
       "      <td>0.0</td>\n",
       "      <td>0.0</td>\n",
       "      <td>0.0</td>\n",
       "    </tr>\n",
       "    <tr>\n",
       "      <th>...</th>\n",
       "      <td>...</td>\n",
       "      <td>...</td>\n",
       "      <td>...</td>\n",
       "      <td>...</td>\n",
       "      <td>...</td>\n",
       "      <td>...</td>\n",
       "      <td>...</td>\n",
       "      <td>...</td>\n",
       "      <td>...</td>\n",
       "      <td>...</td>\n",
       "      <td>...</td>\n",
       "      <td>...</td>\n",
       "      <td>...</td>\n",
       "      <td>...</td>\n",
       "      <td>...</td>\n",
       "      <td>...</td>\n",
       "      <td>...</td>\n",
       "      <td>...</td>\n",
       "      <td>...</td>\n",
       "      <td>...</td>\n",
       "      <td>...</td>\n",
       "    </tr>\n",
       "    <tr>\n",
       "      <th>8094</th>\n",
       "      <td>e</td>\n",
       "      <td>1.0</td>\n",
       "      <td>0.0</td>\n",
       "      <td>0.0</td>\n",
       "      <td>0.0</td>\n",
       "      <td>0.0</td>\n",
       "      <td>0.0</td>\n",
       "      <td>0.0</td>\n",
       "      <td>0.0</td>\n",
       "      <td>1.0</td>\n",
       "      <td>...</td>\n",
       "      <td>0.0</td>\n",
       "      <td>0.0</td>\n",
       "      <td>0.0</td>\n",
       "      <td>0.0</td>\n",
       "      <td>1.0</td>\n",
       "      <td>0.0</td>\n",
       "      <td>0.0</td>\n",
       "      <td>0.0</td>\n",
       "      <td>0.0</td>\n",
       "      <td>0.0</td>\n",
       "    </tr>\n",
       "    <tr>\n",
       "      <th>8095</th>\n",
       "      <td>p</td>\n",
       "      <td>0.0</td>\n",
       "      <td>0.0</td>\n",
       "      <td>0.0</td>\n",
       "      <td>0.0</td>\n",
       "      <td>0.0</td>\n",
       "      <td>1.0</td>\n",
       "      <td>0.0</td>\n",
       "      <td>0.0</td>\n",
       "      <td>0.0</td>\n",
       "      <td>...</td>\n",
       "      <td>0.0</td>\n",
       "      <td>0.0</td>\n",
       "      <td>0.0</td>\n",
       "      <td>1.0</td>\n",
       "      <td>0.0</td>\n",
       "      <td>0.0</td>\n",
       "      <td>0.0</td>\n",
       "      <td>0.0</td>\n",
       "      <td>0.0</td>\n",
       "      <td>0.0</td>\n",
       "    </tr>\n",
       "    <tr>\n",
       "      <th>8096</th>\n",
       "      <td>e</td>\n",
       "      <td>0.0</td>\n",
       "      <td>0.0</td>\n",
       "      <td>0.0</td>\n",
       "      <td>1.0</td>\n",
       "      <td>0.0</td>\n",
       "      <td>0.0</td>\n",
       "      <td>1.0</td>\n",
       "      <td>0.0</td>\n",
       "      <td>0.0</td>\n",
       "      <td>...</td>\n",
       "      <td>0.0</td>\n",
       "      <td>0.0</td>\n",
       "      <td>0.0</td>\n",
       "      <td>0.0</td>\n",
       "      <td>1.0</td>\n",
       "      <td>0.0</td>\n",
       "      <td>0.0</td>\n",
       "      <td>0.0</td>\n",
       "      <td>0.0</td>\n",
       "      <td>0.0</td>\n",
       "    </tr>\n",
       "    <tr>\n",
       "      <th>8097</th>\n",
       "      <td>p</td>\n",
       "      <td>0.0</td>\n",
       "      <td>0.0</td>\n",
       "      <td>0.0</td>\n",
       "      <td>1.0</td>\n",
       "      <td>0.0</td>\n",
       "      <td>0.0</td>\n",
       "      <td>0.0</td>\n",
       "      <td>0.0</td>\n",
       "      <td>0.0</td>\n",
       "      <td>...</td>\n",
       "      <td>0.0</td>\n",
       "      <td>1.0</td>\n",
       "      <td>0.0</td>\n",
       "      <td>0.0</td>\n",
       "      <td>0.0</td>\n",
       "      <td>1.0</td>\n",
       "      <td>0.0</td>\n",
       "      <td>0.0</td>\n",
       "      <td>0.0</td>\n",
       "      <td>0.0</td>\n",
       "    </tr>\n",
       "    <tr>\n",
       "      <th>8098</th>\n",
       "      <td>p</td>\n",
       "      <td>0.0</td>\n",
       "      <td>0.0</td>\n",
       "      <td>0.0</td>\n",
       "      <td>1.0</td>\n",
       "      <td>0.0</td>\n",
       "      <td>0.0</td>\n",
       "      <td>0.0</td>\n",
       "      <td>0.0</td>\n",
       "      <td>1.0</td>\n",
       "      <td>...</td>\n",
       "      <td>0.0</td>\n",
       "      <td>1.0</td>\n",
       "      <td>0.0</td>\n",
       "      <td>1.0</td>\n",
       "      <td>0.0</td>\n",
       "      <td>0.0</td>\n",
       "      <td>0.0</td>\n",
       "      <td>0.0</td>\n",
       "      <td>0.0</td>\n",
       "      <td>0.0</td>\n",
       "    </tr>\n",
       "    <tr>\n",
       "      <th>8099</th>\n",
       "      <td>e</td>\n",
       "      <td>0.0</td>\n",
       "      <td>0.0</td>\n",
       "      <td>0.0</td>\n",
       "      <td>1.0</td>\n",
       "      <td>0.0</td>\n",
       "      <td>0.0</td>\n",
       "      <td>1.0</td>\n",
       "      <td>0.0</td>\n",
       "      <td>0.0</td>\n",
       "      <td>...</td>\n",
       "      <td>1.0</td>\n",
       "      <td>0.0</td>\n",
       "      <td>0.0</td>\n",
       "      <td>0.0</td>\n",
       "      <td>1.0</td>\n",
       "      <td>0.0</td>\n",
       "      <td>0.0</td>\n",
       "      <td>0.0</td>\n",
       "      <td>0.0</td>\n",
       "      <td>0.0</td>\n",
       "    </tr>\n",
       "    <tr>\n",
       "      <th>8100</th>\n",
       "      <td>e</td>\n",
       "      <td>0.0</td>\n",
       "      <td>0.0</td>\n",
       "      <td>1.0</td>\n",
       "      <td>0.0</td>\n",
       "      <td>0.0</td>\n",
       "      <td>0.0</td>\n",
       "      <td>0.0</td>\n",
       "      <td>0.0</td>\n",
       "      <td>1.0</td>\n",
       "      <td>...</td>\n",
       "      <td>0.0</td>\n",
       "      <td>1.0</td>\n",
       "      <td>0.0</td>\n",
       "      <td>0.0</td>\n",
       "      <td>0.0</td>\n",
       "      <td>1.0</td>\n",
       "      <td>0.0</td>\n",
       "      <td>0.0</td>\n",
       "      <td>0.0</td>\n",
       "      <td>0.0</td>\n",
       "    </tr>\n",
       "    <tr>\n",
       "      <th>8101</th>\n",
       "      <td>p</td>\n",
       "      <td>0.0</td>\n",
       "      <td>0.0</td>\n",
       "      <td>0.0</td>\n",
       "      <td>1.0</td>\n",
       "      <td>0.0</td>\n",
       "      <td>0.0</td>\n",
       "      <td>0.0</td>\n",
       "      <td>0.0</td>\n",
       "      <td>1.0</td>\n",
       "      <td>...</td>\n",
       "      <td>0.0</td>\n",
       "      <td>1.0</td>\n",
       "      <td>0.0</td>\n",
       "      <td>0.0</td>\n",
       "      <td>0.0</td>\n",
       "      <td>0.0</td>\n",
       "      <td>0.0</td>\n",
       "      <td>1.0</td>\n",
       "      <td>0.0</td>\n",
       "      <td>0.0</td>\n",
       "    </tr>\n",
       "    <tr>\n",
       "      <th>8102</th>\n",
       "      <td>e</td>\n",
       "      <td>0.0</td>\n",
       "      <td>0.0</td>\n",
       "      <td>0.0</td>\n",
       "      <td>0.0</td>\n",
       "      <td>0.0</td>\n",
       "      <td>1.0</td>\n",
       "      <td>0.0</td>\n",
       "      <td>0.0</td>\n",
       "      <td>1.0</td>\n",
       "      <td>...</td>\n",
       "      <td>0.0</td>\n",
       "      <td>0.0</td>\n",
       "      <td>0.0</td>\n",
       "      <td>0.0</td>\n",
       "      <td>0.0</td>\n",
       "      <td>1.0</td>\n",
       "      <td>0.0</td>\n",
       "      <td>0.0</td>\n",
       "      <td>0.0</td>\n",
       "      <td>0.0</td>\n",
       "    </tr>\n",
       "    <tr>\n",
       "      <th>8103</th>\n",
       "      <td>e</td>\n",
       "      <td>0.0</td>\n",
       "      <td>0.0</td>\n",
       "      <td>0.0</td>\n",
       "      <td>1.0</td>\n",
       "      <td>0.0</td>\n",
       "      <td>0.0</td>\n",
       "      <td>0.0</td>\n",
       "      <td>0.0</td>\n",
       "      <td>1.0</td>\n",
       "      <td>...</td>\n",
       "      <td>0.0</td>\n",
       "      <td>0.0</td>\n",
       "      <td>0.0</td>\n",
       "      <td>0.0</td>\n",
       "      <td>0.0</td>\n",
       "      <td>1.0</td>\n",
       "      <td>0.0</td>\n",
       "      <td>0.0</td>\n",
       "      <td>0.0</td>\n",
       "      <td>0.0</td>\n",
       "    </tr>\n",
       "    <tr>\n",
       "      <th>8104</th>\n",
       "      <td>e</td>\n",
       "      <td>0.0</td>\n",
       "      <td>0.0</td>\n",
       "      <td>0.0</td>\n",
       "      <td>1.0</td>\n",
       "      <td>0.0</td>\n",
       "      <td>0.0</td>\n",
       "      <td>0.0</td>\n",
       "      <td>0.0</td>\n",
       "      <td>1.0</td>\n",
       "      <td>...</td>\n",
       "      <td>0.0</td>\n",
       "      <td>1.0</td>\n",
       "      <td>0.0</td>\n",
       "      <td>0.0</td>\n",
       "      <td>0.0</td>\n",
       "      <td>1.0</td>\n",
       "      <td>0.0</td>\n",
       "      <td>0.0</td>\n",
       "      <td>0.0</td>\n",
       "      <td>0.0</td>\n",
       "    </tr>\n",
       "    <tr>\n",
       "      <th>8105</th>\n",
       "      <td>e</td>\n",
       "      <td>0.0</td>\n",
       "      <td>0.0</td>\n",
       "      <td>0.0</td>\n",
       "      <td>1.0</td>\n",
       "      <td>0.0</td>\n",
       "      <td>0.0</td>\n",
       "      <td>0.0</td>\n",
       "      <td>0.0</td>\n",
       "      <td>1.0</td>\n",
       "      <td>...</td>\n",
       "      <td>0.0</td>\n",
       "      <td>1.0</td>\n",
       "      <td>0.0</td>\n",
       "      <td>0.0</td>\n",
       "      <td>0.0</td>\n",
       "      <td>1.0</td>\n",
       "      <td>0.0</td>\n",
       "      <td>0.0</td>\n",
       "      <td>0.0</td>\n",
       "      <td>0.0</td>\n",
       "    </tr>\n",
       "    <tr>\n",
       "      <th>8106</th>\n",
       "      <td>e</td>\n",
       "      <td>0.0</td>\n",
       "      <td>0.0</td>\n",
       "      <td>0.0</td>\n",
       "      <td>1.0</td>\n",
       "      <td>0.0</td>\n",
       "      <td>0.0</td>\n",
       "      <td>0.0</td>\n",
       "      <td>0.0</td>\n",
       "      <td>1.0</td>\n",
       "      <td>...</td>\n",
       "      <td>0.0</td>\n",
       "      <td>1.0</td>\n",
       "      <td>0.0</td>\n",
       "      <td>0.0</td>\n",
       "      <td>0.0</td>\n",
       "      <td>1.0</td>\n",
       "      <td>0.0</td>\n",
       "      <td>0.0</td>\n",
       "      <td>0.0</td>\n",
       "      <td>0.0</td>\n",
       "    </tr>\n",
       "    <tr>\n",
       "      <th>8107</th>\n",
       "      <td>e</td>\n",
       "      <td>0.0</td>\n",
       "      <td>0.0</td>\n",
       "      <td>0.0</td>\n",
       "      <td>0.0</td>\n",
       "      <td>0.0</td>\n",
       "      <td>1.0</td>\n",
       "      <td>0.0</td>\n",
       "      <td>0.0</td>\n",
       "      <td>1.0</td>\n",
       "      <td>...</td>\n",
       "      <td>0.0</td>\n",
       "      <td>0.0</td>\n",
       "      <td>0.0</td>\n",
       "      <td>0.0</td>\n",
       "      <td>0.0</td>\n",
       "      <td>1.0</td>\n",
       "      <td>0.0</td>\n",
       "      <td>0.0</td>\n",
       "      <td>0.0</td>\n",
       "      <td>0.0</td>\n",
       "    </tr>\n",
       "    <tr>\n",
       "      <th>8108</th>\n",
       "      <td>p</td>\n",
       "      <td>0.0</td>\n",
       "      <td>0.0</td>\n",
       "      <td>0.0</td>\n",
       "      <td>1.0</td>\n",
       "      <td>0.0</td>\n",
       "      <td>0.0</td>\n",
       "      <td>0.0</td>\n",
       "      <td>0.0</td>\n",
       "      <td>0.0</td>\n",
       "      <td>...</td>\n",
       "      <td>0.0</td>\n",
       "      <td>1.0</td>\n",
       "      <td>0.0</td>\n",
       "      <td>0.0</td>\n",
       "      <td>0.0</td>\n",
       "      <td>1.0</td>\n",
       "      <td>0.0</td>\n",
       "      <td>0.0</td>\n",
       "      <td>0.0</td>\n",
       "      <td>0.0</td>\n",
       "    </tr>\n",
       "    <tr>\n",
       "      <th>8109</th>\n",
       "      <td>e</td>\n",
       "      <td>1.0</td>\n",
       "      <td>0.0</td>\n",
       "      <td>0.0</td>\n",
       "      <td>0.0</td>\n",
       "      <td>0.0</td>\n",
       "      <td>0.0</td>\n",
       "      <td>0.0</td>\n",
       "      <td>0.0</td>\n",
       "      <td>1.0</td>\n",
       "      <td>...</td>\n",
       "      <td>0.0</td>\n",
       "      <td>0.0</td>\n",
       "      <td>0.0</td>\n",
       "      <td>0.0</td>\n",
       "      <td>1.0</td>\n",
       "      <td>0.0</td>\n",
       "      <td>0.0</td>\n",
       "      <td>0.0</td>\n",
       "      <td>0.0</td>\n",
       "      <td>0.0</td>\n",
       "    </tr>\n",
       "    <tr>\n",
       "      <th>8110</th>\n",
       "      <td>e</td>\n",
       "      <td>0.0</td>\n",
       "      <td>0.0</td>\n",
       "      <td>0.0</td>\n",
       "      <td>0.0</td>\n",
       "      <td>0.0</td>\n",
       "      <td>1.0</td>\n",
       "      <td>0.0</td>\n",
       "      <td>0.0</td>\n",
       "      <td>1.0</td>\n",
       "      <td>...</td>\n",
       "      <td>0.0</td>\n",
       "      <td>1.0</td>\n",
       "      <td>0.0</td>\n",
       "      <td>0.0</td>\n",
       "      <td>0.0</td>\n",
       "      <td>1.0</td>\n",
       "      <td>0.0</td>\n",
       "      <td>0.0</td>\n",
       "      <td>0.0</td>\n",
       "      <td>0.0</td>\n",
       "    </tr>\n",
       "    <tr>\n",
       "      <th>8111</th>\n",
       "      <td>e</td>\n",
       "      <td>0.0</td>\n",
       "      <td>0.0</td>\n",
       "      <td>0.0</td>\n",
       "      <td>1.0</td>\n",
       "      <td>0.0</td>\n",
       "      <td>0.0</td>\n",
       "      <td>0.0</td>\n",
       "      <td>0.0</td>\n",
       "      <td>1.0</td>\n",
       "      <td>...</td>\n",
       "      <td>0.0</td>\n",
       "      <td>0.0</td>\n",
       "      <td>0.0</td>\n",
       "      <td>0.0</td>\n",
       "      <td>1.0</td>\n",
       "      <td>0.0</td>\n",
       "      <td>0.0</td>\n",
       "      <td>0.0</td>\n",
       "      <td>0.0</td>\n",
       "      <td>0.0</td>\n",
       "    </tr>\n",
       "    <tr>\n",
       "      <th>8112</th>\n",
       "      <td>e</td>\n",
       "      <td>0.0</td>\n",
       "      <td>0.0</td>\n",
       "      <td>0.0</td>\n",
       "      <td>1.0</td>\n",
       "      <td>0.0</td>\n",
       "      <td>0.0</td>\n",
       "      <td>0.0</td>\n",
       "      <td>0.0</td>\n",
       "      <td>1.0</td>\n",
       "      <td>...</td>\n",
       "      <td>0.0</td>\n",
       "      <td>1.0</td>\n",
       "      <td>0.0</td>\n",
       "      <td>0.0</td>\n",
       "      <td>0.0</td>\n",
       "      <td>1.0</td>\n",
       "      <td>0.0</td>\n",
       "      <td>0.0</td>\n",
       "      <td>0.0</td>\n",
       "      <td>0.0</td>\n",
       "    </tr>\n",
       "    <tr>\n",
       "      <th>8113</th>\n",
       "      <td>p</td>\n",
       "      <td>0.0</td>\n",
       "      <td>0.0</td>\n",
       "      <td>0.0</td>\n",
       "      <td>1.0</td>\n",
       "      <td>0.0</td>\n",
       "      <td>0.0</td>\n",
       "      <td>0.0</td>\n",
       "      <td>0.0</td>\n",
       "      <td>0.0</td>\n",
       "      <td>...</td>\n",
       "      <td>0.0</td>\n",
       "      <td>1.0</td>\n",
       "      <td>0.0</td>\n",
       "      <td>1.0</td>\n",
       "      <td>0.0</td>\n",
       "      <td>0.0</td>\n",
       "      <td>0.0</td>\n",
       "      <td>0.0</td>\n",
       "      <td>0.0</td>\n",
       "      <td>0.0</td>\n",
       "    </tr>\n",
       "    <tr>\n",
       "      <th>8114</th>\n",
       "      <td>p</td>\n",
       "      <td>0.0</td>\n",
       "      <td>0.0</td>\n",
       "      <td>1.0</td>\n",
       "      <td>0.0</td>\n",
       "      <td>0.0</td>\n",
       "      <td>0.0</td>\n",
       "      <td>0.0</td>\n",
       "      <td>0.0</td>\n",
       "      <td>0.0</td>\n",
       "      <td>...</td>\n",
       "      <td>0.0</td>\n",
       "      <td>0.0</td>\n",
       "      <td>0.0</td>\n",
       "      <td>1.0</td>\n",
       "      <td>0.0</td>\n",
       "      <td>0.0</td>\n",
       "      <td>0.0</td>\n",
       "      <td>0.0</td>\n",
       "      <td>0.0</td>\n",
       "      <td>0.0</td>\n",
       "    </tr>\n",
       "    <tr>\n",
       "      <th>8115</th>\n",
       "      <td>e</td>\n",
       "      <td>0.0</td>\n",
       "      <td>0.0</td>\n",
       "      <td>0.0</td>\n",
       "      <td>0.0</td>\n",
       "      <td>0.0</td>\n",
       "      <td>1.0</td>\n",
       "      <td>0.0</td>\n",
       "      <td>0.0</td>\n",
       "      <td>1.0</td>\n",
       "      <td>...</td>\n",
       "      <td>0.0</td>\n",
       "      <td>1.0</td>\n",
       "      <td>0.0</td>\n",
       "      <td>0.0</td>\n",
       "      <td>0.0</td>\n",
       "      <td>1.0</td>\n",
       "      <td>0.0</td>\n",
       "      <td>0.0</td>\n",
       "      <td>0.0</td>\n",
       "      <td>0.0</td>\n",
       "    </tr>\n",
       "    <tr>\n",
       "      <th>8116</th>\n",
       "      <td>p</td>\n",
       "      <td>0.0</td>\n",
       "      <td>0.0</td>\n",
       "      <td>0.0</td>\n",
       "      <td>1.0</td>\n",
       "      <td>0.0</td>\n",
       "      <td>0.0</td>\n",
       "      <td>0.0</td>\n",
       "      <td>0.0</td>\n",
       "      <td>0.0</td>\n",
       "      <td>...</td>\n",
       "      <td>0.0</td>\n",
       "      <td>1.0</td>\n",
       "      <td>0.0</td>\n",
       "      <td>0.0</td>\n",
       "      <td>0.0</td>\n",
       "      <td>1.0</td>\n",
       "      <td>0.0</td>\n",
       "      <td>0.0</td>\n",
       "      <td>0.0</td>\n",
       "      <td>0.0</td>\n",
       "    </tr>\n",
       "    <tr>\n",
       "      <th>8117</th>\n",
       "      <td>p</td>\n",
       "      <td>0.0</td>\n",
       "      <td>0.0</td>\n",
       "      <td>0.0</td>\n",
       "      <td>1.0</td>\n",
       "      <td>0.0</td>\n",
       "      <td>0.0</td>\n",
       "      <td>0.0</td>\n",
       "      <td>0.0</td>\n",
       "      <td>1.0</td>\n",
       "      <td>...</td>\n",
       "      <td>0.0</td>\n",
       "      <td>1.0</td>\n",
       "      <td>0.0</td>\n",
       "      <td>1.0</td>\n",
       "      <td>0.0</td>\n",
       "      <td>0.0</td>\n",
       "      <td>0.0</td>\n",
       "      <td>0.0</td>\n",
       "      <td>0.0</td>\n",
       "      <td>0.0</td>\n",
       "    </tr>\n",
       "    <tr>\n",
       "      <th>8118</th>\n",
       "      <td>p</td>\n",
       "      <td>0.0</td>\n",
       "      <td>0.0</td>\n",
       "      <td>0.0</td>\n",
       "      <td>1.0</td>\n",
       "      <td>0.0</td>\n",
       "      <td>0.0</td>\n",
       "      <td>0.0</td>\n",
       "      <td>0.0</td>\n",
       "      <td>0.0</td>\n",
       "      <td>...</td>\n",
       "      <td>0.0</td>\n",
       "      <td>1.0</td>\n",
       "      <td>0.0</td>\n",
       "      <td>1.0</td>\n",
       "      <td>0.0</td>\n",
       "      <td>0.0</td>\n",
       "      <td>0.0</td>\n",
       "      <td>0.0</td>\n",
       "      <td>0.0</td>\n",
       "      <td>0.0</td>\n",
       "    </tr>\n",
       "    <tr>\n",
       "      <th>8119</th>\n",
       "      <td>e</td>\n",
       "      <td>0.0</td>\n",
       "      <td>0.0</td>\n",
       "      <td>0.0</td>\n",
       "      <td>1.0</td>\n",
       "      <td>0.0</td>\n",
       "      <td>0.0</td>\n",
       "      <td>0.0</td>\n",
       "      <td>0.0</td>\n",
       "      <td>1.0</td>\n",
       "      <td>...</td>\n",
       "      <td>0.0</td>\n",
       "      <td>0.0</td>\n",
       "      <td>0.0</td>\n",
       "      <td>0.0</td>\n",
       "      <td>0.0</td>\n",
       "      <td>1.0</td>\n",
       "      <td>0.0</td>\n",
       "      <td>0.0</td>\n",
       "      <td>0.0</td>\n",
       "      <td>0.0</td>\n",
       "    </tr>\n",
       "    <tr>\n",
       "      <th>8120</th>\n",
       "      <td>e</td>\n",
       "      <td>0.0</td>\n",
       "      <td>0.0</td>\n",
       "      <td>0.0</td>\n",
       "      <td>0.0</td>\n",
       "      <td>0.0</td>\n",
       "      <td>1.0</td>\n",
       "      <td>0.0</td>\n",
       "      <td>0.0</td>\n",
       "      <td>1.0</td>\n",
       "      <td>...</td>\n",
       "      <td>0.0</td>\n",
       "      <td>1.0</td>\n",
       "      <td>0.0</td>\n",
       "      <td>0.0</td>\n",
       "      <td>0.0</td>\n",
       "      <td>1.0</td>\n",
       "      <td>0.0</td>\n",
       "      <td>0.0</td>\n",
       "      <td>0.0</td>\n",
       "      <td>0.0</td>\n",
       "    </tr>\n",
       "    <tr>\n",
       "      <th>8121</th>\n",
       "      <td>e</td>\n",
       "      <td>0.0</td>\n",
       "      <td>0.0</td>\n",
       "      <td>1.0</td>\n",
       "      <td>0.0</td>\n",
       "      <td>0.0</td>\n",
       "      <td>0.0</td>\n",
       "      <td>0.0</td>\n",
       "      <td>0.0</td>\n",
       "      <td>1.0</td>\n",
       "      <td>...</td>\n",
       "      <td>0.0</td>\n",
       "      <td>0.0</td>\n",
       "      <td>0.0</td>\n",
       "      <td>0.0</td>\n",
       "      <td>0.0</td>\n",
       "      <td>1.0</td>\n",
       "      <td>0.0</td>\n",
       "      <td>0.0</td>\n",
       "      <td>0.0</td>\n",
       "      <td>0.0</td>\n",
       "    </tr>\n",
       "    <tr>\n",
       "      <th>8122</th>\n",
       "      <td>p</td>\n",
       "      <td>0.0</td>\n",
       "      <td>0.0</td>\n",
       "      <td>0.0</td>\n",
       "      <td>1.0</td>\n",
       "      <td>0.0</td>\n",
       "      <td>0.0</td>\n",
       "      <td>0.0</td>\n",
       "      <td>0.0</td>\n",
       "      <td>0.0</td>\n",
       "      <td>...</td>\n",
       "      <td>0.0</td>\n",
       "      <td>1.0</td>\n",
       "      <td>0.0</td>\n",
       "      <td>0.0</td>\n",
       "      <td>0.0</td>\n",
       "      <td>1.0</td>\n",
       "      <td>0.0</td>\n",
       "      <td>0.0</td>\n",
       "      <td>0.0</td>\n",
       "      <td>0.0</td>\n",
       "    </tr>\n",
       "    <tr>\n",
       "      <th>8123</th>\n",
       "      <td>e</td>\n",
       "      <td>0.0</td>\n",
       "      <td>0.0</td>\n",
       "      <td>0.0</td>\n",
       "      <td>0.0</td>\n",
       "      <td>0.0</td>\n",
       "      <td>1.0</td>\n",
       "      <td>0.0</td>\n",
       "      <td>0.0</td>\n",
       "      <td>1.0</td>\n",
       "      <td>...</td>\n",
       "      <td>0.0</td>\n",
       "      <td>0.0</td>\n",
       "      <td>0.0</td>\n",
       "      <td>0.0</td>\n",
       "      <td>0.0</td>\n",
       "      <td>1.0</td>\n",
       "      <td>0.0</td>\n",
       "      <td>0.0</td>\n",
       "      <td>0.0</td>\n",
       "      <td>0.0</td>\n",
       "    </tr>\n",
       "  </tbody>\n",
       "</table>\n",
       "<p>8124 rows × 118 columns</p>\n",
       "</div>"
      ],
      "text/plain": [
       "     Class    0    1    2    3    4    5    6    7    8 ...   107  108  109  \\\n",
       "0        p  0.0  0.0  0.0  0.0  0.0  1.0  0.0  0.0  1.0 ...   1.0  0.0  0.0   \n",
       "1        e  0.0  0.0  0.0  0.0  0.0  1.0  0.0  0.0  1.0 ...   0.0  0.0  0.0   \n",
       "2        e  1.0  0.0  0.0  0.0  0.0  0.0  0.0  0.0  1.0 ...   0.0  0.0  0.0   \n",
       "3        p  0.0  0.0  0.0  0.0  0.0  1.0  0.0  0.0  0.0 ...   1.0  0.0  0.0   \n",
       "4        e  0.0  0.0  0.0  0.0  0.0  1.0  0.0  0.0  1.0 ...   0.0  0.0  0.0   \n",
       "5        e  0.0  0.0  0.0  0.0  0.0  1.0  0.0  0.0  0.0 ...   0.0  0.0  0.0   \n",
       "6        e  1.0  0.0  0.0  0.0  0.0  0.0  0.0  0.0  1.0 ...   0.0  0.0  0.0   \n",
       "7        e  1.0  0.0  0.0  0.0  0.0  0.0  0.0  0.0  0.0 ...   1.0  0.0  0.0   \n",
       "8        p  0.0  0.0  0.0  0.0  0.0  1.0  0.0  0.0  0.0 ...   0.0  1.0  0.0   \n",
       "9        e  1.0  0.0  0.0  0.0  0.0  0.0  0.0  0.0  1.0 ...   1.0  0.0  0.0   \n",
       "10       e  0.0  0.0  0.0  0.0  0.0  1.0  0.0  0.0  0.0 ...   0.0  0.0  0.0   \n",
       "11       e  0.0  0.0  0.0  0.0  0.0  1.0  0.0  0.0  0.0 ...   1.0  0.0  0.0   \n",
       "12       e  1.0  0.0  0.0  0.0  0.0  0.0  0.0  0.0  1.0 ...   1.0  0.0  0.0   \n",
       "13       p  0.0  0.0  0.0  0.0  0.0  1.0  0.0  0.0  0.0 ...   0.0  1.0  0.0   \n",
       "14       e  0.0  0.0  0.0  0.0  0.0  1.0  1.0  0.0  0.0 ...   0.0  0.0  0.0   \n",
       "15       e  0.0  0.0  0.0  0.0  1.0  0.0  1.0  0.0  0.0 ...   0.0  0.0  1.0   \n",
       "16       e  0.0  0.0  1.0  0.0  0.0  0.0  1.0  0.0  0.0 ...   0.0  0.0  0.0   \n",
       "17       p  0.0  0.0  0.0  0.0  0.0  1.0  0.0  0.0  1.0 ...   1.0  0.0  0.0   \n",
       "18       p  0.0  0.0  0.0  0.0  0.0  1.0  0.0  0.0  0.0 ...   1.0  0.0  0.0   \n",
       "19       p  0.0  0.0  0.0  0.0  0.0  1.0  0.0  0.0  1.0 ...   1.0  0.0  0.0   \n",
       "20       e  1.0  0.0  0.0  0.0  0.0  0.0  0.0  0.0  1.0 ...   1.0  0.0  0.0   \n",
       "21       p  0.0  0.0  0.0  0.0  0.0  1.0  0.0  0.0  0.0 ...   0.0  1.0  0.0   \n",
       "22       e  1.0  0.0  0.0  0.0  0.0  0.0  0.0  0.0  0.0 ...   1.0  0.0  0.0   \n",
       "23       e  1.0  0.0  0.0  0.0  0.0  0.0  0.0  0.0  0.0 ...   0.0  0.0  0.0   \n",
       "24       e  1.0  0.0  0.0  0.0  0.0  0.0  0.0  0.0  1.0 ...   1.0  0.0  0.0   \n",
       "25       p  0.0  0.0  1.0  0.0  0.0  0.0  0.0  0.0  1.0 ...   0.0  1.0  0.0   \n",
       "26       e  0.0  0.0  0.0  0.0  0.0  1.0  0.0  0.0  0.0 ...   0.0  0.0  0.0   \n",
       "27       e  0.0  0.0  0.0  0.0  0.0  1.0  0.0  0.0  0.0 ...   0.0  0.0  0.0   \n",
       "28       e  0.0  0.0  1.0  0.0  0.0  0.0  1.0  0.0  0.0 ...   0.0  0.0  1.0   \n",
       "29       e  0.0  0.0  0.0  0.0  0.0  1.0  0.0  0.0  1.0 ...   0.0  1.0  0.0   \n",
       "...    ...  ...  ...  ...  ...  ...  ...  ...  ...  ... ...   ...  ...  ...   \n",
       "8094     e  1.0  0.0  0.0  0.0  0.0  0.0  0.0  0.0  1.0 ...   0.0  0.0  0.0   \n",
       "8095     p  0.0  0.0  0.0  0.0  0.0  1.0  0.0  0.0  0.0 ...   0.0  0.0  0.0   \n",
       "8096     e  0.0  0.0  0.0  1.0  0.0  0.0  1.0  0.0  0.0 ...   0.0  0.0  0.0   \n",
       "8097     p  0.0  0.0  0.0  1.0  0.0  0.0  0.0  0.0  0.0 ...   0.0  1.0  0.0   \n",
       "8098     p  0.0  0.0  0.0  1.0  0.0  0.0  0.0  0.0  1.0 ...   0.0  1.0  0.0   \n",
       "8099     e  0.0  0.0  0.0  1.0  0.0  0.0  1.0  0.0  0.0 ...   1.0  0.0  0.0   \n",
       "8100     e  0.0  0.0  1.0  0.0  0.0  0.0  0.0  0.0  1.0 ...   0.0  1.0  0.0   \n",
       "8101     p  0.0  0.0  0.0  1.0  0.0  0.0  0.0  0.0  1.0 ...   0.0  1.0  0.0   \n",
       "8102     e  0.0  0.0  0.0  0.0  0.0  1.0  0.0  0.0  1.0 ...   0.0  0.0  0.0   \n",
       "8103     e  0.0  0.0  0.0  1.0  0.0  0.0  0.0  0.0  1.0 ...   0.0  0.0  0.0   \n",
       "8104     e  0.0  0.0  0.0  1.0  0.0  0.0  0.0  0.0  1.0 ...   0.0  1.0  0.0   \n",
       "8105     e  0.0  0.0  0.0  1.0  0.0  0.0  0.0  0.0  1.0 ...   0.0  1.0  0.0   \n",
       "8106     e  0.0  0.0  0.0  1.0  0.0  0.0  0.0  0.0  1.0 ...   0.0  1.0  0.0   \n",
       "8107     e  0.0  0.0  0.0  0.0  0.0  1.0  0.0  0.0  1.0 ...   0.0  0.0  0.0   \n",
       "8108     p  0.0  0.0  0.0  1.0  0.0  0.0  0.0  0.0  0.0 ...   0.0  1.0  0.0   \n",
       "8109     e  1.0  0.0  0.0  0.0  0.0  0.0  0.0  0.0  1.0 ...   0.0  0.0  0.0   \n",
       "8110     e  0.0  0.0  0.0  0.0  0.0  1.0  0.0  0.0  1.0 ...   0.0  1.0  0.0   \n",
       "8111     e  0.0  0.0  0.0  1.0  0.0  0.0  0.0  0.0  1.0 ...   0.0  0.0  0.0   \n",
       "8112     e  0.0  0.0  0.0  1.0  0.0  0.0  0.0  0.0  1.0 ...   0.0  1.0  0.0   \n",
       "8113     p  0.0  0.0  0.0  1.0  0.0  0.0  0.0  0.0  0.0 ...   0.0  1.0  0.0   \n",
       "8114     p  0.0  0.0  1.0  0.0  0.0  0.0  0.0  0.0  0.0 ...   0.0  0.0  0.0   \n",
       "8115     e  0.0  0.0  0.0  0.0  0.0  1.0  0.0  0.0  1.0 ...   0.0  1.0  0.0   \n",
       "8116     p  0.0  0.0  0.0  1.0  0.0  0.0  0.0  0.0  0.0 ...   0.0  1.0  0.0   \n",
       "8117     p  0.0  0.0  0.0  1.0  0.0  0.0  0.0  0.0  1.0 ...   0.0  1.0  0.0   \n",
       "8118     p  0.0  0.0  0.0  1.0  0.0  0.0  0.0  0.0  0.0 ...   0.0  1.0  0.0   \n",
       "8119     e  0.0  0.0  0.0  1.0  0.0  0.0  0.0  0.0  1.0 ...   0.0  0.0  0.0   \n",
       "8120     e  0.0  0.0  0.0  0.0  0.0  1.0  0.0  0.0  1.0 ...   0.0  1.0  0.0   \n",
       "8121     e  0.0  0.0  1.0  0.0  0.0  0.0  0.0  0.0  1.0 ...   0.0  0.0  0.0   \n",
       "8122     p  0.0  0.0  0.0  1.0  0.0  0.0  0.0  0.0  0.0 ...   0.0  1.0  0.0   \n",
       "8123     e  0.0  0.0  0.0  0.0  0.0  1.0  0.0  0.0  1.0 ...   0.0  0.0  0.0   \n",
       "\n",
       "      110  111  112  113  114  115  116  \n",
       "0     0.0  0.0  0.0  0.0  0.0  1.0  0.0  \n",
       "1     0.0  1.0  0.0  0.0  0.0  0.0  0.0  \n",
       "2     0.0  0.0  0.0  1.0  0.0  0.0  0.0  \n",
       "3     0.0  0.0  0.0  0.0  0.0  1.0  0.0  \n",
       "4     0.0  1.0  0.0  0.0  0.0  0.0  0.0  \n",
       "5     0.0  1.0  0.0  0.0  0.0  0.0  0.0  \n",
       "6     0.0  0.0  0.0  1.0  0.0  0.0  0.0  \n",
       "7     0.0  0.0  0.0  1.0  0.0  0.0  0.0  \n",
       "8     0.0  1.0  0.0  0.0  0.0  0.0  0.0  \n",
       "9     0.0  0.0  0.0  1.0  0.0  0.0  0.0  \n",
       "10    0.0  1.0  0.0  0.0  0.0  0.0  0.0  \n",
       "11    0.0  0.0  0.0  1.0  0.0  0.0  0.0  \n",
       "12    0.0  1.0  0.0  0.0  0.0  0.0  0.0  \n",
       "13    0.0  0.0  0.0  0.0  0.0  1.0  0.0  \n",
       "14    0.0  1.0  0.0  0.0  0.0  0.0  0.0  \n",
       "15    0.0  0.0  0.0  0.0  0.0  1.0  0.0  \n",
       "16    0.0  1.0  0.0  0.0  0.0  0.0  0.0  \n",
       "17    0.0  1.0  0.0  0.0  0.0  0.0  0.0  \n",
       "18    0.0  0.0  0.0  0.0  0.0  1.0  0.0  \n",
       "19    0.0  0.0  0.0  0.0  0.0  1.0  0.0  \n",
       "20    0.0  0.0  0.0  1.0  0.0  0.0  0.0  \n",
       "21    0.0  1.0  0.0  0.0  0.0  0.0  0.0  \n",
       "22    0.0  0.0  0.0  1.0  0.0  0.0  0.0  \n",
       "23    0.0  0.0  0.0  1.0  0.0  0.0  0.0  \n",
       "24    0.0  0.0  0.0  1.0  0.0  0.0  0.0  \n",
       "25    0.0  1.0  0.0  0.0  0.0  0.0  0.0  \n",
       "26    0.0  0.0  0.0  1.0  0.0  0.0  0.0  \n",
       "27    0.0  0.0  0.0  1.0  0.0  0.0  0.0  \n",
       "28    0.0  0.0  0.0  0.0  0.0  1.0  0.0  \n",
       "29    1.0  0.0  0.0  0.0  0.0  0.0  0.0  \n",
       "...   ...  ...  ...  ...  ...  ...  ...  \n",
       "8094  0.0  1.0  0.0  0.0  0.0  0.0  0.0  \n",
       "8095  1.0  0.0  0.0  0.0  0.0  0.0  0.0  \n",
       "8096  0.0  1.0  0.0  0.0  0.0  0.0  0.0  \n",
       "8097  0.0  0.0  1.0  0.0  0.0  0.0  0.0  \n",
       "8098  1.0  0.0  0.0  0.0  0.0  0.0  0.0  \n",
       "8099  0.0  1.0  0.0  0.0  0.0  0.0  0.0  \n",
       "8100  0.0  0.0  1.0  0.0  0.0  0.0  0.0  \n",
       "8101  0.0  0.0  0.0  0.0  1.0  0.0  0.0  \n",
       "8102  0.0  0.0  1.0  0.0  0.0  0.0  0.0  \n",
       "8103  0.0  0.0  1.0  0.0  0.0  0.0  0.0  \n",
       "8104  0.0  0.0  1.0  0.0  0.0  0.0  0.0  \n",
       "8105  0.0  0.0  1.0  0.0  0.0  0.0  0.0  \n",
       "8106  0.0  0.0  1.0  0.0  0.0  0.0  0.0  \n",
       "8107  0.0  0.0  1.0  0.0  0.0  0.0  0.0  \n",
       "8108  0.0  0.0  1.0  0.0  0.0  0.0  0.0  \n",
       "8109  0.0  1.0  0.0  0.0  0.0  0.0  0.0  \n",
       "8110  0.0  0.0  1.0  0.0  0.0  0.0  0.0  \n",
       "8111  0.0  1.0  0.0  0.0  0.0  0.0  0.0  \n",
       "8112  0.0  0.0  1.0  0.0  0.0  0.0  0.0  \n",
       "8113  1.0  0.0  0.0  0.0  0.0  0.0  0.0  \n",
       "8114  1.0  0.0  0.0  0.0  0.0  0.0  0.0  \n",
       "8115  0.0  0.0  1.0  0.0  0.0  0.0  0.0  \n",
       "8116  0.0  0.0  1.0  0.0  0.0  0.0  0.0  \n",
       "8117  1.0  0.0  0.0  0.0  0.0  0.0  0.0  \n",
       "8118  1.0  0.0  0.0  0.0  0.0  0.0  0.0  \n",
       "8119  0.0  0.0  1.0  0.0  0.0  0.0  0.0  \n",
       "8120  0.0  0.0  1.0  0.0  0.0  0.0  0.0  \n",
       "8121  0.0  0.0  1.0  0.0  0.0  0.0  0.0  \n",
       "8122  0.0  0.0  1.0  0.0  0.0  0.0  0.0  \n",
       "8123  0.0  0.0  1.0  0.0  0.0  0.0  0.0  \n",
       "\n",
       "[8124 rows x 118 columns]"
      ]
     },
     "execution_count": 443,
     "metadata": {},
     "output_type": "execute_result"
    }
   ],
   "source": [
    "data_onehot=pd.concat((data['Class'],df),axis=1)\n",
    "data_onehot"
   ]
  },
  {
   "cell_type": "code",
   "execution_count": 444,
   "metadata": {},
   "outputs": [
    {
     "data": {
      "text/plain": [
       "array([['p', 0.0, 0.0, ..., 0.0, 1.0, 0.0],\n",
       "       ['e', 0.0, 0.0, ..., 0.0, 0.0, 0.0],\n",
       "       ['e', 1.0, 0.0, ..., 0.0, 0.0, 0.0],\n",
       "       ...,\n",
       "       ['e', 0.0, 0.0, ..., 0.0, 0.0, 0.0],\n",
       "       ['p', 0.0, 0.0, ..., 0.0, 0.0, 0.0],\n",
       "       ['e', 0.0, 0.0, ..., 0.0, 0.0, 0.0]], dtype=object)"
      ]
     },
     "execution_count": 444,
     "metadata": {},
     "output_type": "execute_result"
    }
   ],
   "source": [
    "data_onehot = data_onehot.values\n",
    "data_onehot"
   ]
  },
  {
   "cell_type": "markdown",
   "metadata": {},
   "source": [
    "### 데이터 split"
   ]
  },
  {
   "cell_type": "markdown",
   "metadata": {},
   "source": [
    "원래의 dataset을 train set, validation set, test set으로 60:20:20의 비율로 구분했다."
   ]
  },
  {
   "cell_type": "code",
   "execution_count": 445,
   "metadata": {},
   "outputs": [],
   "source": [
    "import random\n",
    "random.shuffle(data_onehot)"
   ]
  },
  {
   "cell_type": "code",
   "execution_count": 446,
   "metadata": {},
   "outputs": [],
   "source": [
    "def split_list(a_list,i):\n",
    "    half = int(len(a_list)*i)\n",
    "    return a_list[:half],a_list[half:]"
   ]
  },
  {
   "cell_type": "code",
   "execution_count": 447,
   "metadata": {},
   "outputs": [
    {
     "data": {
      "text/plain": [
       "array([['p', 0.0, 0.0, ..., 0.0, 1.0, 0.0],\n",
       "       ['p', 0.0, 0.0, ..., 0.0, 1.0, 0.0],\n",
       "       ['p', 0.0, 0.0, ..., 0.0, 1.0, 0.0],\n",
       "       ...,\n",
       "       ['e', 0.0, 0.0, ..., 0.0, 0.0, 0.0],\n",
       "       ['p', 0.0, 0.0, ..., 0.0, 0.0, 0.0],\n",
       "       ['e', 0.0, 0.0, ..., 0.0, 0.0, 0.0]], dtype=object)"
      ]
     },
     "execution_count": 447,
     "metadata": {},
     "output_type": "execute_result"
    }
   ],
   "source": [
    "train_onehot,temp=split_list(data_onehot,0.6)\n",
    "valid_onehot,test_onehot=split_list(temp,0.5)\n",
    "train_onehot"
   ]
  },
  {
   "cell_type": "code",
   "execution_count": 451,
   "metadata": {},
   "outputs": [],
   "source": [
    "onehot_x = data_onehot[:,1:116]\n",
    "onehot_y = data_onehot[:,0]\n",
    "train_onehot_x = train_onehot[:,1:116]\n",
    "train_onehot_y = train_onehot[:,0]\n",
    "valid_onehot_x = valid_onehot[:,1:116]\n",
    "valid_onehot_y = valid_onehot[:,0]\n",
    "test_onehot_x = test_onehot[:,1:116]\n",
    "test_onehot_y = test_onehot[:,0]"
   ]
  },
  {
   "cell_type": "markdown",
   "metadata": {},
   "source": [
    "그리고는 attribute data와 class data를 각각 x와 y로 split하였다."
   ]
  },
  {
   "cell_type": "markdown",
   "metadata": {},
   "source": [
    "### K-Fold\n",
    "약 8000개의 instance를 가진 이 데이터 셋의 크기가 아주 크지는 않다고 생각이 되어서 Cross Validation을 한번 시도해보고자 k = 10으로 설정해 K-fold 기법을 사용해보았다.  "
   ]
  },
  {
   "cell_type": "code",
   "execution_count": 452,
   "metadata": {},
   "outputs": [],
   "source": [
    "from sklearn.model_selection import KFold\n",
    "from sklearn.model_selection import GridSearchCV\n",
    "from sklearn.model_selection import cross_val_score"
   ]
  },
  {
   "cell_type": "code",
   "execution_count": 453,
   "metadata": {},
   "outputs": [],
   "source": [
    "kf=KFold(n_splits=10)"
   ]
  },
  {
   "cell_type": "markdown",
   "metadata": {},
   "source": [
    "#### 여러 모델  알고리즘 실험 시도"
   ]
  },
  {
   "cell_type": "markdown",
   "metadata": {},
   "source": [
    "(1) Decision Tree"
   ]
  },
  {
   "cell_type": "code",
   "execution_count": 454,
   "metadata": {},
   "outputs": [],
   "source": [
    "from sklearn import tree\n",
    "decision_tree = tree.DecisionTreeClassifier()"
   ]
  },
  {
   "cell_type": "code",
   "execution_count": 455,
   "metadata": {},
   "outputs": [
    {
     "data": {
      "text/plain": [
       "1.0"
      ]
     },
     "execution_count": 455,
     "metadata": {},
     "output_type": "execute_result"
    }
   ],
   "source": [
    "score=cross_val_score(decision_tree,onehot_x,onehot_y,cv=kf,n_jobs=-1)\n",
    "score.mean()"
   ]
  },
  {
   "cell_type": "markdown",
   "metadata": {},
   "source": [
    "(2) Logistic Regression"
   ]
  },
  {
   "cell_type": "code",
   "execution_count": 456,
   "metadata": {},
   "outputs": [],
   "source": [
    "from sklearn.linear_model import LogisticRegression\n",
    "LR = LogisticRegression()"
   ]
  },
  {
   "cell_type": "code",
   "execution_count": 457,
   "metadata": {},
   "outputs": [
    {
     "data": {
      "text/plain": [
       "0.9998768472906404"
      ]
     },
     "execution_count": 457,
     "metadata": {},
     "output_type": "execute_result"
    }
   ],
   "source": [
    "score=cross_val_score(LR,onehot_x,onehot_y,cv=kf,n_jobs=-1)\n",
    "score.mean()"
   ]
  },
  {
   "cell_type": "markdown",
   "metadata": {},
   "source": [
    "(3) Perceptron"
   ]
  },
  {
   "cell_type": "code",
   "execution_count": 278,
   "metadata": {},
   "outputs": [],
   "source": [
    "from sklearn.linear_model import Perceptron\n",
    "Perceptron = Perceptron()"
   ]
  },
  {
   "cell_type": "code",
   "execution_count": 458,
   "metadata": {
    "scrolled": true
   },
   "outputs": [
    {
     "data": {
      "text/plain": [
       "0.9997536945812808"
      ]
     },
     "execution_count": 458,
     "metadata": {},
     "output_type": "execute_result"
    }
   ],
   "source": [
    "score=cross_val_score(Perceptron,onehot_x,onehot_y,cv=kf,n_jobs=-1)\n",
    "score.mean()"
   ]
  },
  {
   "cell_type": "markdown",
   "metadata": {},
   "source": [
    "(4) MLP (Multi Layered Perceptron)"
   ]
  },
  {
   "cell_type": "code",
   "execution_count": 459,
   "metadata": {},
   "outputs": [],
   "source": [
    "from sklearn.neural_network import MLPClassifier\n",
    "MLP_classifier = MLPClassifier(hidden_layer_sizes=(20,6), max_iter=100, warm_start=True)"
   ]
  },
  {
   "cell_type": "code",
   "execution_count": 460,
   "metadata": {},
   "outputs": [
    {
     "data": {
      "text/plain": [
       "0.9998768472906404"
      ]
     },
     "execution_count": 460,
     "metadata": {},
     "output_type": "execute_result"
    }
   ],
   "source": [
    "score=cross_val_score(MLP_classifier,onehot_x,onehot_y,cv=kf,n_jobs=-1)\n",
    "score.mean()"
   ]
  },
  {
   "cell_type": "markdown",
   "metadata": {},
   "source": [
    "(5) KNN (K-Nearest Neighbor)"
   ]
  },
  {
   "cell_type": "code",
   "execution_count": 105,
   "metadata": {},
   "outputs": [],
   "source": [
    "from sklearn.neighbors import KNeighborsClassifier\n",
    "KNN=KNeighborsClassifier()"
   ]
  },
  {
   "cell_type": "code",
   "execution_count": 461,
   "metadata": {},
   "outputs": [
    {
     "data": {
      "text/plain": [
       "0.9998768472906404"
      ]
     },
     "execution_count": 461,
     "metadata": {},
     "output_type": "execute_result"
    }
   ],
   "source": [
    "score=cross_val_score(KNN,onehot_x,onehot_y,cv=kf,n_jobs=-1)\n",
    "score.mean()"
   ]
  },
  {
   "cell_type": "markdown",
   "metadata": {},
   "source": [
    "(6) SVM (Support Vector Machine)"
   ]
  },
  {
   "cell_type": "code",
   "execution_count": 462,
   "metadata": {},
   "outputs": [],
   "source": [
    "from sklearn import svm\n",
    "SVM=svm.SVC(kernel='linear')"
   ]
  },
  {
   "cell_type": "code",
   "execution_count": 463,
   "metadata": {},
   "outputs": [
    {
     "data": {
      "text/plain": [
       "0.9998768472906404"
      ]
     },
     "execution_count": 463,
     "metadata": {},
     "output_type": "execute_result"
    }
   ],
   "source": [
    "score=cross_val_score(SVM,onehot_x,onehot_y,cv=kf,n_jobs=-1)\n",
    "score.mean()"
   ]
  },
  {
   "cell_type": "markdown",
   "metadata": {},
   "source": [
    "(7) Ensemble"
   ]
  },
  {
   "cell_type": "markdown",
   "metadata": {},
   "source": [
    "    (7)-a. Bagging Classifier (Bootstrap aggregating)\n",
    "    * Decision Tree를 estimator(committee 모델)로 이용했다."
   ]
  },
  {
   "cell_type": "code",
   "execution_count": 464,
   "metadata": {},
   "outputs": [],
   "source": [
    "from sklearn.ensemble import BaggingClassifier\n",
    "bagging=BaggingClassifier(tree.DecisionTreeClassifier())"
   ]
  },
  {
   "cell_type": "code",
   "execution_count": 465,
   "metadata": {},
   "outputs": [
    {
     "data": {
      "text/plain": [
       "1.0"
      ]
     },
     "execution_count": 465,
     "metadata": {},
     "output_type": "execute_result"
    }
   ],
   "source": [
    "score=cross_val_score(bagging,onehot_x,onehot_y,cv=kf,n_jobs=-1)\n",
    "score.mean()"
   ]
  },
  {
   "cell_type": "markdown",
   "metadata": {},
   "source": [
    "    (7)-b. Random Forest"
   ]
  },
  {
   "cell_type": "code",
   "execution_count": 466,
   "metadata": {},
   "outputs": [],
   "source": [
    "from sklearn.ensemble import RandomForestClassifier\n",
    "random_forest = RandomForestClassifier(n_estimators=10)"
   ]
  },
  {
   "cell_type": "code",
   "execution_count": 467,
   "metadata": {},
   "outputs": [
    {
     "data": {
      "text/plain": [
       "1.0"
      ]
     },
     "execution_count": 467,
     "metadata": {},
     "output_type": "execute_result"
    }
   ],
   "source": [
    "score=cross_val_score(random_forest,onehot_x,onehot_y,cv=kf,n_jobs=-1)\n",
    "score.mean()"
   ]
  },
  {
   "cell_type": "markdown",
   "metadata": {},
   "source": [
    "#### Cross Validation 실험 정리"
   ]
  },
  {
   "cell_type": "markdown",
   "metadata": {},
   "source": [
    "<시도한 모델 알고리즘>\n",
    "* Decision Tree\n",
    "* Logistic Regression\n",
    "* Perceptron\n",
    "* MLP\n",
    "* KNN\n",
    "* SVM with linear kernel\n",
    "* Bagging Classifier\n",
    "* Random Forest"
   ]
  },
  {
   "cell_type": "markdown",
   "metadata": {},
   "source": [
    "<결과 정리>"
   ]
  },
  {
   "cell_type": "markdown",
   "metadata": {},
   "source": [
    "| Model Algs | Decision Tree | Logistic Regression | Perceptron | Multi Layered Perceptron | K-Nearest Neighbor | Support Vector Machine | Bagging | Random Forest |\n",
    "|:--------:|:--------:|:--------:|:--------:|:--------:|:--------:|:--------:|:--------:|:--------:|\n",
    "| Cross Validation | 1.0 | 0.9998768472906404 | 0.9997536945812808 | 0.9998768472906404 | 0.9998768472906404 | 0.9998768472906404 | 1.0 | 1.0 |"
   ]
  },
  {
   "cell_type": "markdown",
   "metadata": {},
   "source": [
    "이 데이터 셋의 결과가 알고리즘에 따라 의미있는 차이를 보여주지는 않지만,\n",
    "    * DT\n",
    "    * Bagging\n",
    "    * Random Forest\n",
    "위의 4개의 알고리즘은 결과값이 1.0으로 나올 수 있는 최대치의 결과를 보여주고 있다."
   ]
  },
  {
   "cell_type": "markdown",
   "metadata": {},
   "source": [
    "### 모델에 적용해보기"
   ]
  },
  {
   "cell_type": "markdown",
   "metadata": {},
   "source": [
    "* 성능 평가 기준은 \"Precision\"으로 정하였다. 왜냐하면 Class value인 edible이 positive일 때, 실제 독이 들어 있지 않아 먹을 수 있다고 예측한 것 중에 실제로 먹을 수 있는 버섯을 잘 판단해 내는 것이 이 데이터 셋에서 중요하다고 판단했기 떄문이다.\n",
    "* positive = edible\n",
    "* precision = positive predicted value = tp/(tp+fp)"
   ]
  },
  {
   "cell_type": "markdown",
   "metadata": {},
   "source": [
    "### (1) Decision Tree"
   ]
  },
  {
   "cell_type": "markdown",
   "metadata": {},
   "source": [
    "    a. 분류 기준을 entropy로 할 때"
   ]
  },
  {
   "cell_type": "code",
   "execution_count": 530,
   "metadata": {},
   "outputs": [],
   "source": [
    "from sklearn import tree\n",
    "dt_entropy1 = tree.DecisionTreeClassifier(criterion='entropy', max_leaf_nodes=10)\n",
    "dt_entropy2 = tree.DecisionTreeClassifier(criterion='entropy', max_leaf_nodes=50)\n",
    "dt_entropy3 = tree.DecisionTreeClassifier(criterion='entropy', max_leaf_nodes=100)\n",
    "dt_entropy4 = tree.DecisionTreeClassifier(criterion='entropy', max_leaf_nodes=200)"
   ]
  },
  {
   "cell_type": "code",
   "execution_count": 531,
   "metadata": {},
   "outputs": [
    {
     "data": {
      "text/plain": [
       "DecisionTreeClassifier(class_weight=None, criterion='entropy', max_depth=None,\n",
       "            max_features=None, max_leaf_nodes=200,\n",
       "            min_impurity_decrease=0.0, min_impurity_split=None,\n",
       "            min_samples_leaf=1, min_samples_split=2,\n",
       "            min_weight_fraction_leaf=0.0, presort=False, random_state=None,\n",
       "            splitter='best')"
      ]
     },
     "execution_count": 531,
     "metadata": {},
     "output_type": "execute_result"
    }
   ],
   "source": [
    "dt_entropy1.fit(train_onehot_x, train_onehot_y)\n",
    "dt_entropy2.fit(train_onehot_x, train_onehot_y)\n",
    "dt_entropy3.fit(train_onehot_x, train_onehot_y)\n",
    "dt_entropy4.fit(train_onehot_x, train_onehot_y)"
   ]
  },
  {
   "cell_type": "code",
   "execution_count": 532,
   "metadata": {},
   "outputs": [],
   "source": [
    "from sklearn.metrics import classification_report, confusion_matrix"
   ]
  },
  {
   "cell_type": "code",
   "execution_count": 533,
   "metadata": {},
   "outputs": [],
   "source": [
    "prediction1 = dt_entropy1.predict(valid_onehot_x)\n",
    "prediction2 = dt_entropy2.predict(valid_onehot_x)\n",
    "prediction3 = dt_entropy3.predict(valid_onehot_x)\n",
    "prediction4 = dt_entropy4.predict(valid_onehot_x)"
   ]
  },
  {
   "cell_type": "code",
   "execution_count": 534,
   "metadata": {},
   "outputs": [],
   "source": [
    "tn, fp, fn, tp = confusion_matrix(prediction1,valid_onehot_y).ravel()\n",
    "precision1 = tp/(tp+fp)\n",
    "tn, fp, fn, tp = confusion_matrix(prediction2,valid_onehot_y).ravel()\n",
    "precision2 = tp/(tp+fp)\n",
    "tn, fp, fn, tp = confusion_matrix(prediction3,valid_onehot_y).ravel()\n",
    "precision3 = tp/(tp+fp)\n",
    "tn, fp, fn, tp = confusion_matrix(prediction4,valid_onehot_y).ravel()\n",
    "precision4 = tp/(tp+fp)"
   ]
  },
  {
   "cell_type": "code",
   "execution_count": 535,
   "metadata": {},
   "outputs": [
    {
     "data": {
      "text/plain": [
       "0.9455782312925171"
      ]
     },
     "execution_count": 535,
     "metadata": {},
     "output_type": "execute_result"
    }
   ],
   "source": [
    "precision1"
   ]
  },
  {
   "cell_type": "code",
   "execution_count": 536,
   "metadata": {},
   "outputs": [
    {
     "data": {
      "text/plain": [
       "0.9608843537414966"
      ]
     },
     "execution_count": 536,
     "metadata": {},
     "output_type": "execute_result"
    }
   ],
   "source": [
    "precision2"
   ]
  },
  {
   "cell_type": "code",
   "execution_count": 537,
   "metadata": {},
   "outputs": [
    {
     "data": {
      "text/plain": [
       "0.9455782312925171"
      ]
     },
     "execution_count": 537,
     "metadata": {},
     "output_type": "execute_result"
    }
   ],
   "source": [
    "precision3"
   ]
  },
  {
   "cell_type": "code",
   "execution_count": 538,
   "metadata": {},
   "outputs": [
    {
     "data": {
      "text/plain": [
       "0.9404761904761905"
      ]
     },
     "execution_count": 538,
     "metadata": {},
     "output_type": "execute_result"
    }
   ],
   "source": [
    "precision4"
   ]
  },
  {
   "cell_type": "markdown",
   "metadata": {},
   "source": [
    "    b. 분류 기준을 gini로 할 때"
   ]
  },
  {
   "cell_type": "code",
   "execution_count": 539,
   "metadata": {},
   "outputs": [],
   "source": [
    "dt_gini1 = tree.DecisionTreeClassifier(criterion='gini', max_leaf_nodes=10)\n",
    "dt_gini2 = tree.DecisionTreeClassifier(criterion='gini', max_leaf_nodes=50)\n",
    "dt_gini3 = tree.DecisionTreeClassifier(criterion='gini', max_leaf_nodes=100)\n",
    "dt_gini4 = tree.DecisionTreeClassifier(criterion='gini', max_leaf_nodes=200)"
   ]
  },
  {
   "cell_type": "code",
   "execution_count": 540,
   "metadata": {},
   "outputs": [
    {
     "data": {
      "text/plain": [
       "DecisionTreeClassifier(class_weight=None, criterion='gini', max_depth=None,\n",
       "            max_features=None, max_leaf_nodes=200,\n",
       "            min_impurity_decrease=0.0, min_impurity_split=None,\n",
       "            min_samples_leaf=1, min_samples_split=2,\n",
       "            min_weight_fraction_leaf=0.0, presort=False, random_state=None,\n",
       "            splitter='best')"
      ]
     },
     "execution_count": 540,
     "metadata": {},
     "output_type": "execute_result"
    }
   ],
   "source": [
    "dt_gini1.fit(train_onehot_x, train_onehot_y)\n",
    "dt_gini2.fit(train_onehot_x, train_onehot_y)\n",
    "dt_gini3.fit(train_onehot_x, train_onehot_y)\n",
    "dt_gini4.fit(train_onehot_x, train_onehot_y)"
   ]
  },
  {
   "cell_type": "code",
   "execution_count": 541,
   "metadata": {},
   "outputs": [],
   "source": [
    "prediction11 = dt_entropy1.predict(valid_onehot_x)\n",
    "prediction22 = dt_entropy2.predict(valid_onehot_x)\n",
    "prediction33 = dt_entropy3.predict(valid_onehot_x)\n",
    "prediction44 = dt_entropy4.predict(valid_onehot_x)"
   ]
  },
  {
   "cell_type": "code",
   "execution_count": 542,
   "metadata": {},
   "outputs": [],
   "source": [
    "tn, fp, fn, tp = confusion_matrix(prediction11,valid_onehot_y).ravel()\n",
    "precision11 = tp/(tp+fp)\n",
    "tn, fp, fn, tp = confusion_matrix(prediction22,valid_onehot_y).ravel()\n",
    "precision22 = tp/(tp+fp)\n",
    "tn, fp, fn, tp = confusion_matrix(prediction33,valid_onehot_y).ravel()\n",
    "precision33 = tp/(tp+fp)\n",
    "tn, fp, fn, tp = confusion_matrix(prediction44,valid_onehot_y).ravel()\n",
    "precision44 = tp/(tp+fp)"
   ]
  },
  {
   "cell_type": "code",
   "execution_count": 543,
   "metadata": {},
   "outputs": [
    {
     "data": {
      "text/plain": [
       "0.9455782312925171"
      ]
     },
     "execution_count": 543,
     "metadata": {},
     "output_type": "execute_result"
    }
   ],
   "source": [
    "precision11"
   ]
  },
  {
   "cell_type": "code",
   "execution_count": 544,
   "metadata": {},
   "outputs": [
    {
     "data": {
      "text/plain": [
       "0.9608843537414966"
      ]
     },
     "execution_count": 544,
     "metadata": {},
     "output_type": "execute_result"
    }
   ],
   "source": [
    "precision22"
   ]
  },
  {
   "cell_type": "code",
   "execution_count": 545,
   "metadata": {},
   "outputs": [
    {
     "data": {
      "text/plain": [
       "0.9455782312925171"
      ]
     },
     "execution_count": 545,
     "metadata": {},
     "output_type": "execute_result"
    }
   ],
   "source": [
    "precision33"
   ]
  },
  {
   "cell_type": "code",
   "execution_count": 546,
   "metadata": {},
   "outputs": [
    {
     "data": {
      "text/plain": [
       "0.9404761904761905"
      ]
     },
     "execution_count": 546,
     "metadata": {},
     "output_type": "execute_result"
    }
   ],
   "source": [
    "precision44"
   ]
  },
  {
   "attachments": {
    "image.png": {
     "image/png": "[encoded data removed]"
    }
   },
   "cell_type": "markdown",
   "metadata": {},
   "source": [
    "![image.png](attachment:image.png)"
   ]
  },
  {
   "cell_type": "markdown",
   "metadata": {},
   "source": [
    "먼저 min_leaf_nodes라는 parameter는 약 8000여개의 instance가 있는 이 데이터 셋에서 10, 50, 100, 200으로 각각 실험해보았을 때, 50일 때 precision 성능이 가장 높은 것으로 나타났는데 실험한 4개의 기준 중 200으로 설정했을 때의 최저값보다 약 2%가량 높게 나타났다.\n",
    "또 분류 기준 측면에서 entropy와 gini 두가지로 실험해보았을 때, 이 데이터 셋에서는 두 성능이 차이를 보여주지 못하고 있음을 알 수 있다.\n",
    "따라서 분류 기준을 무엇으로 할 것인가 보다는, pruning을 위한 즉, overfitting을 막기 위한 parameter 설정에 좀 더 큰 중요도를 두고 분석해야함을 알게 되었다. overfiiting의 관점에서 첫번째 기준인 min_leaf_nodes가 10인 것은 training data에 대해서 그 parameter값이 좀 더 클 때보다 overfitting이 되어서 성능이 낮게 나타났음을 생각해볼 수 있고, 또 값이 100이상이 되어 오히려 성능이 떨어지는 것은 학습 시 undefit이 되어 제대로 학습을 하지 못했기 때문이라는 것 역시 고려해볼 수 있다."
   ]
  },
  {
   "cell_type": "markdown",
   "metadata": {},
   "source": [
    "위의 실험 결과를 바탕으로, test set을 이용한 최종 성능 평가는 criterion=entropy, min_leaf_nodes=50으로 parameter를 설정한 후 진행하였다."
   ]
  },
  {
   "cell_type": "code",
   "execution_count": 557,
   "metadata": {},
   "outputs": [],
   "source": [
    "prediction_dt = dt_entropy2.predict(test_onehot_x)\n",
    "tn, fp, fn, tp = confusion_matrix(prediction_dt,test_onehot_y).ravel()\n",
    "precision_dt = tp/(tp+fp)"
   ]
  },
  {
   "cell_type": "code",
   "execution_count": 558,
   "metadata": {},
   "outputs": [
    {
     "data": {
      "text/plain": [
       "0.9629139072847682"
      ]
     },
     "execution_count": 558,
     "metadata": {},
     "output_type": "execute_result"
    }
   ],
   "source": [
    "precision_dt"
   ]
  },
  {
   "cell_type": "markdown",
   "metadata": {},
   "source": [
    "예상 밖에도 test 데이터에 대해서 성능이 거의 차이가 없으나 미묘하게 더 개선되었음을 알 수 있다. 이는 test 셋과 training 셋이 아주 비슷한 분포를 띄고 있다고 생각해볼 수 있을 것 같다."
   ]
  },
  {
   "cell_type": "markdown",
   "metadata": {},
   "source": [
    "### (2) Logistic Regression"
   ]
  },
  {
   "cell_type": "code",
   "execution_count": 559,
   "metadata": {},
   "outputs": [],
   "source": [
    "from sklearn.linear_model import LogisticRegression\n",
    "LR = LogisticRegression()"
   ]
  },
  {
   "cell_type": "code",
   "execution_count": 560,
   "metadata": {},
   "outputs": [
    {
     "name": "stderr",
     "output_type": "stream",
     "text": [
      "C:\\Users\\chae\\Anaconda3\\lib\\site-packages\\sklearn\\linear_model\\logistic.py:432: FutureWarning: Default solver will be changed to 'lbfgs' in 0.22. Specify a solver to silence this warning.\n",
      "  FutureWarning)\n"
     ]
    },
    {
     "data": {
      "text/plain": [
       "LogisticRegression(C=1.0, class_weight=None, dual=False, fit_intercept=True,\n",
       "          intercept_scaling=1, max_iter=100, multi_class='warn',\n",
       "          n_jobs=None, penalty='l2', random_state=None, solver='warn',\n",
       "          tol=0.0001, verbose=0, warm_start=False)"
      ]
     },
     "execution_count": 560,
     "metadata": {},
     "output_type": "execute_result"
    }
   ],
   "source": [
    "LR.fit(train_onehot_x, train_onehot_y)"
   ]
  },
  {
   "cell_type": "code",
   "execution_count": 561,
   "metadata": {},
   "outputs": [],
   "source": [
    "prediction_lr = LR.predict(valid_onehot_x)\n",
    "tn, fp, fn, tp = confusion_matrix(prediction_lr,valid_onehot_y).ravel()\n",
    "precision_lr = tp/(tp+fp)"
   ]
  },
  {
   "cell_type": "code",
   "execution_count": 562,
   "metadata": {},
   "outputs": [
    {
     "data": {
      "text/plain": [
       "0.9387755102040817"
      ]
     },
     "execution_count": 562,
     "metadata": {},
     "output_type": "execute_result"
    }
   ],
   "source": [
    "precision_lr"
   ]
  },
  {
   "cell_type": "code",
   "execution_count": 563,
   "metadata": {},
   "outputs": [],
   "source": [
    "prediction_lr_t = LR.predict(test_onehot_x)\n",
    "tn, fp, fn, tp = confusion_matrix(prediction_lr_t,test_onehot_y).ravel()\n",
    "precision_lr_t = tp/(tp+fp)"
   ]
  },
  {
   "cell_type": "code",
   "execution_count": 564,
   "metadata": {},
   "outputs": [
    {
     "data": {
      "text/plain": [
       "0.8887417218543047"
      ]
     },
     "execution_count": 564,
     "metadata": {},
     "output_type": "execute_result"
    }
   ],
   "source": [
    "precision_lr_t"
   ]
  },
  {
   "cell_type": "markdown",
   "metadata": {},
   "source": [
    "| data | validation set | test_set |\n",
    "|:--------:|:--------:|:--------:|\n",
    "| precision | 0.9387755102040817 | 0.8887417218543047 |"
   ]
  },
  {
   "cell_type": "markdown",
   "metadata": {},
   "source": [
    "Logistic Regression을 통해 training 데이터 셋으로 학습하였더니 validation 셋에 대해서는 약 94%의 성능을 보이고 test 셋에 대해서는 약 90%정도의 성능을 보여주는데, 이는 이전에 decision tree의 결과와 비교해서 상당히 유의미한 차이가 있는 모델이라고 볼 수 있다. Decision tree부분에서 언급했듯이, 이 데이터는 분포가 아주 비슷한 데이터들이 몰려있을 수도 있는데, 좀 더 산포된 추가의 데이터가 주어졌을 때, 오히려 이 모델이 좀 더 general하게 잘 분류해낼 수 있을 수도 있을 것 같다는 예측을 해본다. 하지만 이를 직접 실험해보지 못하는 아쉬움이 있다."
   ]
  },
  {
   "cell_type": "markdown",
   "metadata": {},
   "source": [
    "### (3) Perceptron"
   ]
  },
  {
   "cell_type": "code",
   "execution_count": 565,
   "metadata": {},
   "outputs": [],
   "source": [
    "from sklearn.linear_model import Perceptron"
   ]
  },
  {
   "cell_type": "code",
   "execution_count": 566,
   "metadata": {},
   "outputs": [],
   "source": [
    "P = Perceptron()"
   ]
  },
  {
   "cell_type": "code",
   "execution_count": 569,
   "metadata": {},
   "outputs": [
    {
     "name": "stderr",
     "output_type": "stream",
     "text": [
      "C:\\Users\\chae\\Anaconda3\\lib\\site-packages\\sklearn\\linear_model\\stochastic_gradient.py:144: FutureWarning: max_iter and tol parameters have been added in Perceptron in 0.19. If both are left unset, they default to max_iter=5 and tol=None. If tol is not None, max_iter defaults to max_iter=1000. From 0.21, default max_iter will be 1000, and default tol will be 1e-3.\n",
      "  FutureWarning)\n"
     ]
    },
    {
     "data": {
      "text/plain": [
       "Perceptron(alpha=0.0001, class_weight=None, early_stopping=False, eta0=1.0,\n",
       "      fit_intercept=True, max_iter=None, n_iter=None, n_iter_no_change=5,\n",
       "      n_jobs=None, penalty=None, random_state=0, shuffle=True, tol=None,\n",
       "      validation_fraction=0.1, verbose=0, warm_start=False)"
      ]
     },
     "execution_count": 569,
     "metadata": {},
     "output_type": "execute_result"
    }
   ],
   "source": [
    "P.fit(train_onehot_x, train_onehot_y)"
   ]
  },
  {
   "cell_type": "code",
   "execution_count": 570,
   "metadata": {},
   "outputs": [],
   "source": [
    "prediction_p = P.predict(valid_onehot_x)\n",
    "tn, fp, fn, tp = confusion_matrix(prediction_p,valid_onehot_y).ravel()\n",
    "precision_p = tp/(tp+fp)"
   ]
  },
  {
   "cell_type": "code",
   "execution_count": 572,
   "metadata": {},
   "outputs": [
    {
     "data": {
      "text/plain": [
       "0.9608843537414966"
      ]
     },
     "execution_count": 572,
     "metadata": {},
     "output_type": "execute_result"
    }
   ],
   "source": [
    "precision_p"
   ]
  },
  {
   "cell_type": "code",
   "execution_count": 573,
   "metadata": {},
   "outputs": [],
   "source": [
    "prediction_p_t = P.predict(test_onehot_x)\n",
    "tn, fp, fn, tp = confusion_matrix(prediction_p_t,test_onehot_y).ravel()\n",
    "precision_p_t = tp/(tp+fp)"
   ]
  },
  {
   "cell_type": "code",
   "execution_count": 574,
   "metadata": {},
   "outputs": [
    {
     "data": {
      "text/plain": [
       "0.9642384105960264"
      ]
     },
     "execution_count": 574,
     "metadata": {},
     "output_type": "execute_result"
    }
   ],
   "source": [
    "precision_p_t"
   ]
  },
  {
   "cell_type": "markdown",
   "metadata": {},
   "source": [
    "| data | validation set | test_set |\n",
    "|:--------:|:--------:|:--------:|\n",
    "| precision | 0.9608843537414966 | 0.9642384105960264 |"
   ]
  },
  {
   "cell_type": "markdown",
   "metadata": {},
   "source": [
    "Perceptron의 경우 validation과 test 셋 각각에 대한 성능은 아주 작게 약 0.3%정도 차이가 난다. 여기서도 신기한 것은 미묘하지만 test 셋의 정확도가 조금 더 높다는 것이다."
   ]
  },
  {
   "cell_type": "markdown",
   "metadata": {},
   "source": [
    "### (4) Multi Layered Perceptron (MLP)"
   ]
  },
  {
   "cell_type": "markdown",
   "metadata": {},
   "source": [
    "    a. activation fuction: sigmoid"
   ]
  },
  {
   "cell_type": "code",
   "execution_count": 710,
   "metadata": {},
   "outputs": [],
   "source": [
    "from sklearn.neural_network import MLPClassifier"
   ]
  },
  {
   "cell_type": "code",
   "execution_count": 712,
   "metadata": {},
   "outputs": [],
   "source": [
    "MLP_s = MLPClassifier(hidden_layer_sizes=(20,6), max_iter=100, warm_start=True)"
   ]
  },
  {
   "cell_type": "code",
   "execution_count": 713,
   "metadata": {},
   "outputs": [
    {
     "data": {
      "text/plain": [
       "MLPClassifier(activation='relu', alpha=0.0001, batch_size='auto', beta_1=0.9,\n",
       "       beta_2=0.999, early_stopping=False, epsilon=1e-08,\n",
       "       hidden_layer_sizes=(20, 6), learning_rate='constant',\n",
       "       learning_rate_init=0.001, max_iter=100, momentum=0.9,\n",
       "       n_iter_no_change=10, nesterovs_momentum=True, power_t=0.5,\n",
       "       random_state=None, shuffle=True, solver='adam', tol=0.0001,\n",
       "       validation_fraction=0.1, verbose=False, warm_start=True)"
      ]
     },
     "execution_count": 713,
     "metadata": {},
     "output_type": "execute_result"
    }
   ],
   "source": [
    "MLP_s.fit(train_onehot_x,train_onehot_y)"
   ]
  },
  {
   "cell_type": "code",
   "execution_count": 714,
   "metadata": {},
   "outputs": [],
   "source": [
    "prediction_mlp_s = MLP_s.predict(valid_onehot_x)\n",
    "tn, fp, fn, tp = confusion_matrix(prediction_mlp_s,valid_onehot_y).ravel()\n",
    "precision_mlp_s = tp/(tp+fp)"
   ]
  },
  {
   "cell_type": "code",
   "execution_count": 715,
   "metadata": {},
   "outputs": [
    {
     "data": {
      "text/plain": [
       "0.9472789115646258"
      ]
     },
     "execution_count": 715,
     "metadata": {},
     "output_type": "execute_result"
    }
   ],
   "source": [
    "precision_mlp_s"
   ]
  },
  {
   "cell_type": "markdown",
   "metadata": {},
   "source": [
    "    a-1. diffent hidden_layer_sizes with sigmoid"
   ]
  },
  {
   "cell_type": "code",
   "execution_count": 723,
   "metadata": {},
   "outputs": [
    {
     "data": {
      "text/plain": [
       "0.9489795918367347"
      ]
     },
     "execution_count": 723,
     "metadata": {},
     "output_type": "execute_result"
    }
   ],
   "source": [
    "MLP_s2 = MLPClassifier(hidden_layer_sizes=(40,20,6), max_iter=100, warm_start=True)\n",
    "MLP_s2.fit(train_onehot_x,train_onehot_y)\n",
    "prediction_mlp_s2 = MLP_s2.predict(valid_onehot_x)\n",
    "tn, fp, fn, tp = confusion_matrix(prediction_mlp_s2,valid_onehot_y).ravel()\n",
    "precision_mlp_s2 = tp/(tp+fp)\n",
    "precision_mlp_s2"
   ]
  },
  {
   "cell_type": "code",
   "execution_count": 724,
   "metadata": {},
   "outputs": [
    {
     "data": {
      "text/plain": [
       "0.9472789115646258"
      ]
     },
     "execution_count": 724,
     "metadata": {},
     "output_type": "execute_result"
    }
   ],
   "source": [
    "MLP_s3 = MLPClassifier(hidden_layer_sizes=(60,40,20,6), max_iter=100, warm_start=True)\n",
    "MLP_s3.fit(train_onehot_x,train_onehot_y)\n",
    "prediction_mlp_s3 = MLP_s3.predict(valid_onehot_x)\n",
    "tn, fp, fn, tp = confusion_matrix(prediction_mlp_s3,valid_onehot_y).ravel()\n",
    "precision_mlp_s3 = tp/(tp+fp)\n",
    "precision_mlp_s3"
   ]
  },
  {
   "cell_type": "markdown",
   "metadata": {},
   "source": [
    "    b. activation function: relu"
   ]
  },
  {
   "cell_type": "code",
   "execution_count": 718,
   "metadata": {},
   "outputs": [
    {
     "data": {
      "text/plain": [
       "0.9540816326530612"
      ]
     },
     "execution_count": 718,
     "metadata": {},
     "output_type": "execute_result"
    }
   ],
   "source": [
    "MLP_r = MLPClassifier(hidden_layer_sizes=(20,6), max_iter=100, warm_start=True)\n",
    "MLP_r.fit(train_onehot_x,train_onehot_y)\n",
    "prediction_mlp_r = MLP_r.predict(valid_onehot_x)\n",
    "tn, fp, fn, tp = confusion_matrix(prediction_mlp_r,valid_onehot_y).ravel()\n",
    "precision_mlp_r = tp/(tp+fp)\n",
    "precision_mlp_r"
   ]
  },
  {
   "cell_type": "code",
   "execution_count": 725,
   "metadata": {},
   "outputs": [
    {
     "data": {
      "text/plain": [
       "0.9540816326530612"
      ]
     },
     "execution_count": 725,
     "metadata": {},
     "output_type": "execute_result"
    }
   ],
   "source": [
    "MLP_r2 = MLPClassifier(hidden_layer_sizes=(40,20,6), max_iter=100, warm_start=True)\n",
    "MLP_r2.fit(train_onehot_x,train_onehot_y)\n",
    "prediction_mlp_r2 = MLP_r2.predict(valid_onehot_x)\n",
    "tn, fp, fn, tp = confusion_matrix(prediction_mlp_r2,valid_onehot_y).ravel()\n",
    "precision_mlp_r2 = tp/(tp+fp)\n",
    "precision_mlp_r2"
   ]
  },
  {
   "cell_type": "code",
   "execution_count": 726,
   "metadata": {},
   "outputs": [
    {
     "data": {
      "text/plain": [
       "0.9404761904761905"
      ]
     },
     "execution_count": 726,
     "metadata": {},
     "output_type": "execute_result"
    }
   ],
   "source": [
    "MLP_r3 = MLPClassifier(hidden_layer_sizes=(60,40,20,6), max_iter=100, warm_start=True)\n",
    "MLP_r3.fit(train_onehot_x,train_onehot_y)\n",
    "prediction_mlp_r3 = MLP_r3.predict(valid_onehot_x)\n",
    "tn, fp, fn, tp = confusion_matrix(prediction_mlp_r3,valid_onehot_y).ravel()\n",
    "precision_mlp_r3 = tp/(tp+fp)\n",
    "precision_mlp_r3"
   ]
  },
  {
   "attachments": {
    "image.png": {
     "image/png": "[encoded data removed]"
    }
   },
   "cell_type": "markdown",
   "metadata": {},
   "source": [
    "![image.png](attachment:image.png)"
   ]
  },
  {
   "cell_type": "markdown",
   "metadata": {},
   "source": [
    "히든 레이어의 사이즈를 3가지로 달리하고, activation function을 sigmoid와 relu를 이용하여 실험해본 결과 precision은 위와 같이 나타났다. 수업시간에 배운대로 activation 함수의 특성 상 sigmoid는 0~1값으로 웨이트가 곱해지기 때문에 상위 레이어로 갈수록 학습률이 떨어지며, 그 대안이 relu activation function이 될 수 있다고 하신 말씀을 떠올려보았다. 이 데이터 셋 자체의 특성으로 역시나 성능은 아주 높게 측정이 되었으나, 히든 레이어 크기나 activation 함수에 따라서 어느정도 차이가 남을 볼 수 있다. 강의 시간 중 히든 레이어는 1개나 2개가 가장 적당하다고 하셨는데 위의 결과에서도 히든 레이어 수가 과하게 많아지니까 성능이 오히려 떨어짐을 알 수 있다. 이 역시 레이어 수가 너무 많아지고 hidden nodes의 개수가 많아짐에 따라 분류 시 학습 데이터에 overfitting되게 non-linear boundary가 생성될 수 있다는 것과 같은 맥락에서 이해하였다. 히든 레이어 크기에 따라서는 relu는 (20,6)으로 설정했을 때와 (40,20,6)으로 설정한 결과값이 같았고 sigmoid를 이용했을 때는 후자에서 조금 더 높음을 확인했다. 성능이 더 나았던 히든 레이어 크기에 대한 두가지 설정에서 relu는 sigmoid보다 좀 더 나은 결과를 보여주는데 이는 이전에 언급한 sigmoid의 주의점을 relu가 해결해주었기 때문이라고 생각하였다."
   ]
  },
  {
   "cell_type": "markdown",
   "metadata": {},
   "source": [
    "위의 실험 값을 바탕으로 relu를 activation function으로 하고 hidden layer size는 (20,6)으로 하는 모델에서 test 데이터를 이용하여 최종 성능 평가를 해보았다."
   ]
  },
  {
   "cell_type": "code",
   "execution_count": 727,
   "metadata": {},
   "outputs": [
    {
     "data": {
      "text/plain": [
       "0.9258278145695364"
      ]
     },
     "execution_count": 727,
     "metadata": {},
     "output_type": "execute_result"
    }
   ],
   "source": [
    "prediction_mlp_rt= MLP_r.predict(test_onehot_x)\n",
    "tn, fp, fn, tp = confusion_matrix(prediction_mlp_rt,test_onehot_y).ravel()\n",
    "precision_mlp_rt = tp/(tp+fp)\n",
    "precision_mlp_rt"
   ]
  },
  {
   "cell_type": "markdown",
   "metadata": {},
   "source": [
    "| data | validation set | test_set |\n",
    "|:--------:|:--------:|:--------:|\n",
    "| precision | 0.9540816326530612 | 0.9258278145695364 |"
   ]
  },
  {
   "cell_type": "markdown",
   "metadata": {},
   "source": [
    "MLP에서 이 데이터 셋은 테스트 데이터로 검증을 해보았을 때, validation으로 평가했을 때보다 약 3%정도 낮은 성능을 보이며, 이는 우리가 학습 데이터, 벨리데이션 데이터, 테스트 데이터로 나누어 모델 설계를 실험한다는 점을 가만하면 충분히 가만할 수 있는 좋은 성능이라고 생각한다. 또 우리가 설계한 MLP모델이 트레이닝 데이터 셋에 대하여 크게 overfitting되었다고 할 수 없다고 판단했다."
   ]
  },
  {
   "cell_type": "markdown",
   "metadata": {},
   "source": [
    "### (5) KNN"
   ]
  },
  {
   "cell_type": "code",
   "execution_count": 729,
   "metadata": {},
   "outputs": [],
   "source": [
    "from sklearn.neighbors import KNeighborsClassifier"
   ]
  },
  {
   "cell_type": "code",
   "execution_count": 730,
   "metadata": {},
   "outputs": [],
   "source": [
    "KNN = KNeighborsClassifier(n_neighbors=5)"
   ]
  },
  {
   "cell_type": "code",
   "execution_count": 731,
   "metadata": {},
   "outputs": [
    {
     "data": {
      "text/plain": [
       "KNeighborsClassifier(algorithm='auto', leaf_size=30, metric='minkowski',\n",
       "           metric_params=None, n_jobs=None, n_neighbors=5, p=2,\n",
       "           weights='uniform')"
      ]
     },
     "execution_count": 731,
     "metadata": {},
     "output_type": "execute_result"
    }
   ],
   "source": [
    "KNN.fit(train_onehot_x, train_onehot_y)"
   ]
  },
  {
   "cell_type": "code",
   "execution_count": 732,
   "metadata": {},
   "outputs": [
    {
     "data": {
      "text/plain": [
       "0.9115646258503401"
      ]
     },
     "execution_count": 732,
     "metadata": {},
     "output_type": "execute_result"
    }
   ],
   "source": [
    "prediction_knn = KNN.predict(valid_onehot_x)\n",
    "tn, fp, fn, tp = confusion_matrix(prediction_knn,valid_onehot_y).ravel()\n",
    "precision_knn = tp/(tp+fp)\n",
    "precision_knn"
   ]
  },
  {
   "cell_type": "markdown",
   "metadata": {},
   "source": [
    "n_neighbors라는 parameter 값을 두가지 더 실험해보았다."
   ]
  },
  {
   "cell_type": "code",
   "execution_count": 733,
   "metadata": {},
   "outputs": [
    {
     "data": {
      "text/plain": [
       "0.8214285714285714"
      ]
     },
     "execution_count": 733,
     "metadata": {},
     "output_type": "execute_result"
    }
   ],
   "source": [
    "KNN2 = KNeighborsClassifier(n_neighbors=20)\n",
    "KNN2.fit(train_onehot_x, train_onehot_y)\n",
    "prediction_knn2 = KNN2.predict(valid_onehot_x)\n",
    "tn, fp, fn, tp = confusion_matrix(prediction_knn2,valid_onehot_y).ravel()\n",
    "precision_knn2 = tp/(tp+fp)\n",
    "precision_knn2"
   ]
  },
  {
   "cell_type": "code",
   "execution_count": 734,
   "metadata": {},
   "outputs": [
    {
     "data": {
      "text/plain": [
       "0.8350340136054422"
      ]
     },
     "execution_count": 734,
     "metadata": {},
     "output_type": "execute_result"
    }
   ],
   "source": [
    "KNN3 = KNeighborsClassifier(n_neighbors=10)\n",
    "KNN3.fit(train_onehot_x, train_onehot_y)\n",
    "prediction_knn3 = KNN3.predict(valid_onehot_x)\n",
    "tn, fp, fn, tp = confusion_matrix(prediction_knn3,valid_onehot_y).ravel()\n",
    "precision_knn3 = tp/(tp+fp)\n",
    "precision_knn3"
   ]
  },
  {
   "attachments": {
    "image.png": {
     "image/png": "[encoded data removed]"
    }
   },
   "cell_type": "markdown",
   "metadata": {},
   "source": [
    "![image.png](attachment:image.png)"
   ]
  },
  {
   "cell_type": "markdown",
   "metadata": {},
   "source": [
    "distance(거리) 값을 이용하여 classify하는 KNN 모델을 구현해보았는데, 몇 개의 이웃한 인스턴스를 보고 voting을 할 것인지를 결정하는 n_neighbors라는 parameter값을 세가지로 달리하여 실험하였다. instance 수가 수업 시간에 다룬 데이터 셋에 비해 상대적으로 크다고 판단해서 n_neighbors를 많이 증가시킬수록 성능이 올라갈 것이라고 판단했는데, 결과는 오히려 이 parameter 값이 증가할수록 precision이 하락하였다. 잘 생각해보니, 앞에서 이 데이터 셋은 매우 촘촘히 분포할 것이라고 예측을 하였는데, voting에 참여하는 인스턴스의 개수가 늘어날수록, 거리가 먼, 즉 상관이 없는 인스턴스가 개입이 될 확률이 높아진다는 것을 간과했던 것 같다.  "
   ]
  },
  {
   "cell_type": "markdown",
   "metadata": {},
   "source": [
    "따라서 아래에는 parameter 값을 5로 둔 모델로 test 데이터로 평가를 진행하였다."
   ]
  },
  {
   "cell_type": "code",
   "execution_count": 735,
   "metadata": {},
   "outputs": [
    {
     "data": {
      "text/plain": [
       "0.8158940397350993"
      ]
     },
     "execution_count": 735,
     "metadata": {},
     "output_type": "execute_result"
    }
   ],
   "source": [
    "prediction_knnt = KNN.predict(test_onehot_x)\n",
    "tn, fp, fn, tp = confusion_matrix(prediction_knnt,test_onehot_y).ravel()\n",
    "precision_knnt = tp/(tp+fp)\n",
    "precision_knnt"
   ]
  },
  {
   "cell_type": "markdown",
   "metadata": {},
   "source": [
    "| data | validation set | test_set |\n",
    "|:--------:|:--------:|:--------:|\n",
    "| precision | 0.9115646258503401 | 0.8158940397350993 |"
   ]
  },
  {
   "cell_type": "markdown",
   "metadata": {},
   "source": [
    "test set으로 평가해본 결과를 validation과 비교하니 약 3% 정도 성능이 떨어졌음을 확인할 수 있다. 이 역시 critical한 감소는 아니라고 생각하지만 앞서 실험해본 n_neighbors가 더 크게 주어진 모델과 비교했을 때가 test set과의 성능 차이가 더 적다는 점에서, 어느정도 거리가 있는 인스턴스를 사용함으로써 더 general해질 수 있을 수도 있다는 것을 알게되었다. "
   ]
  },
  {
   "cell_type": "markdown",
   "metadata": {},
   "source": [
    "### (6) SVM"
   ]
  },
  {
   "cell_type": "code",
   "execution_count": 737,
   "metadata": {},
   "outputs": [],
   "source": [
    "from sklearn import svm"
   ]
  },
  {
   "cell_type": "code",
   "execution_count": 738,
   "metadata": {},
   "outputs": [],
   "source": [
    "SVM = svm.SVC(kernel='linear')"
   ]
  },
  {
   "cell_type": "code",
   "execution_count": 739,
   "metadata": {},
   "outputs": [
    {
     "data": {
      "text/plain": [
       "SVC(C=1.0, cache_size=200, class_weight=None, coef0=0.0,\n",
       "  decision_function_shape='ovr', degree=3, gamma='auto_deprecated',\n",
       "  kernel='linear', max_iter=-1, probability=False, random_state=None,\n",
       "  shrinking=True, tol=0.001, verbose=False)"
      ]
     },
     "execution_count": 739,
     "metadata": {},
     "output_type": "execute_result"
    }
   ],
   "source": [
    "SVM.fit(train_onehot_x, train_onehot_y)"
   ]
  },
  {
   "cell_type": "code",
   "execution_count": 740,
   "metadata": {},
   "outputs": [
    {
     "data": {
      "text/plain": [
       "0.9608843537414966"
      ]
     },
     "execution_count": 740,
     "metadata": {},
     "output_type": "execute_result"
    }
   ],
   "source": [
    "prediction_svm = SVM.predict(valid_onehot_x)\n",
    "tn, fp, fn, tp = confusion_matrix(prediction_svm,valid_onehot_y).ravel()\n",
    "precision_svm = tp/(tp+fp)\n",
    "precision_svm"
   ]
  },
  {
   "cell_type": "code",
   "execution_count": 741,
   "metadata": {},
   "outputs": [
    {
     "data": {
      "text/plain": [
       "0.9642384105960264"
      ]
     },
     "execution_count": 741,
     "metadata": {},
     "output_type": "execute_result"
    }
   ],
   "source": [
    "prediction_svmt = SVM.predict(test_onehot_x)\n",
    "tn, fp, fn, tp = confusion_matrix(prediction_svmt,test_onehot_y).ravel()\n",
    "precision_svmt = tp/(tp+fp)\n",
    "precision_svmt"
   ]
  },
  {
   "cell_type": "markdown",
   "metadata": {},
   "source": [
    "| data | validation set | test_set |\n",
    "|:--------:|:--------:|:--------:|\n",
    "| precision | 0.9608843537414966 | 0.9642384105960264 |"
   ]
  },
  {
   "cell_type": "markdown",
   "metadata": {},
   "source": [
    "linear kernel로 Support Vector Machine 모델을 구현했을 때, validation set과 test set에서 모두 약 96%정도로 좋은 결과값을 보여준다. 또한 학습 과정 중 train set에 대해서 overfitting이 일어났다고 보기 힘들다."
   ]
  },
  {
   "cell_type": "markdown",
   "metadata": {},
   "source": [
    "### (7) Ensemble"
   ]
  },
  {
   "cell_type": "markdown",
   "metadata": {},
   "source": [
    "    a. Bagging Classifier with DT"
   ]
  },
  {
   "cell_type": "code",
   "execution_count": 743,
   "metadata": {},
   "outputs": [],
   "source": [
    "from sklearn.ensemble import BaggingClassifier"
   ]
  },
  {
   "cell_type": "code",
   "execution_count": 744,
   "metadata": {},
   "outputs": [],
   "source": [
    "from sklearn import tree"
   ]
  },
  {
   "cell_type": "code",
   "execution_count": 747,
   "metadata": {},
   "outputs": [],
   "source": [
    "bagg = BaggingClassifier(tree.DecisionTreeClassifier(), n_estimators=5)"
   ]
  },
  {
   "cell_type": "code",
   "execution_count": 748,
   "metadata": {},
   "outputs": [
    {
     "data": {
      "text/plain": [
       "BaggingClassifier(base_estimator=DecisionTreeClassifier(class_weight=None, criterion='gini', max_depth=None,\n",
       "            max_features=None, max_leaf_nodes=None,\n",
       "            min_impurity_decrease=0.0, min_impurity_split=None,\n",
       "            min_samples_leaf=1, min_samples_split=2,\n",
       "            min_weight_fraction_leaf=0.0, presort=False, random_state=None,\n",
       "            splitter='best'),\n",
       "         bootstrap=True, bootstrap_features=False, max_features=1.0,\n",
       "         max_samples=1.0, n_estimators=5, n_jobs=None, oob_score=False,\n",
       "         random_state=None, verbose=0, warm_start=False)"
      ]
     },
     "execution_count": 748,
     "metadata": {},
     "output_type": "execute_result"
    }
   ],
   "source": [
    "bagg.fit(train_onehot_x, train_onehot_y)"
   ]
  },
  {
   "cell_type": "code",
   "execution_count": 749,
   "metadata": {},
   "outputs": [
    {
     "data": {
      "text/plain": [
       "0.9608843537414966"
      ]
     },
     "execution_count": 749,
     "metadata": {},
     "output_type": "execute_result"
    }
   ],
   "source": [
    "prediction_bagg = bagg.predict(valid_onehot_x)\n",
    "tn, fp, fn, tp = confusion_matrix(prediction_bagg,valid_onehot_y).ravel()\n",
    "precision_bagg = tp/(tp+fp)\n",
    "precision_bagg"
   ]
  },
  {
   "cell_type": "markdown",
   "metadata": {},
   "source": [
    "DT를 사용하지만 estimator 수를 다르게 배정하여 다른 모델도 만들어보았다."
   ]
  },
  {
   "cell_type": "code",
   "execution_count": 750,
   "metadata": {},
   "outputs": [
    {
     "data": {
      "text/plain": [
       "0.9455782312925171"
      ]
     },
     "execution_count": 750,
     "metadata": {},
     "output_type": "execute_result"
    }
   ],
   "source": [
    "bagg2 = BaggingClassifier(tree.DecisionTreeClassifier(), n_estimators=10)\n",
    "bagg2.fit(train_onehot_x, train_onehot_y)\n",
    "prediction_bagg2 = bagg2.predict(valid_onehot_x)\n",
    "tn, fp, fn, tp = confusion_matrix(prediction_bagg2,valid_onehot_y).ravel()\n",
    "precision_bagg2 = tp/(tp+fp)\n",
    "precision_bagg2"
   ]
  },
  {
   "cell_type": "code",
   "execution_count": 751,
   "metadata": {},
   "outputs": [
    {
     "data": {
      "text/plain": [
       "0.9285714285714286"
      ]
     },
     "execution_count": 751,
     "metadata": {},
     "output_type": "execute_result"
    }
   ],
   "source": [
    "bagg3 = BaggingClassifier(tree.DecisionTreeClassifier(), n_estimators=20)\n",
    "bagg3.fit(train_onehot_x, train_onehot_y)\n",
    "prediction_bagg3 = bagg3.predict(valid_onehot_x)\n",
    "tn, fp, fn, tp = confusion_matrix(prediction_bagg3,valid_onehot_y).ravel()\n",
    "precision_bagg3 = tp/(tp+fp)\n",
    "precision_bagg3"
   ]
  },
  {
   "attachments": {
    "image.png": {
     "image/png": "[encoded data removed]"
    }
   },
   "cell_type": "markdown",
   "metadata": {},
   "source": [
    "![image.png](attachment:image.png)"
   ]
  },
  {
   "cell_type": "markdown",
   "metadata": {},
   "source": [
    "estimator의 수를 3가지 값으로 달리 주어서 모델을 실험해 보았다. 각 estimator는 DT로 했으며, 예상과는 다르게 estimator가 늘어날수록 precision이 하락했다. estimator가 많을수록 classification을 하는데 더 많은 도움을 무조건적으로 받을 것이라는 생각은 위험하다는 것을 알게되었다. 그리고 강의 시간에 각 estimator, 즉 committee 회원들이 서로 보완이 되어야한다는 내용을 접했는데, 그런 설정 없이 단지 estimator 수만 늘려서 각 estimator들끼리 작용이 효과적인지에 대해서 판단이 불가하다는 점이 매우 아쉽다. 결과적으로는, 실험 상 5개의 estimator들이 작용할 때 가장 높은 성능을 내었다."
   ]
  },
  {
   "cell_type": "markdown",
   "metadata": {},
   "source": [
    "위의 결과에 따라 estimator를 5개로 두고 test set에 대해서 평가를 진행하였다."
   ]
  },
  {
   "cell_type": "code",
   "execution_count": 752,
   "metadata": {},
   "outputs": [
    {
     "data": {
      "text/plain": [
       "0.9629139072847682"
      ]
     },
     "execution_count": 752,
     "metadata": {},
     "output_type": "execute_result"
    }
   ],
   "source": [
    "prediction_baggt = bagg.predict(test_onehot_x)\n",
    "tn, fp, fn, tp = confusion_matrix(prediction_baggt,test_onehot_y).ravel()\n",
    "precision_baggt = tp/(tp+fp)\n",
    "precision_baggt"
   ]
  },
  {
   "cell_type": "markdown",
   "metadata": {},
   "source": [
    "| data | validation set | test_set |\n",
    "|:--------:|:--------:|:--------:|\n",
    "| precision | 0.9608843537414966 | 0.9629139072847682 |"
   ]
  },
  {
   "cell_type": "markdown",
   "metadata": {},
   "source": [
    "trainig data에 대해서 overfit이 심각하게 발생하고 있지 않다는 것을 확인할 수 있으며 validation set과 test set 모두에 대해서 96% 언저리의 좋은 성능을 보여주고 있다."
   ]
  },
  {
   "cell_type": "markdown",
   "metadata": {},
   "source": [
    "    b. Random Forest"
   ]
  },
  {
   "cell_type": "markdown",
   "metadata": {},
   "source": [
    "분류 기준은 gini를 사용하였다."
   ]
  },
  {
   "cell_type": "code",
   "execution_count": 755,
   "metadata": {},
   "outputs": [],
   "source": [
    "from sklearn.ensemble import RandomForestClassifier\n",
    "rf = RandomForestClassifier(n_estimators=10,bootstrap=False,criterion='gini')"
   ]
  },
  {
   "cell_type": "code",
   "execution_count": 756,
   "metadata": {},
   "outputs": [
    {
     "data": {
      "text/plain": [
       "0.9591836734693877"
      ]
     },
     "execution_count": 756,
     "metadata": {},
     "output_type": "execute_result"
    }
   ],
   "source": [
    "rf = rf.fit(train_onehot_x, train_onehot_y)\n",
    "prediction_rf = rf.predict(valid_onehot_x)\n",
    "tn, fp, fn, tp = confusion_matrix(prediction_rf,valid_onehot_y).ravel()\n",
    "precision_rf = tp/(tp+fp)\n",
    "precision_rf"
   ]
  },
  {
   "cell_type": "markdown",
   "metadata": {},
   "source": [
    "Random Forest에 대해서도 estimator의 개수를 달리해보았다."
   ]
  },
  {
   "cell_type": "code",
   "execution_count": 757,
   "metadata": {},
   "outputs": [
    {
     "data": {
      "text/plain": [
       "0.9608843537414966"
      ]
     },
     "execution_count": 757,
     "metadata": {},
     "output_type": "execute_result"
    }
   ],
   "source": [
    "rf2 = RandomForestClassifier(n_estimators=15,bootstrap=False,criterion='gini')\n",
    "rf2 = rf2.fit(train_onehot_x, train_onehot_y)\n",
    "prediction_rf2 = rf2.predict(valid_onehot_x)\n",
    "tn, fp, fn, tp = confusion_matrix(prediction_rf2,valid_onehot_y).ravel()\n",
    "precision_rf2 = tp/(tp+fp)\n",
    "precision_rf2"
   ]
  },
  {
   "cell_type": "code",
   "execution_count": 766,
   "metadata": {},
   "outputs": [
    {
     "data": {
      "text/plain": [
       "0.9455782312925171"
      ]
     },
     "execution_count": 766,
     "metadata": {},
     "output_type": "execute_result"
    }
   ],
   "source": [
    "rf3 = RandomForestClassifier(n_estimators=5,bootstrap=False,criterion='gini')\n",
    "rf3 = rf3.fit(train_onehot_x, train_onehot_y)\n",
    "prediction_rf3 = rf3.predict(valid_onehot_x)\n",
    "tn, fp, fn, tp = confusion_matrix(prediction_rf3,valid_onehot_y).ravel()\n",
    "precision_rf3 = tp/(tp+fp)\n",
    "precision_rf3"
   ]
  },
  {
   "attachments": {
    "image.png": {
     "image/png": "[encoded data removed]"
    }
   },
   "cell_type": "markdown",
   "metadata": {},
   "source": [
    "![image.png](attachment:image.png)"
   ]
  },
  {
   "cell_type": "markdown",
   "metadata": {},
   "source": [
    "Random Forest에서는 estimator 개수를 5, 10, 15 이렇게 조금씩 늘려봤을 때, 그 수가 늘어남에 따라서 precision이 조금씩 개선되고 있음을 알 수 있다. 이 역시 각 estimator 사이의 보완 작용이 얼마나 잘 일어나고 있는지 시간상, 그리고 나의 학습량 상 정확히 알기 힘들지만 우연일지라도, 늘어나는 수의 estimator들이 잘 작용하고 있으리라 생각된다. "
   ]
  },
  {
   "cell_type": "markdown",
   "metadata": {},
   "source": [
    "따라서 estimator 수를 15로 한 모델로 test 셋에 대한 평가를 진행한다."
   ]
  },
  {
   "cell_type": "code",
   "execution_count": 767,
   "metadata": {},
   "outputs": [
    {
     "data": {
      "text/plain": [
       "0.9589403973509933"
      ]
     },
     "execution_count": 767,
     "metadata": {},
     "output_type": "execute_result"
    }
   ],
   "source": [
    "prediction_rf2t = rf2.predict(test_onehot_x)\n",
    "tn, fp, fn, tp = confusion_matrix(prediction_rf2t,test_onehot_y).ravel()\n",
    "precision_rf2t = tp/(tp+fp)\n",
    "precision_rf2t"
   ]
  },
  {
   "cell_type": "markdown",
   "metadata": {},
   "source": [
    "| data | validation set | test_set |\n",
    "|:--------:|:--------:|:--------:|\n",
    "| precision | 0.9608843537414966 | 0.9589403973509933 |"
   ]
  },
  {
   "cell_type": "markdown",
   "metadata": {},
   "source": [
    "test 데이터로 검증했을 때 성능이 아주 미비하게 약 0.2%정도 갑소했는데 이것으로 training set에 대허서 학습 시 크게 overfitting이 일어났다고 판단하기는 힘들다고 생각했고, 적절한 수준에서 학습이 잘 진행되었다고 판단하였다."
   ]
  },
  {
   "cell_type": "markdown",
   "metadata": {},
   "source": [
    "## Part1 정리"
   ]
  },
  {
   "cell_type": "markdown",
   "metadata": {},
   "source": [
    "* 전처리 과정에서 missing value를 imputer로 채워준 후 22개의 original feature가 모두 categorical한 값을 가지기에 one hot econding을 통해서 각 feature들을 인코딩해주었다. 이 과정에서 각 feature value의 개수만큼 배로 feature space가 늘어났기에, 아마도 성능이 예상한 성능보다 훨씬 잘 나오지 않았을까 하는 생각을 하게 되었다.\n",
    "\n",
    "* 데이터 셋의 크기가 매우 큰 건 아닌 것 같지만 작은지 적당한 정도인지 판단이 어려워 크로스 벨리데이션을 실험해보았다. 데이터의 분포 특성 상 이 값 역시 매우 완벽하게 나왔다고 판단했다.\n",
    "\n",
    "* 성능 평가 기준 (metric)으로는 'Precison' (positive predictive value)를 채택하였다. 그 이유는 이 data set은 결국 버섯이 섭취 가능한지 아닌지를 classify하기에 모델을 통해 예측한 섭취 가능한 버섯들 중 실제로 얼만큼이 섭취 가능한지 잘 찾아내는 것이 이번 모델 설계의 핵심이라고 해석하였기 때문이다.\n",
    "\n",
    "* 여러가지 classifier 알고리즘으로 모델을 구현해보고, 다양하게 parameter 값을 조정해본 후, 가장 성능이 좋은 설정 값대로 각 알고리즘 별 모델의 test data에 대한 성능 평가는 다음과 같이 나왔다."
   ]
  },
  {
   "attachments": {
    "image.png": {
     "image/png": "[encoded data removed]"
    }
   },
   "cell_type": "markdown",
   "metadata": {},
   "source": [
    "![image.png](attachment:image.png)"
   ]
  },
  {
   "cell_type": "markdown",
   "metadata": {},
   "source": [
    "다음과 같이 categorical한 attribute를 onehot encoding으로 인코딩하여 feature space size가 크게 늘어난 후에, 모델을 구축한 결과는 Decision Tree, Perceptron, Ensemble에서 가장 좋게 성능이 평가되었다. 이 데이터 셋에 이 모델들이 가장 적합하다고는 할 수 없다. 왜냐하면 시간 상, 나의 지식 상, 그리고 실험을 진행하는 노트북의 성능 상 이 이상의 실험을 진행하기에는 무리였기 때문이고, 적절히 더 많은 parameter값을 조정해보지 못한 것 같아 이 점이 매우 아쉽게 느껴진다.\n",
    "또 linear model과 nonlinear 모델 사이에 성능 차이도 크게 두드러지지 않아 데이터 셋의 분포에 대해서도 예측하기가 어렵지만, 두 모델 사이에 큰 차이가 없다는 점에서 이 데이터 셋은 아마 linearly separable하지 않을까 조심스럽게 생각해본다.\n",
    "Part1의 실험을 통해서 설계해본 classifier 모델 중 test set에 대해서 가장 높은 성능을 보여준 모델은 DT와 Perceptron이었으며 이들의 최종 성능은 0.964238411로 약 96%의 precision을 기록했다."
   ]
  },
  {
   "cell_type": "markdown",
   "metadata": {},
   "source": [
    "---"
   ]
  },
  {
   "cell_type": "markdown",
   "metadata": {},
   "source": [
    "## Part2"
   ]
  },
  {
   "cell_type": "markdown",
   "metadata": {},
   "source": [
    "위의 파트에서 실험의 용이를 위해 데이터를 numpy 배열로 바꿔주었기에 다시 onehot encoding을 해서 feature selection을 진행해보겠다.\n",
    "feature selection은 아주 직관적으로 진행하였다."
   ]
  },
  {
   "cell_type": "code",
   "execution_count": 938,
   "metadata": {},
   "outputs": [],
   "source": [
    "path = \"C:\\\\Users\\\\chae\\\\Downloads\\\\mushroom.csv\""
   ]
  },
  {
   "cell_type": "code",
   "execution_count": 939,
   "metadata": {},
   "outputs": [],
   "source": [
    "newdata = pd.read_csv(path)"
   ]
  },
  {
   "cell_type": "code",
   "execution_count": 940,
   "metadata": {},
   "outputs": [
    {
     "data": {
      "text/html": [
       "<div>\n",
       "<style scoped>\n",
       "    .dataframe tbody tr th:only-of-type {\n",
       "        vertical-align: middle;\n",
       "    }\n",
       "\n",
       "    .dataframe tbody tr th {\n",
       "        vertical-align: top;\n",
       "    }\n",
       "\n",
       "    .dataframe thead th {\n",
       "        text-align: right;\n",
       "    }\n",
       "</style>\n",
       "<table border=\"1\" class=\"dataframe\">\n",
       "  <thead>\n",
       "    <tr style=\"text-align: right;\">\n",
       "      <th></th>\n",
       "      <th>Class</th>\n",
       "      <th>cap-shape</th>\n",
       "      <th>cap-surface</th>\n",
       "      <th>cap-color</th>\n",
       "      <th>bruises</th>\n",
       "      <th>odor</th>\n",
       "      <th>gill-attachment</th>\n",
       "      <th>gill-spacing</th>\n",
       "      <th>gill-size</th>\n",
       "      <th>gill-color</th>\n",
       "      <th>...</th>\n",
       "      <th>stalk-surface-below-ring</th>\n",
       "      <th>stalk-color-above-ring</th>\n",
       "      <th>stalk-color-below-ring</th>\n",
       "      <th>veil-type</th>\n",
       "      <th>veil-color</th>\n",
       "      <th>ring-number</th>\n",
       "      <th>ring-type</th>\n",
       "      <th>spore-print-color</th>\n",
       "      <th>population</th>\n",
       "      <th>habitat</th>\n",
       "    </tr>\n",
       "  </thead>\n",
       "  <tbody>\n",
       "    <tr>\n",
       "      <th>count</th>\n",
       "      <td>8124</td>\n",
       "      <td>8124</td>\n",
       "      <td>8124</td>\n",
       "      <td>8124</td>\n",
       "      <td>8124</td>\n",
       "      <td>8124</td>\n",
       "      <td>8124</td>\n",
       "      <td>8124</td>\n",
       "      <td>8124</td>\n",
       "      <td>8124</td>\n",
       "      <td>...</td>\n",
       "      <td>8124</td>\n",
       "      <td>8124</td>\n",
       "      <td>8124</td>\n",
       "      <td>8124</td>\n",
       "      <td>8124</td>\n",
       "      <td>8124</td>\n",
       "      <td>8124</td>\n",
       "      <td>8124</td>\n",
       "      <td>8124</td>\n",
       "      <td>8124</td>\n",
       "    </tr>\n",
       "    <tr>\n",
       "      <th>unique</th>\n",
       "      <td>2</td>\n",
       "      <td>6</td>\n",
       "      <td>4</td>\n",
       "      <td>10</td>\n",
       "      <td>2</td>\n",
       "      <td>9</td>\n",
       "      <td>2</td>\n",
       "      <td>2</td>\n",
       "      <td>2</td>\n",
       "      <td>12</td>\n",
       "      <td>...</td>\n",
       "      <td>4</td>\n",
       "      <td>9</td>\n",
       "      <td>9</td>\n",
       "      <td>1</td>\n",
       "      <td>4</td>\n",
       "      <td>3</td>\n",
       "      <td>5</td>\n",
       "      <td>9</td>\n",
       "      <td>6</td>\n",
       "      <td>7</td>\n",
       "    </tr>\n",
       "    <tr>\n",
       "      <th>top</th>\n",
       "      <td>e</td>\n",
       "      <td>x</td>\n",
       "      <td>y</td>\n",
       "      <td>n</td>\n",
       "      <td>f</td>\n",
       "      <td>n</td>\n",
       "      <td>f</td>\n",
       "      <td>c</td>\n",
       "      <td>b</td>\n",
       "      <td>b</td>\n",
       "      <td>...</td>\n",
       "      <td>s</td>\n",
       "      <td>w</td>\n",
       "      <td>w</td>\n",
       "      <td>p</td>\n",
       "      <td>w</td>\n",
       "      <td>o</td>\n",
       "      <td>p</td>\n",
       "      <td>w</td>\n",
       "      <td>v</td>\n",
       "      <td>d</td>\n",
       "    </tr>\n",
       "    <tr>\n",
       "      <th>freq</th>\n",
       "      <td>4208</td>\n",
       "      <td>3656</td>\n",
       "      <td>3244</td>\n",
       "      <td>2284</td>\n",
       "      <td>4748</td>\n",
       "      <td>3528</td>\n",
       "      <td>7914</td>\n",
       "      <td>6812</td>\n",
       "      <td>5612</td>\n",
       "      <td>1728</td>\n",
       "      <td>...</td>\n",
       "      <td>4936</td>\n",
       "      <td>4464</td>\n",
       "      <td>4384</td>\n",
       "      <td>8124</td>\n",
       "      <td>7924</td>\n",
       "      <td>7488</td>\n",
       "      <td>3968</td>\n",
       "      <td>2388</td>\n",
       "      <td>4040</td>\n",
       "      <td>3148</td>\n",
       "    </tr>\n",
       "  </tbody>\n",
       "</table>\n",
       "<p>4 rows × 23 columns</p>\n",
       "</div>"
      ],
      "text/plain": [
       "       Class cap-shape cap-surface cap-color bruises  odor gill-attachment  \\\n",
       "count   8124      8124        8124      8124    8124  8124            8124   \n",
       "unique     2         6           4        10       2     9               2   \n",
       "top        e         x           y         n       f     n               f   \n",
       "freq    4208      3656        3244      2284    4748  3528            7914   \n",
       "\n",
       "       gill-spacing gill-size gill-color   ...   stalk-surface-below-ring  \\\n",
       "count          8124      8124       8124   ...                       8124   \n",
       "unique            2         2         12   ...                          4   \n",
       "top               c         b          b   ...                          s   \n",
       "freq           6812      5612       1728   ...                       4936   \n",
       "\n",
       "       stalk-color-above-ring stalk-color-below-ring veil-type veil-color  \\\n",
       "count                    8124                   8124      8124       8124   \n",
       "unique                      9                      9         1          4   \n",
       "top                         w                      w         p          w   \n",
       "freq                     4464                   4384      8124       7924   \n",
       "\n",
       "       ring-number ring-type spore-print-color population habitat  \n",
       "count         8124      8124              8124       8124    8124  \n",
       "unique           3         5                 9          6       7  \n",
       "top              o         p                 w          v       d  \n",
       "freq          7488      3968              2388       4040    3148  \n",
       "\n",
       "[4 rows x 23 columns]"
      ]
     },
     "execution_count": 940,
     "metadata": {},
     "output_type": "execute_result"
    }
   ],
   "source": [
    "newdata.describe()"
   ]
  },
  {
   "cell_type": "markdown",
   "metadata": {},
   "source": [
    "missing value 처리과정에서의 오차를 줄이기 위해서 stalk-root feature를 drop하기로 하고 여러 자료를 찾아본 결과, 실제로 버섯의 섭취 가능 여부(독 여부)와 줄기, 뿌리의 상관관계보다는 다른 attribure(색깔, cap의 생김새)와의 연관성이 훨씬 크다고 판단하게 되어 drop을 실행하였다. "
   ]
  },
  {
   "cell_type": "code",
   "execution_count": 941,
   "metadata": {},
   "outputs": [],
   "source": [
    "newdata = newdata.drop(columns='stalk-root')"
   ]
  },
  {
   "cell_type": "markdown",
   "metadata": {},
   "source": [
    "또한 추가적인 자료 조사를 통해, 이 데이터 셋에서 대상으로하는 버섯과의 독성 여부는 주로 cap의 생김새에 의해서 어느정도 구분이 가능하며, population과 habitat은 어디서 채취를 하느냐, 환경이 일시적으로 또는 장기적으로 fungi가 자라기에 적절한지에 따라 매우 상이함으로 고려하여 판단하기가 어렵다는 자료등을 고려하여 population과 habitat을 포함한 많은 feature들을 삭제하고 cap, odor, veil, spore-print-color만을 남겨두었다."
   ]
  },
  {
   "cell_type": "code",
   "execution_count": 942,
   "metadata": {},
   "outputs": [],
   "source": [
    "newdata = newdata.drop(columns=['bruises','gill-attachment','gill-spacing','gill-size','gill-color','stalk-shape','stalk-surface-above-ring','stalk-surface-below-ring','stalk-color-above-ring','stalk-color-below-ring','ring-number','ring-type','population', 'habitat'])"
   ]
  },
  {
   "cell_type": "code",
   "execution_count": 943,
   "metadata": {},
   "outputs": [
    {
     "data": {
      "text/html": [
       "<div>\n",
       "<style scoped>\n",
       "    .dataframe tbody tr th:only-of-type {\n",
       "        vertical-align: middle;\n",
       "    }\n",
       "\n",
       "    .dataframe tbody tr th {\n",
       "        vertical-align: top;\n",
       "    }\n",
       "\n",
       "    .dataframe thead th {\n",
       "        text-align: right;\n",
       "    }\n",
       "</style>\n",
       "<table border=\"1\" class=\"dataframe\">\n",
       "  <thead>\n",
       "    <tr style=\"text-align: right;\">\n",
       "      <th></th>\n",
       "      <th>Class</th>\n",
       "      <th>cap-shape</th>\n",
       "      <th>cap-surface</th>\n",
       "      <th>cap-color</th>\n",
       "      <th>odor</th>\n",
       "      <th>veil-type</th>\n",
       "      <th>veil-color</th>\n",
       "      <th>spore-print-color</th>\n",
       "    </tr>\n",
       "  </thead>\n",
       "  <tbody>\n",
       "    <tr>\n",
       "      <th>count</th>\n",
       "      <td>8124</td>\n",
       "      <td>8124</td>\n",
       "      <td>8124</td>\n",
       "      <td>8124</td>\n",
       "      <td>8124</td>\n",
       "      <td>8124</td>\n",
       "      <td>8124</td>\n",
       "      <td>8124</td>\n",
       "    </tr>\n",
       "    <tr>\n",
       "      <th>unique</th>\n",
       "      <td>2</td>\n",
       "      <td>6</td>\n",
       "      <td>4</td>\n",
       "      <td>10</td>\n",
       "      <td>9</td>\n",
       "      <td>1</td>\n",
       "      <td>4</td>\n",
       "      <td>9</td>\n",
       "    </tr>\n",
       "    <tr>\n",
       "      <th>top</th>\n",
       "      <td>e</td>\n",
       "      <td>x</td>\n",
       "      <td>y</td>\n",
       "      <td>n</td>\n",
       "      <td>n</td>\n",
       "      <td>p</td>\n",
       "      <td>w</td>\n",
       "      <td>w</td>\n",
       "    </tr>\n",
       "    <tr>\n",
       "      <th>freq</th>\n",
       "      <td>4208</td>\n",
       "      <td>3656</td>\n",
       "      <td>3244</td>\n",
       "      <td>2284</td>\n",
       "      <td>3528</td>\n",
       "      <td>8124</td>\n",
       "      <td>7924</td>\n",
       "      <td>2388</td>\n",
       "    </tr>\n",
       "  </tbody>\n",
       "</table>\n",
       "</div>"
      ],
      "text/plain": [
       "       Class cap-shape cap-surface cap-color  odor veil-type veil-color  \\\n",
       "count   8124      8124        8124      8124  8124      8124       8124   \n",
       "unique     2         6           4        10     9         1          4   \n",
       "top        e         x           y         n     n         p          w   \n",
       "freq    4208      3656        3244      2284  3528      8124       7924   \n",
       "\n",
       "       spore-print-color  \n",
       "count               8124  \n",
       "unique                 9  \n",
       "top                    w  \n",
       "freq                2388  "
      ]
     },
     "execution_count": 943,
     "metadata": {},
     "output_type": "execute_result"
    }
   ],
   "source": [
    "newdata.describe()"
   ]
  },
  {
   "cell_type": "markdown",
   "metadata": {},
   "source": [
    "이렇게 세가지의 feature를 drop한 후, 인코딩을 하였고, feature space가 여전히 인코딩을 통해 늘어나지만 part1보다는 줄어듬을 알 수 있다."
   ]
  },
  {
   "cell_type": "markdown",
   "metadata": {},
   "source": [
    "## >> 여기서부터 인코딩 문제에서 에러가 해결되지 않에 feature selection을 거친 데이터에 대한 성능 평가는 마크다운으로 적어보았습니다\n",
    "\n",
    "ohe = OneHotEncoder()\n",
    "data_x = newdata.drop(columns=['Class'])\n",
    "ohe.fit(data_x)\n",
    "data_onehot = ohe.transform(data_x)\n",
    "data_onehot = data_onehot.toarray()\n",
    "data_onehot = data_onehot.shape[1]\n",
    "df = pd.DataFrame(data_onehot=data_onehot)\n",
    "data_onehot=pd.concat((data['Class'],df),axis=1)\n",
    "data_onehot\n",
    "data_onehot = data_onehot.values\n",
    "data_onehot"
   ]
  },
  {
   "cell_type": "markdown",
   "metadata": {},
   "source": [
    "newdata = pd.concat((newdata.drop(columns = ['Class','cap-shape','cap-surface','cap-color','odor','veil-type','veil-color','spore-print-color']),Class_df, cap_shape_df,cap_surface_df,cap_color_df,odor_df,veil_type_df,veil_color_df,spore_print_color_df),axis=1)"
   ]
  },
  {
   "cell_type": "code",
   "execution_count": 893,
   "metadata": {},
   "outputs": [
    {
     "data": {
      "text/html": [
       "<div>\n",
       "<style scoped>\n",
       "    .dataframe tbody tr th:only-of-type {\n",
       "        vertical-align: middle;\n",
       "    }\n",
       "\n",
       "    .dataframe tbody tr th {\n",
       "        vertical-align: top;\n",
       "    }\n",
       "\n",
       "    .dataframe thead th {\n",
       "        text-align: right;\n",
       "    }\n",
       "</style>\n",
       "<table border=\"1\" class=\"dataframe\">\n",
       "  <thead>\n",
       "    <tr style=\"text-align: right;\">\n",
       "      <th></th>\n",
       "      <th>Class_e</th>\n",
       "      <th>Class_p</th>\n",
       "      <th>cap-shape_b</th>\n",
       "      <th>cap-shape_c</th>\n",
       "      <th>cap-shape_f</th>\n",
       "      <th>cap-shape_k</th>\n",
       "      <th>cap-shape_s</th>\n",
       "      <th>cap-shape_x</th>\n",
       "      <th>cap-surface_f</th>\n",
       "      <th>cap-surface_g</th>\n",
       "      <th>...</th>\n",
       "      <th>veil-color_y</th>\n",
       "      <th>spore-print-color_b</th>\n",
       "      <th>spore-print-color_h</th>\n",
       "      <th>spore-print-color_k</th>\n",
       "      <th>spore-print-color_n</th>\n",
       "      <th>spore-print-color_o</th>\n",
       "      <th>spore-print-color_r</th>\n",
       "      <th>spore-print-color_u</th>\n",
       "      <th>spore-print-color_w</th>\n",
       "      <th>spore-print-color_y</th>\n",
       "    </tr>\n",
       "  </thead>\n",
       "  <tbody>\n",
       "    <tr>\n",
       "      <th>0</th>\n",
       "      <td>0</td>\n",
       "      <td>1</td>\n",
       "      <td>0</td>\n",
       "      <td>0</td>\n",
       "      <td>0</td>\n",
       "      <td>0</td>\n",
       "      <td>0</td>\n",
       "      <td>1</td>\n",
       "      <td>0</td>\n",
       "      <td>0</td>\n",
       "      <td>...</td>\n",
       "      <td>0</td>\n",
       "      <td>0</td>\n",
       "      <td>0</td>\n",
       "      <td>1</td>\n",
       "      <td>0</td>\n",
       "      <td>0</td>\n",
       "      <td>0</td>\n",
       "      <td>0</td>\n",
       "      <td>0</td>\n",
       "      <td>0</td>\n",
       "    </tr>\n",
       "    <tr>\n",
       "      <th>1</th>\n",
       "      <td>1</td>\n",
       "      <td>0</td>\n",
       "      <td>0</td>\n",
       "      <td>0</td>\n",
       "      <td>0</td>\n",
       "      <td>0</td>\n",
       "      <td>0</td>\n",
       "      <td>1</td>\n",
       "      <td>0</td>\n",
       "      <td>0</td>\n",
       "      <td>...</td>\n",
       "      <td>0</td>\n",
       "      <td>0</td>\n",
       "      <td>0</td>\n",
       "      <td>0</td>\n",
       "      <td>1</td>\n",
       "      <td>0</td>\n",
       "      <td>0</td>\n",
       "      <td>0</td>\n",
       "      <td>0</td>\n",
       "      <td>0</td>\n",
       "    </tr>\n",
       "    <tr>\n",
       "      <th>2</th>\n",
       "      <td>1</td>\n",
       "      <td>0</td>\n",
       "      <td>1</td>\n",
       "      <td>0</td>\n",
       "      <td>0</td>\n",
       "      <td>0</td>\n",
       "      <td>0</td>\n",
       "      <td>0</td>\n",
       "      <td>0</td>\n",
       "      <td>0</td>\n",
       "      <td>...</td>\n",
       "      <td>0</td>\n",
       "      <td>0</td>\n",
       "      <td>0</td>\n",
       "      <td>0</td>\n",
       "      <td>1</td>\n",
       "      <td>0</td>\n",
       "      <td>0</td>\n",
       "      <td>0</td>\n",
       "      <td>0</td>\n",
       "      <td>0</td>\n",
       "    </tr>\n",
       "    <tr>\n",
       "      <th>3</th>\n",
       "      <td>0</td>\n",
       "      <td>1</td>\n",
       "      <td>0</td>\n",
       "      <td>0</td>\n",
       "      <td>0</td>\n",
       "      <td>0</td>\n",
       "      <td>0</td>\n",
       "      <td>1</td>\n",
       "      <td>0</td>\n",
       "      <td>0</td>\n",
       "      <td>...</td>\n",
       "      <td>0</td>\n",
       "      <td>0</td>\n",
       "      <td>0</td>\n",
       "      <td>1</td>\n",
       "      <td>0</td>\n",
       "      <td>0</td>\n",
       "      <td>0</td>\n",
       "      <td>0</td>\n",
       "      <td>0</td>\n",
       "      <td>0</td>\n",
       "    </tr>\n",
       "    <tr>\n",
       "      <th>4</th>\n",
       "      <td>1</td>\n",
       "      <td>0</td>\n",
       "      <td>0</td>\n",
       "      <td>0</td>\n",
       "      <td>0</td>\n",
       "      <td>0</td>\n",
       "      <td>0</td>\n",
       "      <td>1</td>\n",
       "      <td>0</td>\n",
       "      <td>0</td>\n",
       "      <td>...</td>\n",
       "      <td>0</td>\n",
       "      <td>0</td>\n",
       "      <td>0</td>\n",
       "      <td>0</td>\n",
       "      <td>1</td>\n",
       "      <td>0</td>\n",
       "      <td>0</td>\n",
       "      <td>0</td>\n",
       "      <td>0</td>\n",
       "      <td>0</td>\n",
       "    </tr>\n",
       "    <tr>\n",
       "      <th>5</th>\n",
       "      <td>1</td>\n",
       "      <td>0</td>\n",
       "      <td>0</td>\n",
       "      <td>0</td>\n",
       "      <td>0</td>\n",
       "      <td>0</td>\n",
       "      <td>0</td>\n",
       "      <td>1</td>\n",
       "      <td>0</td>\n",
       "      <td>0</td>\n",
       "      <td>...</td>\n",
       "      <td>0</td>\n",
       "      <td>0</td>\n",
       "      <td>0</td>\n",
       "      <td>1</td>\n",
       "      <td>0</td>\n",
       "      <td>0</td>\n",
       "      <td>0</td>\n",
       "      <td>0</td>\n",
       "      <td>0</td>\n",
       "      <td>0</td>\n",
       "    </tr>\n",
       "    <tr>\n",
       "      <th>6</th>\n",
       "      <td>1</td>\n",
       "      <td>0</td>\n",
       "      <td>1</td>\n",
       "      <td>0</td>\n",
       "      <td>0</td>\n",
       "      <td>0</td>\n",
       "      <td>0</td>\n",
       "      <td>0</td>\n",
       "      <td>0</td>\n",
       "      <td>0</td>\n",
       "      <td>...</td>\n",
       "      <td>0</td>\n",
       "      <td>0</td>\n",
       "      <td>0</td>\n",
       "      <td>1</td>\n",
       "      <td>0</td>\n",
       "      <td>0</td>\n",
       "      <td>0</td>\n",
       "      <td>0</td>\n",
       "      <td>0</td>\n",
       "      <td>0</td>\n",
       "    </tr>\n",
       "    <tr>\n",
       "      <th>7</th>\n",
       "      <td>1</td>\n",
       "      <td>0</td>\n",
       "      <td>1</td>\n",
       "      <td>0</td>\n",
       "      <td>0</td>\n",
       "      <td>0</td>\n",
       "      <td>0</td>\n",
       "      <td>0</td>\n",
       "      <td>0</td>\n",
       "      <td>0</td>\n",
       "      <td>...</td>\n",
       "      <td>0</td>\n",
       "      <td>0</td>\n",
       "      <td>0</td>\n",
       "      <td>0</td>\n",
       "      <td>1</td>\n",
       "      <td>0</td>\n",
       "      <td>0</td>\n",
       "      <td>0</td>\n",
       "      <td>0</td>\n",
       "      <td>0</td>\n",
       "    </tr>\n",
       "    <tr>\n",
       "      <th>8</th>\n",
       "      <td>0</td>\n",
       "      <td>1</td>\n",
       "      <td>0</td>\n",
       "      <td>0</td>\n",
       "      <td>0</td>\n",
       "      <td>0</td>\n",
       "      <td>0</td>\n",
       "      <td>1</td>\n",
       "      <td>0</td>\n",
       "      <td>0</td>\n",
       "      <td>...</td>\n",
       "      <td>0</td>\n",
       "      <td>0</td>\n",
       "      <td>0</td>\n",
       "      <td>1</td>\n",
       "      <td>0</td>\n",
       "      <td>0</td>\n",
       "      <td>0</td>\n",
       "      <td>0</td>\n",
       "      <td>0</td>\n",
       "      <td>0</td>\n",
       "    </tr>\n",
       "    <tr>\n",
       "      <th>9</th>\n",
       "      <td>1</td>\n",
       "      <td>0</td>\n",
       "      <td>1</td>\n",
       "      <td>0</td>\n",
       "      <td>0</td>\n",
       "      <td>0</td>\n",
       "      <td>0</td>\n",
       "      <td>0</td>\n",
       "      <td>0</td>\n",
       "      <td>0</td>\n",
       "      <td>...</td>\n",
       "      <td>0</td>\n",
       "      <td>0</td>\n",
       "      <td>0</td>\n",
       "      <td>1</td>\n",
       "      <td>0</td>\n",
       "      <td>0</td>\n",
       "      <td>0</td>\n",
       "      <td>0</td>\n",
       "      <td>0</td>\n",
       "      <td>0</td>\n",
       "    </tr>\n",
       "    <tr>\n",
       "      <th>10</th>\n",
       "      <td>1</td>\n",
       "      <td>0</td>\n",
       "      <td>0</td>\n",
       "      <td>0</td>\n",
       "      <td>0</td>\n",
       "      <td>0</td>\n",
       "      <td>0</td>\n",
       "      <td>1</td>\n",
       "      <td>0</td>\n",
       "      <td>0</td>\n",
       "      <td>...</td>\n",
       "      <td>0</td>\n",
       "      <td>0</td>\n",
       "      <td>0</td>\n",
       "      <td>0</td>\n",
       "      <td>1</td>\n",
       "      <td>0</td>\n",
       "      <td>0</td>\n",
       "      <td>0</td>\n",
       "      <td>0</td>\n",
       "      <td>0</td>\n",
       "    </tr>\n",
       "    <tr>\n",
       "      <th>11</th>\n",
       "      <td>1</td>\n",
       "      <td>0</td>\n",
       "      <td>0</td>\n",
       "      <td>0</td>\n",
       "      <td>0</td>\n",
       "      <td>0</td>\n",
       "      <td>0</td>\n",
       "      <td>1</td>\n",
       "      <td>0</td>\n",
       "      <td>0</td>\n",
       "      <td>...</td>\n",
       "      <td>0</td>\n",
       "      <td>0</td>\n",
       "      <td>0</td>\n",
       "      <td>1</td>\n",
       "      <td>0</td>\n",
       "      <td>0</td>\n",
       "      <td>0</td>\n",
       "      <td>0</td>\n",
       "      <td>0</td>\n",
       "      <td>0</td>\n",
       "    </tr>\n",
       "    <tr>\n",
       "      <th>12</th>\n",
       "      <td>1</td>\n",
       "      <td>0</td>\n",
       "      <td>1</td>\n",
       "      <td>0</td>\n",
       "      <td>0</td>\n",
       "      <td>0</td>\n",
       "      <td>0</td>\n",
       "      <td>0</td>\n",
       "      <td>0</td>\n",
       "      <td>0</td>\n",
       "      <td>...</td>\n",
       "      <td>0</td>\n",
       "      <td>0</td>\n",
       "      <td>0</td>\n",
       "      <td>0</td>\n",
       "      <td>1</td>\n",
       "      <td>0</td>\n",
       "      <td>0</td>\n",
       "      <td>0</td>\n",
       "      <td>0</td>\n",
       "      <td>0</td>\n",
       "    </tr>\n",
       "    <tr>\n",
       "      <th>13</th>\n",
       "      <td>0</td>\n",
       "      <td>1</td>\n",
       "      <td>0</td>\n",
       "      <td>0</td>\n",
       "      <td>0</td>\n",
       "      <td>0</td>\n",
       "      <td>0</td>\n",
       "      <td>1</td>\n",
       "      <td>0</td>\n",
       "      <td>0</td>\n",
       "      <td>...</td>\n",
       "      <td>0</td>\n",
       "      <td>0</td>\n",
       "      <td>0</td>\n",
       "      <td>0</td>\n",
       "      <td>1</td>\n",
       "      <td>0</td>\n",
       "      <td>0</td>\n",
       "      <td>0</td>\n",
       "      <td>0</td>\n",
       "      <td>0</td>\n",
       "    </tr>\n",
       "    <tr>\n",
       "      <th>14</th>\n",
       "      <td>1</td>\n",
       "      <td>0</td>\n",
       "      <td>0</td>\n",
       "      <td>0</td>\n",
       "      <td>0</td>\n",
       "      <td>0</td>\n",
       "      <td>0</td>\n",
       "      <td>1</td>\n",
       "      <td>1</td>\n",
       "      <td>0</td>\n",
       "      <td>...</td>\n",
       "      <td>0</td>\n",
       "      <td>0</td>\n",
       "      <td>0</td>\n",
       "      <td>1</td>\n",
       "      <td>0</td>\n",
       "      <td>0</td>\n",
       "      <td>0</td>\n",
       "      <td>0</td>\n",
       "      <td>0</td>\n",
       "      <td>0</td>\n",
       "    </tr>\n",
       "    <tr>\n",
       "      <th>15</th>\n",
       "      <td>1</td>\n",
       "      <td>0</td>\n",
       "      <td>0</td>\n",
       "      <td>0</td>\n",
       "      <td>0</td>\n",
       "      <td>0</td>\n",
       "      <td>1</td>\n",
       "      <td>0</td>\n",
       "      <td>1</td>\n",
       "      <td>0</td>\n",
       "      <td>...</td>\n",
       "      <td>0</td>\n",
       "      <td>0</td>\n",
       "      <td>0</td>\n",
       "      <td>0</td>\n",
       "      <td>1</td>\n",
       "      <td>0</td>\n",
       "      <td>0</td>\n",
       "      <td>0</td>\n",
       "      <td>0</td>\n",
       "      <td>0</td>\n",
       "    </tr>\n",
       "    <tr>\n",
       "      <th>16</th>\n",
       "      <td>1</td>\n",
       "      <td>0</td>\n",
       "      <td>0</td>\n",
       "      <td>0</td>\n",
       "      <td>1</td>\n",
       "      <td>0</td>\n",
       "      <td>0</td>\n",
       "      <td>0</td>\n",
       "      <td>1</td>\n",
       "      <td>0</td>\n",
       "      <td>...</td>\n",
       "      <td>0</td>\n",
       "      <td>0</td>\n",
       "      <td>0</td>\n",
       "      <td>0</td>\n",
       "      <td>1</td>\n",
       "      <td>0</td>\n",
       "      <td>0</td>\n",
       "      <td>0</td>\n",
       "      <td>0</td>\n",
       "      <td>0</td>\n",
       "    </tr>\n",
       "    <tr>\n",
       "      <th>17</th>\n",
       "      <td>0</td>\n",
       "      <td>1</td>\n",
       "      <td>0</td>\n",
       "      <td>0</td>\n",
       "      <td>0</td>\n",
       "      <td>0</td>\n",
       "      <td>0</td>\n",
       "      <td>1</td>\n",
       "      <td>0</td>\n",
       "      <td>0</td>\n",
       "      <td>...</td>\n",
       "      <td>0</td>\n",
       "      <td>0</td>\n",
       "      <td>0</td>\n",
       "      <td>1</td>\n",
       "      <td>0</td>\n",
       "      <td>0</td>\n",
       "      <td>0</td>\n",
       "      <td>0</td>\n",
       "      <td>0</td>\n",
       "      <td>0</td>\n",
       "    </tr>\n",
       "    <tr>\n",
       "      <th>18</th>\n",
       "      <td>0</td>\n",
       "      <td>1</td>\n",
       "      <td>0</td>\n",
       "      <td>0</td>\n",
       "      <td>0</td>\n",
       "      <td>0</td>\n",
       "      <td>0</td>\n",
       "      <td>1</td>\n",
       "      <td>0</td>\n",
       "      <td>0</td>\n",
       "      <td>...</td>\n",
       "      <td>0</td>\n",
       "      <td>0</td>\n",
       "      <td>0</td>\n",
       "      <td>0</td>\n",
       "      <td>1</td>\n",
       "      <td>0</td>\n",
       "      <td>0</td>\n",
       "      <td>0</td>\n",
       "      <td>0</td>\n",
       "      <td>0</td>\n",
       "    </tr>\n",
       "    <tr>\n",
       "      <th>19</th>\n",
       "      <td>0</td>\n",
       "      <td>1</td>\n",
       "      <td>0</td>\n",
       "      <td>0</td>\n",
       "      <td>0</td>\n",
       "      <td>0</td>\n",
       "      <td>0</td>\n",
       "      <td>1</td>\n",
       "      <td>0</td>\n",
       "      <td>0</td>\n",
       "      <td>...</td>\n",
       "      <td>0</td>\n",
       "      <td>0</td>\n",
       "      <td>0</td>\n",
       "      <td>0</td>\n",
       "      <td>1</td>\n",
       "      <td>0</td>\n",
       "      <td>0</td>\n",
       "      <td>0</td>\n",
       "      <td>0</td>\n",
       "      <td>0</td>\n",
       "    </tr>\n",
       "    <tr>\n",
       "      <th>20</th>\n",
       "      <td>1</td>\n",
       "      <td>0</td>\n",
       "      <td>1</td>\n",
       "      <td>0</td>\n",
       "      <td>0</td>\n",
       "      <td>0</td>\n",
       "      <td>0</td>\n",
       "      <td>0</td>\n",
       "      <td>0</td>\n",
       "      <td>0</td>\n",
       "      <td>...</td>\n",
       "      <td>0</td>\n",
       "      <td>0</td>\n",
       "      <td>0</td>\n",
       "      <td>0</td>\n",
       "      <td>1</td>\n",
       "      <td>0</td>\n",
       "      <td>0</td>\n",
       "      <td>0</td>\n",
       "      <td>0</td>\n",
       "      <td>0</td>\n",
       "    </tr>\n",
       "    <tr>\n",
       "      <th>21</th>\n",
       "      <td>0</td>\n",
       "      <td>1</td>\n",
       "      <td>0</td>\n",
       "      <td>0</td>\n",
       "      <td>0</td>\n",
       "      <td>0</td>\n",
       "      <td>0</td>\n",
       "      <td>1</td>\n",
       "      <td>0</td>\n",
       "      <td>0</td>\n",
       "      <td>...</td>\n",
       "      <td>0</td>\n",
       "      <td>0</td>\n",
       "      <td>0</td>\n",
       "      <td>0</td>\n",
       "      <td>1</td>\n",
       "      <td>0</td>\n",
       "      <td>0</td>\n",
       "      <td>0</td>\n",
       "      <td>0</td>\n",
       "      <td>0</td>\n",
       "    </tr>\n",
       "    <tr>\n",
       "      <th>22</th>\n",
       "      <td>1</td>\n",
       "      <td>0</td>\n",
       "      <td>1</td>\n",
       "      <td>0</td>\n",
       "      <td>0</td>\n",
       "      <td>0</td>\n",
       "      <td>0</td>\n",
       "      <td>0</td>\n",
       "      <td>0</td>\n",
       "      <td>0</td>\n",
       "      <td>...</td>\n",
       "      <td>0</td>\n",
       "      <td>0</td>\n",
       "      <td>0</td>\n",
       "      <td>0</td>\n",
       "      <td>1</td>\n",
       "      <td>0</td>\n",
       "      <td>0</td>\n",
       "      <td>0</td>\n",
       "      <td>0</td>\n",
       "      <td>0</td>\n",
       "    </tr>\n",
       "    <tr>\n",
       "      <th>23</th>\n",
       "      <td>1</td>\n",
       "      <td>0</td>\n",
       "      <td>1</td>\n",
       "      <td>0</td>\n",
       "      <td>0</td>\n",
       "      <td>0</td>\n",
       "      <td>0</td>\n",
       "      <td>0</td>\n",
       "      <td>0</td>\n",
       "      <td>0</td>\n",
       "      <td>...</td>\n",
       "      <td>0</td>\n",
       "      <td>0</td>\n",
       "      <td>0</td>\n",
       "      <td>0</td>\n",
       "      <td>1</td>\n",
       "      <td>0</td>\n",
       "      <td>0</td>\n",
       "      <td>0</td>\n",
       "      <td>0</td>\n",
       "      <td>0</td>\n",
       "    </tr>\n",
       "    <tr>\n",
       "      <th>24</th>\n",
       "      <td>1</td>\n",
       "      <td>0</td>\n",
       "      <td>1</td>\n",
       "      <td>0</td>\n",
       "      <td>0</td>\n",
       "      <td>0</td>\n",
       "      <td>0</td>\n",
       "      <td>0</td>\n",
       "      <td>0</td>\n",
       "      <td>0</td>\n",
       "      <td>...</td>\n",
       "      <td>0</td>\n",
       "      <td>0</td>\n",
       "      <td>0</td>\n",
       "      <td>1</td>\n",
       "      <td>0</td>\n",
       "      <td>0</td>\n",
       "      <td>0</td>\n",
       "      <td>0</td>\n",
       "      <td>0</td>\n",
       "      <td>0</td>\n",
       "    </tr>\n",
       "    <tr>\n",
       "      <th>25</th>\n",
       "      <td>0</td>\n",
       "      <td>1</td>\n",
       "      <td>0</td>\n",
       "      <td>0</td>\n",
       "      <td>1</td>\n",
       "      <td>0</td>\n",
       "      <td>0</td>\n",
       "      <td>0</td>\n",
       "      <td>0</td>\n",
       "      <td>0</td>\n",
       "      <td>...</td>\n",
       "      <td>0</td>\n",
       "      <td>0</td>\n",
       "      <td>0</td>\n",
       "      <td>0</td>\n",
       "      <td>1</td>\n",
       "      <td>0</td>\n",
       "      <td>0</td>\n",
       "      <td>0</td>\n",
       "      <td>0</td>\n",
       "      <td>0</td>\n",
       "    </tr>\n",
       "    <tr>\n",
       "      <th>26</th>\n",
       "      <td>1</td>\n",
       "      <td>0</td>\n",
       "      <td>0</td>\n",
       "      <td>0</td>\n",
       "      <td>0</td>\n",
       "      <td>0</td>\n",
       "      <td>0</td>\n",
       "      <td>1</td>\n",
       "      <td>0</td>\n",
       "      <td>0</td>\n",
       "      <td>...</td>\n",
       "      <td>0</td>\n",
       "      <td>0</td>\n",
       "      <td>0</td>\n",
       "      <td>0</td>\n",
       "      <td>1</td>\n",
       "      <td>0</td>\n",
       "      <td>0</td>\n",
       "      <td>0</td>\n",
       "      <td>0</td>\n",
       "      <td>0</td>\n",
       "    </tr>\n",
       "    <tr>\n",
       "      <th>27</th>\n",
       "      <td>1</td>\n",
       "      <td>0</td>\n",
       "      <td>0</td>\n",
       "      <td>0</td>\n",
       "      <td>0</td>\n",
       "      <td>0</td>\n",
       "      <td>0</td>\n",
       "      <td>1</td>\n",
       "      <td>0</td>\n",
       "      <td>0</td>\n",
       "      <td>...</td>\n",
       "      <td>0</td>\n",
       "      <td>0</td>\n",
       "      <td>0</td>\n",
       "      <td>0</td>\n",
       "      <td>1</td>\n",
       "      <td>0</td>\n",
       "      <td>0</td>\n",
       "      <td>0</td>\n",
       "      <td>0</td>\n",
       "      <td>0</td>\n",
       "    </tr>\n",
       "    <tr>\n",
       "      <th>28</th>\n",
       "      <td>1</td>\n",
       "      <td>0</td>\n",
       "      <td>0</td>\n",
       "      <td>0</td>\n",
       "      <td>1</td>\n",
       "      <td>0</td>\n",
       "      <td>0</td>\n",
       "      <td>0</td>\n",
       "      <td>1</td>\n",
       "      <td>0</td>\n",
       "      <td>...</td>\n",
       "      <td>0</td>\n",
       "      <td>0</td>\n",
       "      <td>0</td>\n",
       "      <td>1</td>\n",
       "      <td>0</td>\n",
       "      <td>0</td>\n",
       "      <td>0</td>\n",
       "      <td>0</td>\n",
       "      <td>0</td>\n",
       "      <td>0</td>\n",
       "    </tr>\n",
       "    <tr>\n",
       "      <th>29</th>\n",
       "      <td>1</td>\n",
       "      <td>0</td>\n",
       "      <td>0</td>\n",
       "      <td>0</td>\n",
       "      <td>0</td>\n",
       "      <td>0</td>\n",
       "      <td>0</td>\n",
       "      <td>1</td>\n",
       "      <td>0</td>\n",
       "      <td>0</td>\n",
       "      <td>...</td>\n",
       "      <td>0</td>\n",
       "      <td>0</td>\n",
       "      <td>0</td>\n",
       "      <td>0</td>\n",
       "      <td>1</td>\n",
       "      <td>0</td>\n",
       "      <td>0</td>\n",
       "      <td>0</td>\n",
       "      <td>0</td>\n",
       "      <td>0</td>\n",
       "    </tr>\n",
       "    <tr>\n",
       "      <th>...</th>\n",
       "      <td>...</td>\n",
       "      <td>...</td>\n",
       "      <td>...</td>\n",
       "      <td>...</td>\n",
       "      <td>...</td>\n",
       "      <td>...</td>\n",
       "      <td>...</td>\n",
       "      <td>...</td>\n",
       "      <td>...</td>\n",
       "      <td>...</td>\n",
       "      <td>...</td>\n",
       "      <td>...</td>\n",
       "      <td>...</td>\n",
       "      <td>...</td>\n",
       "      <td>...</td>\n",
       "      <td>...</td>\n",
       "      <td>...</td>\n",
       "      <td>...</td>\n",
       "      <td>...</td>\n",
       "      <td>...</td>\n",
       "      <td>...</td>\n",
       "    </tr>\n",
       "    <tr>\n",
       "      <th>8094</th>\n",
       "      <td>1</td>\n",
       "      <td>0</td>\n",
       "      <td>1</td>\n",
       "      <td>0</td>\n",
       "      <td>0</td>\n",
       "      <td>0</td>\n",
       "      <td>0</td>\n",
       "      <td>0</td>\n",
       "      <td>0</td>\n",
       "      <td>0</td>\n",
       "      <td>...</td>\n",
       "      <td>0</td>\n",
       "      <td>0</td>\n",
       "      <td>0</td>\n",
       "      <td>0</td>\n",
       "      <td>0</td>\n",
       "      <td>0</td>\n",
       "      <td>0</td>\n",
       "      <td>0</td>\n",
       "      <td>1</td>\n",
       "      <td>0</td>\n",
       "    </tr>\n",
       "    <tr>\n",
       "      <th>8095</th>\n",
       "      <td>0</td>\n",
       "      <td>1</td>\n",
       "      <td>0</td>\n",
       "      <td>0</td>\n",
       "      <td>0</td>\n",
       "      <td>0</td>\n",
       "      <td>0</td>\n",
       "      <td>1</td>\n",
       "      <td>0</td>\n",
       "      <td>0</td>\n",
       "      <td>...</td>\n",
       "      <td>0</td>\n",
       "      <td>0</td>\n",
       "      <td>0</td>\n",
       "      <td>0</td>\n",
       "      <td>0</td>\n",
       "      <td>0</td>\n",
       "      <td>0</td>\n",
       "      <td>0</td>\n",
       "      <td>1</td>\n",
       "      <td>0</td>\n",
       "    </tr>\n",
       "    <tr>\n",
       "      <th>8096</th>\n",
       "      <td>1</td>\n",
       "      <td>0</td>\n",
       "      <td>0</td>\n",
       "      <td>0</td>\n",
       "      <td>0</td>\n",
       "      <td>1</td>\n",
       "      <td>0</td>\n",
       "      <td>0</td>\n",
       "      <td>1</td>\n",
       "      <td>0</td>\n",
       "      <td>...</td>\n",
       "      <td>0</td>\n",
       "      <td>0</td>\n",
       "      <td>0</td>\n",
       "      <td>0</td>\n",
       "      <td>0</td>\n",
       "      <td>0</td>\n",
       "      <td>0</td>\n",
       "      <td>0</td>\n",
       "      <td>1</td>\n",
       "      <td>0</td>\n",
       "    </tr>\n",
       "    <tr>\n",
       "      <th>8097</th>\n",
       "      <td>0</td>\n",
       "      <td>1</td>\n",
       "      <td>0</td>\n",
       "      <td>0</td>\n",
       "      <td>0</td>\n",
       "      <td>1</td>\n",
       "      <td>0</td>\n",
       "      <td>0</td>\n",
       "      <td>0</td>\n",
       "      <td>0</td>\n",
       "      <td>...</td>\n",
       "      <td>0</td>\n",
       "      <td>0</td>\n",
       "      <td>0</td>\n",
       "      <td>0</td>\n",
       "      <td>0</td>\n",
       "      <td>0</td>\n",
       "      <td>0</td>\n",
       "      <td>0</td>\n",
       "      <td>1</td>\n",
       "      <td>0</td>\n",
       "    </tr>\n",
       "    <tr>\n",
       "      <th>8098</th>\n",
       "      <td>0</td>\n",
       "      <td>1</td>\n",
       "      <td>0</td>\n",
       "      <td>0</td>\n",
       "      <td>0</td>\n",
       "      <td>1</td>\n",
       "      <td>0</td>\n",
       "      <td>0</td>\n",
       "      <td>0</td>\n",
       "      <td>0</td>\n",
       "      <td>...</td>\n",
       "      <td>0</td>\n",
       "      <td>0</td>\n",
       "      <td>0</td>\n",
       "      <td>0</td>\n",
       "      <td>0</td>\n",
       "      <td>0</td>\n",
       "      <td>0</td>\n",
       "      <td>0</td>\n",
       "      <td>1</td>\n",
       "      <td>0</td>\n",
       "    </tr>\n",
       "    <tr>\n",
       "      <th>8099</th>\n",
       "      <td>1</td>\n",
       "      <td>0</td>\n",
       "      <td>0</td>\n",
       "      <td>0</td>\n",
       "      <td>0</td>\n",
       "      <td>1</td>\n",
       "      <td>0</td>\n",
       "      <td>0</td>\n",
       "      <td>1</td>\n",
       "      <td>0</td>\n",
       "      <td>...</td>\n",
       "      <td>0</td>\n",
       "      <td>0</td>\n",
       "      <td>0</td>\n",
       "      <td>0</td>\n",
       "      <td>0</td>\n",
       "      <td>0</td>\n",
       "      <td>0</td>\n",
       "      <td>0</td>\n",
       "      <td>1</td>\n",
       "      <td>0</td>\n",
       "    </tr>\n",
       "    <tr>\n",
       "      <th>8100</th>\n",
       "      <td>1</td>\n",
       "      <td>0</td>\n",
       "      <td>0</td>\n",
       "      <td>0</td>\n",
       "      <td>1</td>\n",
       "      <td>0</td>\n",
       "      <td>0</td>\n",
       "      <td>0</td>\n",
       "      <td>0</td>\n",
       "      <td>0</td>\n",
       "      <td>...</td>\n",
       "      <td>0</td>\n",
       "      <td>1</td>\n",
       "      <td>0</td>\n",
       "      <td>0</td>\n",
       "      <td>0</td>\n",
       "      <td>0</td>\n",
       "      <td>0</td>\n",
       "      <td>0</td>\n",
       "      <td>0</td>\n",
       "      <td>0</td>\n",
       "    </tr>\n",
       "    <tr>\n",
       "      <th>8101</th>\n",
       "      <td>0</td>\n",
       "      <td>1</td>\n",
       "      <td>0</td>\n",
       "      <td>0</td>\n",
       "      <td>0</td>\n",
       "      <td>1</td>\n",
       "      <td>0</td>\n",
       "      <td>0</td>\n",
       "      <td>0</td>\n",
       "      <td>0</td>\n",
       "      <td>...</td>\n",
       "      <td>0</td>\n",
       "      <td>0</td>\n",
       "      <td>0</td>\n",
       "      <td>0</td>\n",
       "      <td>0</td>\n",
       "      <td>0</td>\n",
       "      <td>0</td>\n",
       "      <td>0</td>\n",
       "      <td>1</td>\n",
       "      <td>0</td>\n",
       "    </tr>\n",
       "    <tr>\n",
       "      <th>8102</th>\n",
       "      <td>1</td>\n",
       "      <td>0</td>\n",
       "      <td>0</td>\n",
       "      <td>0</td>\n",
       "      <td>0</td>\n",
       "      <td>0</td>\n",
       "      <td>0</td>\n",
       "      <td>1</td>\n",
       "      <td>0</td>\n",
       "      <td>0</td>\n",
       "      <td>...</td>\n",
       "      <td>0</td>\n",
       "      <td>0</td>\n",
       "      <td>0</td>\n",
       "      <td>0</td>\n",
       "      <td>1</td>\n",
       "      <td>0</td>\n",
       "      <td>0</td>\n",
       "      <td>0</td>\n",
       "      <td>0</td>\n",
       "      <td>0</td>\n",
       "    </tr>\n",
       "    <tr>\n",
       "      <th>8103</th>\n",
       "      <td>1</td>\n",
       "      <td>0</td>\n",
       "      <td>0</td>\n",
       "      <td>0</td>\n",
       "      <td>0</td>\n",
       "      <td>1</td>\n",
       "      <td>0</td>\n",
       "      <td>0</td>\n",
       "      <td>0</td>\n",
       "      <td>0</td>\n",
       "      <td>...</td>\n",
       "      <td>0</td>\n",
       "      <td>0</td>\n",
       "      <td>0</td>\n",
       "      <td>0</td>\n",
       "      <td>0</td>\n",
       "      <td>1</td>\n",
       "      <td>0</td>\n",
       "      <td>0</td>\n",
       "      <td>0</td>\n",
       "      <td>0</td>\n",
       "    </tr>\n",
       "    <tr>\n",
       "      <th>8104</th>\n",
       "      <td>1</td>\n",
       "      <td>0</td>\n",
       "      <td>0</td>\n",
       "      <td>0</td>\n",
       "      <td>0</td>\n",
       "      <td>1</td>\n",
       "      <td>0</td>\n",
       "      <td>0</td>\n",
       "      <td>0</td>\n",
       "      <td>0</td>\n",
       "      <td>...</td>\n",
       "      <td>0</td>\n",
       "      <td>0</td>\n",
       "      <td>0</td>\n",
       "      <td>0</td>\n",
       "      <td>1</td>\n",
       "      <td>0</td>\n",
       "      <td>0</td>\n",
       "      <td>0</td>\n",
       "      <td>0</td>\n",
       "      <td>0</td>\n",
       "    </tr>\n",
       "    <tr>\n",
       "      <th>8105</th>\n",
       "      <td>1</td>\n",
       "      <td>0</td>\n",
       "      <td>0</td>\n",
       "      <td>0</td>\n",
       "      <td>0</td>\n",
       "      <td>1</td>\n",
       "      <td>0</td>\n",
       "      <td>0</td>\n",
       "      <td>0</td>\n",
       "      <td>0</td>\n",
       "      <td>...</td>\n",
       "      <td>0</td>\n",
       "      <td>0</td>\n",
       "      <td>0</td>\n",
       "      <td>0</td>\n",
       "      <td>0</td>\n",
       "      <td>0</td>\n",
       "      <td>0</td>\n",
       "      <td>0</td>\n",
       "      <td>0</td>\n",
       "      <td>1</td>\n",
       "    </tr>\n",
       "    <tr>\n",
       "      <th>8106</th>\n",
       "      <td>1</td>\n",
       "      <td>0</td>\n",
       "      <td>0</td>\n",
       "      <td>0</td>\n",
       "      <td>0</td>\n",
       "      <td>1</td>\n",
       "      <td>0</td>\n",
       "      <td>0</td>\n",
       "      <td>0</td>\n",
       "      <td>0</td>\n",
       "      <td>...</td>\n",
       "      <td>0</td>\n",
       "      <td>0</td>\n",
       "      <td>0</td>\n",
       "      <td>0</td>\n",
       "      <td>1</td>\n",
       "      <td>0</td>\n",
       "      <td>0</td>\n",
       "      <td>0</td>\n",
       "      <td>0</td>\n",
       "      <td>0</td>\n",
       "    </tr>\n",
       "    <tr>\n",
       "      <th>8107</th>\n",
       "      <td>1</td>\n",
       "      <td>0</td>\n",
       "      <td>0</td>\n",
       "      <td>0</td>\n",
       "      <td>0</td>\n",
       "      <td>0</td>\n",
       "      <td>0</td>\n",
       "      <td>1</td>\n",
       "      <td>0</td>\n",
       "      <td>0</td>\n",
       "      <td>...</td>\n",
       "      <td>0</td>\n",
       "      <td>0</td>\n",
       "      <td>0</td>\n",
       "      <td>0</td>\n",
       "      <td>1</td>\n",
       "      <td>0</td>\n",
       "      <td>0</td>\n",
       "      <td>0</td>\n",
       "      <td>0</td>\n",
       "      <td>0</td>\n",
       "    </tr>\n",
       "    <tr>\n",
       "      <th>8108</th>\n",
       "      <td>0</td>\n",
       "      <td>1</td>\n",
       "      <td>0</td>\n",
       "      <td>0</td>\n",
       "      <td>0</td>\n",
       "      <td>1</td>\n",
       "      <td>0</td>\n",
       "      <td>0</td>\n",
       "      <td>0</td>\n",
       "      <td>0</td>\n",
       "      <td>...</td>\n",
       "      <td>0</td>\n",
       "      <td>0</td>\n",
       "      <td>0</td>\n",
       "      <td>0</td>\n",
       "      <td>0</td>\n",
       "      <td>0</td>\n",
       "      <td>0</td>\n",
       "      <td>0</td>\n",
       "      <td>1</td>\n",
       "      <td>0</td>\n",
       "    </tr>\n",
       "    <tr>\n",
       "      <th>8109</th>\n",
       "      <td>1</td>\n",
       "      <td>0</td>\n",
       "      <td>1</td>\n",
       "      <td>0</td>\n",
       "      <td>0</td>\n",
       "      <td>0</td>\n",
       "      <td>0</td>\n",
       "      <td>0</td>\n",
       "      <td>0</td>\n",
       "      <td>0</td>\n",
       "      <td>...</td>\n",
       "      <td>0</td>\n",
       "      <td>0</td>\n",
       "      <td>0</td>\n",
       "      <td>0</td>\n",
       "      <td>0</td>\n",
       "      <td>0</td>\n",
       "      <td>0</td>\n",
       "      <td>0</td>\n",
       "      <td>1</td>\n",
       "      <td>0</td>\n",
       "    </tr>\n",
       "    <tr>\n",
       "      <th>8110</th>\n",
       "      <td>1</td>\n",
       "      <td>0</td>\n",
       "      <td>0</td>\n",
       "      <td>0</td>\n",
       "      <td>0</td>\n",
       "      <td>0</td>\n",
       "      <td>0</td>\n",
       "      <td>1</td>\n",
       "      <td>0</td>\n",
       "      <td>0</td>\n",
       "      <td>...</td>\n",
       "      <td>0</td>\n",
       "      <td>0</td>\n",
       "      <td>0</td>\n",
       "      <td>0</td>\n",
       "      <td>1</td>\n",
       "      <td>0</td>\n",
       "      <td>0</td>\n",
       "      <td>0</td>\n",
       "      <td>0</td>\n",
       "      <td>0</td>\n",
       "    </tr>\n",
       "    <tr>\n",
       "      <th>8111</th>\n",
       "      <td>1</td>\n",
       "      <td>0</td>\n",
       "      <td>0</td>\n",
       "      <td>0</td>\n",
       "      <td>0</td>\n",
       "      <td>1</td>\n",
       "      <td>0</td>\n",
       "      <td>0</td>\n",
       "      <td>0</td>\n",
       "      <td>0</td>\n",
       "      <td>...</td>\n",
       "      <td>0</td>\n",
       "      <td>0</td>\n",
       "      <td>0</td>\n",
       "      <td>0</td>\n",
       "      <td>0</td>\n",
       "      <td>0</td>\n",
       "      <td>0</td>\n",
       "      <td>0</td>\n",
       "      <td>1</td>\n",
       "      <td>0</td>\n",
       "    </tr>\n",
       "    <tr>\n",
       "      <th>8112</th>\n",
       "      <td>1</td>\n",
       "      <td>0</td>\n",
       "      <td>0</td>\n",
       "      <td>0</td>\n",
       "      <td>0</td>\n",
       "      <td>1</td>\n",
       "      <td>0</td>\n",
       "      <td>0</td>\n",
       "      <td>0</td>\n",
       "      <td>0</td>\n",
       "      <td>...</td>\n",
       "      <td>0</td>\n",
       "      <td>1</td>\n",
       "      <td>0</td>\n",
       "      <td>0</td>\n",
       "      <td>0</td>\n",
       "      <td>0</td>\n",
       "      <td>0</td>\n",
       "      <td>0</td>\n",
       "      <td>0</td>\n",
       "      <td>0</td>\n",
       "    </tr>\n",
       "    <tr>\n",
       "      <th>8113</th>\n",
       "      <td>0</td>\n",
       "      <td>1</td>\n",
       "      <td>0</td>\n",
       "      <td>0</td>\n",
       "      <td>0</td>\n",
       "      <td>1</td>\n",
       "      <td>0</td>\n",
       "      <td>0</td>\n",
       "      <td>0</td>\n",
       "      <td>0</td>\n",
       "      <td>...</td>\n",
       "      <td>0</td>\n",
       "      <td>0</td>\n",
       "      <td>0</td>\n",
       "      <td>0</td>\n",
       "      <td>0</td>\n",
       "      <td>0</td>\n",
       "      <td>0</td>\n",
       "      <td>0</td>\n",
       "      <td>1</td>\n",
       "      <td>0</td>\n",
       "    </tr>\n",
       "    <tr>\n",
       "      <th>8114</th>\n",
       "      <td>0</td>\n",
       "      <td>1</td>\n",
       "      <td>0</td>\n",
       "      <td>0</td>\n",
       "      <td>1</td>\n",
       "      <td>0</td>\n",
       "      <td>0</td>\n",
       "      <td>0</td>\n",
       "      <td>0</td>\n",
       "      <td>0</td>\n",
       "      <td>...</td>\n",
       "      <td>0</td>\n",
       "      <td>0</td>\n",
       "      <td>0</td>\n",
       "      <td>0</td>\n",
       "      <td>0</td>\n",
       "      <td>0</td>\n",
       "      <td>0</td>\n",
       "      <td>0</td>\n",
       "      <td>1</td>\n",
       "      <td>0</td>\n",
       "    </tr>\n",
       "    <tr>\n",
       "      <th>8115</th>\n",
       "      <td>1</td>\n",
       "      <td>0</td>\n",
       "      <td>0</td>\n",
       "      <td>0</td>\n",
       "      <td>0</td>\n",
       "      <td>0</td>\n",
       "      <td>0</td>\n",
       "      <td>1</td>\n",
       "      <td>0</td>\n",
       "      <td>0</td>\n",
       "      <td>...</td>\n",
       "      <td>0</td>\n",
       "      <td>0</td>\n",
       "      <td>0</td>\n",
       "      <td>0</td>\n",
       "      <td>0</td>\n",
       "      <td>1</td>\n",
       "      <td>0</td>\n",
       "      <td>0</td>\n",
       "      <td>0</td>\n",
       "      <td>0</td>\n",
       "    </tr>\n",
       "    <tr>\n",
       "      <th>8116</th>\n",
       "      <td>0</td>\n",
       "      <td>1</td>\n",
       "      <td>0</td>\n",
       "      <td>0</td>\n",
       "      <td>0</td>\n",
       "      <td>1</td>\n",
       "      <td>0</td>\n",
       "      <td>0</td>\n",
       "      <td>0</td>\n",
       "      <td>0</td>\n",
       "      <td>...</td>\n",
       "      <td>0</td>\n",
       "      <td>0</td>\n",
       "      <td>0</td>\n",
       "      <td>0</td>\n",
       "      <td>0</td>\n",
       "      <td>0</td>\n",
       "      <td>0</td>\n",
       "      <td>0</td>\n",
       "      <td>1</td>\n",
       "      <td>0</td>\n",
       "    </tr>\n",
       "    <tr>\n",
       "      <th>8117</th>\n",
       "      <td>0</td>\n",
       "      <td>1</td>\n",
       "      <td>0</td>\n",
       "      <td>0</td>\n",
       "      <td>0</td>\n",
       "      <td>1</td>\n",
       "      <td>0</td>\n",
       "      <td>0</td>\n",
       "      <td>0</td>\n",
       "      <td>0</td>\n",
       "      <td>...</td>\n",
       "      <td>0</td>\n",
       "      <td>0</td>\n",
       "      <td>0</td>\n",
       "      <td>0</td>\n",
       "      <td>0</td>\n",
       "      <td>0</td>\n",
       "      <td>0</td>\n",
       "      <td>0</td>\n",
       "      <td>1</td>\n",
       "      <td>0</td>\n",
       "    </tr>\n",
       "    <tr>\n",
       "      <th>8118</th>\n",
       "      <td>0</td>\n",
       "      <td>1</td>\n",
       "      <td>0</td>\n",
       "      <td>0</td>\n",
       "      <td>0</td>\n",
       "      <td>1</td>\n",
       "      <td>0</td>\n",
       "      <td>0</td>\n",
       "      <td>0</td>\n",
       "      <td>0</td>\n",
       "      <td>...</td>\n",
       "      <td>0</td>\n",
       "      <td>0</td>\n",
       "      <td>0</td>\n",
       "      <td>0</td>\n",
       "      <td>0</td>\n",
       "      <td>0</td>\n",
       "      <td>0</td>\n",
       "      <td>0</td>\n",
       "      <td>1</td>\n",
       "      <td>0</td>\n",
       "    </tr>\n",
       "    <tr>\n",
       "      <th>8119</th>\n",
       "      <td>1</td>\n",
       "      <td>0</td>\n",
       "      <td>0</td>\n",
       "      <td>0</td>\n",
       "      <td>0</td>\n",
       "      <td>1</td>\n",
       "      <td>0</td>\n",
       "      <td>0</td>\n",
       "      <td>0</td>\n",
       "      <td>0</td>\n",
       "      <td>...</td>\n",
       "      <td>0</td>\n",
       "      <td>1</td>\n",
       "      <td>0</td>\n",
       "      <td>0</td>\n",
       "      <td>0</td>\n",
       "      <td>0</td>\n",
       "      <td>0</td>\n",
       "      <td>0</td>\n",
       "      <td>0</td>\n",
       "      <td>0</td>\n",
       "    </tr>\n",
       "    <tr>\n",
       "      <th>8120</th>\n",
       "      <td>1</td>\n",
       "      <td>0</td>\n",
       "      <td>0</td>\n",
       "      <td>0</td>\n",
       "      <td>0</td>\n",
       "      <td>0</td>\n",
       "      <td>0</td>\n",
       "      <td>1</td>\n",
       "      <td>0</td>\n",
       "      <td>0</td>\n",
       "      <td>...</td>\n",
       "      <td>0</td>\n",
       "      <td>1</td>\n",
       "      <td>0</td>\n",
       "      <td>0</td>\n",
       "      <td>0</td>\n",
       "      <td>0</td>\n",
       "      <td>0</td>\n",
       "      <td>0</td>\n",
       "      <td>0</td>\n",
       "      <td>0</td>\n",
       "    </tr>\n",
       "    <tr>\n",
       "      <th>8121</th>\n",
       "      <td>1</td>\n",
       "      <td>0</td>\n",
       "      <td>0</td>\n",
       "      <td>0</td>\n",
       "      <td>1</td>\n",
       "      <td>0</td>\n",
       "      <td>0</td>\n",
       "      <td>0</td>\n",
       "      <td>0</td>\n",
       "      <td>0</td>\n",
       "      <td>...</td>\n",
       "      <td>0</td>\n",
       "      <td>1</td>\n",
       "      <td>0</td>\n",
       "      <td>0</td>\n",
       "      <td>0</td>\n",
       "      <td>0</td>\n",
       "      <td>0</td>\n",
       "      <td>0</td>\n",
       "      <td>0</td>\n",
       "      <td>0</td>\n",
       "    </tr>\n",
       "    <tr>\n",
       "      <th>8122</th>\n",
       "      <td>0</td>\n",
       "      <td>1</td>\n",
       "      <td>0</td>\n",
       "      <td>0</td>\n",
       "      <td>0</td>\n",
       "      <td>1</td>\n",
       "      <td>0</td>\n",
       "      <td>0</td>\n",
       "      <td>0</td>\n",
       "      <td>0</td>\n",
       "      <td>...</td>\n",
       "      <td>0</td>\n",
       "      <td>0</td>\n",
       "      <td>0</td>\n",
       "      <td>0</td>\n",
       "      <td>0</td>\n",
       "      <td>0</td>\n",
       "      <td>0</td>\n",
       "      <td>0</td>\n",
       "      <td>1</td>\n",
       "      <td>0</td>\n",
       "    </tr>\n",
       "    <tr>\n",
       "      <th>8123</th>\n",
       "      <td>1</td>\n",
       "      <td>0</td>\n",
       "      <td>0</td>\n",
       "      <td>0</td>\n",
       "      <td>0</td>\n",
       "      <td>0</td>\n",
       "      <td>0</td>\n",
       "      <td>1</td>\n",
       "      <td>0</td>\n",
       "      <td>0</td>\n",
       "      <td>...</td>\n",
       "      <td>0</td>\n",
       "      <td>0</td>\n",
       "      <td>0</td>\n",
       "      <td>0</td>\n",
       "      <td>0</td>\n",
       "      <td>1</td>\n",
       "      <td>0</td>\n",
       "      <td>0</td>\n",
       "      <td>0</td>\n",
       "      <td>0</td>\n",
       "    </tr>\n",
       "  </tbody>\n",
       "</table>\n",
       "<p>8124 rows × 45 columns</p>\n",
       "</div>"
      ],
      "text/plain": [
       "      Class_e  Class_p  cap-shape_b  cap-shape_c  cap-shape_f  cap-shape_k  \\\n",
       "0           0        1            0            0            0            0   \n",
       "1           1        0            0            0            0            0   \n",
       "2           1        0            1            0            0            0   \n",
       "3           0        1            0            0            0            0   \n",
       "4           1        0            0            0            0            0   \n",
       "5           1        0            0            0            0            0   \n",
       "6           1        0            1            0            0            0   \n",
       "7           1        0            1            0            0            0   \n",
       "8           0        1            0            0            0            0   \n",
       "9           1        0            1            0            0            0   \n",
       "10          1        0            0            0            0            0   \n",
       "11          1        0            0            0            0            0   \n",
       "12          1        0            1            0            0            0   \n",
       "13          0        1            0            0            0            0   \n",
       "14          1        0            0            0            0            0   \n",
       "15          1        0            0            0            0            0   \n",
       "16          1        0            0            0            1            0   \n",
       "17          0        1            0            0            0            0   \n",
       "18          0        1            0            0            0            0   \n",
       "19          0        1            0            0            0            0   \n",
       "20          1        0            1            0            0            0   \n",
       "21          0        1            0            0            0            0   \n",
       "22          1        0            1            0            0            0   \n",
       "23          1        0            1            0            0            0   \n",
       "24          1        0            1            0            0            0   \n",
       "25          0        1            0            0            1            0   \n",
       "26          1        0            0            0            0            0   \n",
       "27          1        0            0            0            0            0   \n",
       "28          1        0            0            0            1            0   \n",
       "29          1        0            0            0            0            0   \n",
       "...       ...      ...          ...          ...          ...          ...   \n",
       "8094        1        0            1            0            0            0   \n",
       "8095        0        1            0            0            0            0   \n",
       "8096        1        0            0            0            0            1   \n",
       "8097        0        1            0            0            0            1   \n",
       "8098        0        1            0            0            0            1   \n",
       "8099        1        0            0            0            0            1   \n",
       "8100        1        0            0            0            1            0   \n",
       "8101        0        1            0            0            0            1   \n",
       "8102        1        0            0            0            0            0   \n",
       "8103        1        0            0            0            0            1   \n",
       "8104        1        0            0            0            0            1   \n",
       "8105        1        0            0            0            0            1   \n",
       "8106        1        0            0            0            0            1   \n",
       "8107        1        0            0            0            0            0   \n",
       "8108        0        1            0            0            0            1   \n",
       "8109        1        0            1            0            0            0   \n",
       "8110        1        0            0            0            0            0   \n",
       "8111        1        0            0            0            0            1   \n",
       "8112        1        0            0            0            0            1   \n",
       "8113        0        1            0            0            0            1   \n",
       "8114        0        1            0            0            1            0   \n",
       "8115        1        0            0            0            0            0   \n",
       "8116        0        1            0            0            0            1   \n",
       "8117        0        1            0            0            0            1   \n",
       "8118        0        1            0            0            0            1   \n",
       "8119        1        0            0            0            0            1   \n",
       "8120        1        0            0            0            0            0   \n",
       "8121        1        0            0            0            1            0   \n",
       "8122        0        1            0            0            0            1   \n",
       "8123        1        0            0            0            0            0   \n",
       "\n",
       "      cap-shape_s  cap-shape_x  cap-surface_f  cap-surface_g  \\\n",
       "0               0            1              0              0   \n",
       "1               0            1              0              0   \n",
       "2               0            0              0              0   \n",
       "3               0            1              0              0   \n",
       "4               0            1              0              0   \n",
       "5               0            1              0              0   \n",
       "6               0            0              0              0   \n",
       "7               0            0              0              0   \n",
       "8               0            1              0              0   \n",
       "9               0            0              0              0   \n",
       "10              0            1              0              0   \n",
       "11              0            1              0              0   \n",
       "12              0            0              0              0   \n",
       "13              0            1              0              0   \n",
       "14              0            1              1              0   \n",
       "15              1            0              1              0   \n",
       "16              0            0              1              0   \n",
       "17              0            1              0              0   \n",
       "18              0            1              0              0   \n",
       "19              0            1              0              0   \n",
       "20              0            0              0              0   \n",
       "21              0            1              0              0   \n",
       "22              0            0              0              0   \n",
       "23              0            0              0              0   \n",
       "24              0            0              0              0   \n",
       "25              0            0              0              0   \n",
       "26              0            1              0              0   \n",
       "27              0            1              0              0   \n",
       "28              0            0              1              0   \n",
       "29              0            1              0              0   \n",
       "...           ...          ...            ...            ...   \n",
       "8094            0            0              0              0   \n",
       "8095            0            1              0              0   \n",
       "8096            0            0              1              0   \n",
       "8097            0            0              0              0   \n",
       "8098            0            0              0              0   \n",
       "8099            0            0              1              0   \n",
       "8100            0            0              0              0   \n",
       "8101            0            0              0              0   \n",
       "8102            0            1              0              0   \n",
       "8103            0            0              0              0   \n",
       "8104            0            0              0              0   \n",
       "8105            0            0              0              0   \n",
       "8106            0            0              0              0   \n",
       "8107            0            1              0              0   \n",
       "8108            0            0              0              0   \n",
       "8109            0            0              0              0   \n",
       "8110            0            1              0              0   \n",
       "8111            0            0              0              0   \n",
       "8112            0            0              0              0   \n",
       "8113            0            0              0              0   \n",
       "8114            0            0              0              0   \n",
       "8115            0            1              0              0   \n",
       "8116            0            0              0              0   \n",
       "8117            0            0              0              0   \n",
       "8118            0            0              0              0   \n",
       "8119            0            0              0              0   \n",
       "8120            0            1              0              0   \n",
       "8121            0            0              0              0   \n",
       "8122            0            0              0              0   \n",
       "8123            0            1              0              0   \n",
       "\n",
       "             ...           veil-color_y  spore-print-color_b  \\\n",
       "0            ...                      0                    0   \n",
       "1            ...                      0                    0   \n",
       "2            ...                      0                    0   \n",
       "3            ...                      0                    0   \n",
       "4            ...                      0                    0   \n",
       "5            ...                      0                    0   \n",
       "6            ...                      0                    0   \n",
       "7            ...                      0                    0   \n",
       "8            ...                      0                    0   \n",
       "9            ...                      0                    0   \n",
       "10           ...                      0                    0   \n",
       "11           ...                      0                    0   \n",
       "12           ...                      0                    0   \n",
       "13           ...                      0                    0   \n",
       "14           ...                      0                    0   \n",
       "15           ...                      0                    0   \n",
       "16           ...                      0                    0   \n",
       "17           ...                      0                    0   \n",
       "18           ...                      0                    0   \n",
       "19           ...                      0                    0   \n",
       "20           ...                      0                    0   \n",
       "21           ...                      0                    0   \n",
       "22           ...                      0                    0   \n",
       "23           ...                      0                    0   \n",
       "24           ...                      0                    0   \n",
       "25           ...                      0                    0   \n",
       "26           ...                      0                    0   \n",
       "27           ...                      0                    0   \n",
       "28           ...                      0                    0   \n",
       "29           ...                      0                    0   \n",
       "...          ...                    ...                  ...   \n",
       "8094         ...                      0                    0   \n",
       "8095         ...                      0                    0   \n",
       "8096         ...                      0                    0   \n",
       "8097         ...                      0                    0   \n",
       "8098         ...                      0                    0   \n",
       "8099         ...                      0                    0   \n",
       "8100         ...                      0                    1   \n",
       "8101         ...                      0                    0   \n",
       "8102         ...                      0                    0   \n",
       "8103         ...                      0                    0   \n",
       "8104         ...                      0                    0   \n",
       "8105         ...                      0                    0   \n",
       "8106         ...                      0                    0   \n",
       "8107         ...                      0                    0   \n",
       "8108         ...                      0                    0   \n",
       "8109         ...                      0                    0   \n",
       "8110         ...                      0                    0   \n",
       "8111         ...                      0                    0   \n",
       "8112         ...                      0                    1   \n",
       "8113         ...                      0                    0   \n",
       "8114         ...                      0                    0   \n",
       "8115         ...                      0                    0   \n",
       "8116         ...                      0                    0   \n",
       "8117         ...                      0                    0   \n",
       "8118         ...                      0                    0   \n",
       "8119         ...                      0                    1   \n",
       "8120         ...                      0                    1   \n",
       "8121         ...                      0                    1   \n",
       "8122         ...                      0                    0   \n",
       "8123         ...                      0                    0   \n",
       "\n",
       "      spore-print-color_h  spore-print-color_k  spore-print-color_n  \\\n",
       "0                       0                    1                    0   \n",
       "1                       0                    0                    1   \n",
       "2                       0                    0                    1   \n",
       "3                       0                    1                    0   \n",
       "4                       0                    0                    1   \n",
       "5                       0                    1                    0   \n",
       "6                       0                    1                    0   \n",
       "7                       0                    0                    1   \n",
       "8                       0                    1                    0   \n",
       "9                       0                    1                    0   \n",
       "10                      0                    0                    1   \n",
       "11                      0                    1                    0   \n",
       "12                      0                    0                    1   \n",
       "13                      0                    0                    1   \n",
       "14                      0                    1                    0   \n",
       "15                      0                    0                    1   \n",
       "16                      0                    0                    1   \n",
       "17                      0                    1                    0   \n",
       "18                      0                    0                    1   \n",
       "19                      0                    0                    1   \n",
       "20                      0                    0                    1   \n",
       "21                      0                    0                    1   \n",
       "22                      0                    0                    1   \n",
       "23                      0                    0                    1   \n",
       "24                      0                    1                    0   \n",
       "25                      0                    0                    1   \n",
       "26                      0                    0                    1   \n",
       "27                      0                    0                    1   \n",
       "28                      0                    1                    0   \n",
       "29                      0                    0                    1   \n",
       "...                   ...                  ...                  ...   \n",
       "8094                    0                    0                    0   \n",
       "8095                    0                    0                    0   \n",
       "8096                    0                    0                    0   \n",
       "8097                    0                    0                    0   \n",
       "8098                    0                    0                    0   \n",
       "8099                    0                    0                    0   \n",
       "8100                    0                    0                    0   \n",
       "8101                    0                    0                    0   \n",
       "8102                    0                    0                    1   \n",
       "8103                    0                    0                    0   \n",
       "8104                    0                    0                    1   \n",
       "8105                    0                    0                    0   \n",
       "8106                    0                    0                    1   \n",
       "8107                    0                    0                    1   \n",
       "8108                    0                    0                    0   \n",
       "8109                    0                    0                    0   \n",
       "8110                    0                    0                    1   \n",
       "8111                    0                    0                    0   \n",
       "8112                    0                    0                    0   \n",
       "8113                    0                    0                    0   \n",
       "8114                    0                    0                    0   \n",
       "8115                    0                    0                    0   \n",
       "8116                    0                    0                    0   \n",
       "8117                    0                    0                    0   \n",
       "8118                    0                    0                    0   \n",
       "8119                    0                    0                    0   \n",
       "8120                    0                    0                    0   \n",
       "8121                    0                    0                    0   \n",
       "8122                    0                    0                    0   \n",
       "8123                    0                    0                    0   \n",
       "\n",
       "      spore-print-color_o  spore-print-color_r  spore-print-color_u  \\\n",
       "0                       0                    0                    0   \n",
       "1                       0                    0                    0   \n",
       "2                       0                    0                    0   \n",
       "3                       0                    0                    0   \n",
       "4                       0                    0                    0   \n",
       "5                       0                    0                    0   \n",
       "6                       0                    0                    0   \n",
       "7                       0                    0                    0   \n",
       "8                       0                    0                    0   \n",
       "9                       0                    0                    0   \n",
       "10                      0                    0                    0   \n",
       "11                      0                    0                    0   \n",
       "12                      0                    0                    0   \n",
       "13                      0                    0                    0   \n",
       "14                      0                    0                    0   \n",
       "15                      0                    0                    0   \n",
       "16                      0                    0                    0   \n",
       "17                      0                    0                    0   \n",
       "18                      0                    0                    0   \n",
       "19                      0                    0                    0   \n",
       "20                      0                    0                    0   \n",
       "21                      0                    0                    0   \n",
       "22                      0                    0                    0   \n",
       "23                      0                    0                    0   \n",
       "24                      0                    0                    0   \n",
       "25                      0                    0                    0   \n",
       "26                      0                    0                    0   \n",
       "27                      0                    0                    0   \n",
       "28                      0                    0                    0   \n",
       "29                      0                    0                    0   \n",
       "...                   ...                  ...                  ...   \n",
       "8094                    0                    0                    0   \n",
       "8095                    0                    0                    0   \n",
       "8096                    0                    0                    0   \n",
       "8097                    0                    0                    0   \n",
       "8098                    0                    0                    0   \n",
       "8099                    0                    0                    0   \n",
       "8100                    0                    0                    0   \n",
       "8101                    0                    0                    0   \n",
       "8102                    0                    0                    0   \n",
       "8103                    1                    0                    0   \n",
       "8104                    0                    0                    0   \n",
       "8105                    0                    0                    0   \n",
       "8106                    0                    0                    0   \n",
       "8107                    0                    0                    0   \n",
       "8108                    0                    0                    0   \n",
       "8109                    0                    0                    0   \n",
       "8110                    0                    0                    0   \n",
       "8111                    0                    0                    0   \n",
       "8112                    0                    0                    0   \n",
       "8113                    0                    0                    0   \n",
       "8114                    0                    0                    0   \n",
       "8115                    1                    0                    0   \n",
       "8116                    0                    0                    0   \n",
       "8117                    0                    0                    0   \n",
       "8118                    0                    0                    0   \n",
       "8119                    0                    0                    0   \n",
       "8120                    0                    0                    0   \n",
       "8121                    0                    0                    0   \n",
       "8122                    0                    0                    0   \n",
       "8123                    1                    0                    0   \n",
       "\n",
       "      spore-print-color_w  spore-print-color_y  \n",
       "0                       0                    0  \n",
       "1                       0                    0  \n",
       "2                       0                    0  \n",
       "3                       0                    0  \n",
       "4                       0                    0  \n",
       "5                       0                    0  \n",
       "6                       0                    0  \n",
       "7                       0                    0  \n",
       "8                       0                    0  \n",
       "9                       0                    0  \n",
       "10                      0                    0  \n",
       "11                      0                    0  \n",
       "12                      0                    0  \n",
       "13                      0                    0  \n",
       "14                      0                    0  \n",
       "15                      0                    0  \n",
       "16                      0                    0  \n",
       "17                      0                    0  \n",
       "18                      0                    0  \n",
       "19                      0                    0  \n",
       "20                      0                    0  \n",
       "21                      0                    0  \n",
       "22                      0                    0  \n",
       "23                      0                    0  \n",
       "24                      0                    0  \n",
       "25                      0                    0  \n",
       "26                      0                    0  \n",
       "27                      0                    0  \n",
       "28                      0                    0  \n",
       "29                      0                    0  \n",
       "...                   ...                  ...  \n",
       "8094                    1                    0  \n",
       "8095                    1                    0  \n",
       "8096                    1                    0  \n",
       "8097                    1                    0  \n",
       "8098                    1                    0  \n",
       "8099                    1                    0  \n",
       "8100                    0                    0  \n",
       "8101                    1                    0  \n",
       "8102                    0                    0  \n",
       "8103                    0                    0  \n",
       "8104                    0                    0  \n",
       "8105                    0                    1  \n",
       "8106                    0                    0  \n",
       "8107                    0                    0  \n",
       "8108                    1                    0  \n",
       "8109                    1                    0  \n",
       "8110                    0                    0  \n",
       "8111                    1                    0  \n",
       "8112                    0                    0  \n",
       "8113                    1                    0  \n",
       "8114                    1                    0  \n",
       "8115                    0                    0  \n",
       "8116                    1                    0  \n",
       "8117                    1                    0  \n",
       "8118                    1                    0  \n",
       "8119                    0                    0  \n",
       "8120                    0                    0  \n",
       "8121                    0                    0  \n",
       "8122                    1                    0  \n",
       "8123                    0                    0  \n",
       "\n",
       "[8124 rows x 45 columns]"
      ]
     },
     "execution_count": 893,
     "metadata": {},
     "output_type": "execute_result"
    }
   ],
   "source": [
    "newdata"
   ]
  },
  {
   "cell_type": "markdown",
   "metadata": {},
   "source": [
    "### 데이터 나누기"
   ]
  },
  {
   "cell_type": "code",
   "execution_count": 894,
   "metadata": {},
   "outputs": [],
   "source": [
    "newtrain = newdata.sample(frac=0.6)\n",
    "remain = newdata.drop(index = newtrain.index)\n",
    "newvalid = remain.sample(frac=0.5)\n",
    "newtest = remain.drop(index = newvalid.index)"
   ]
  },
  {
   "cell_type": "code",
   "execution_count": 898,
   "metadata": {},
   "outputs": [],
   "source": [
    "newtrain_x = newtrain.drop(columns = ['Class_e','Class_p'])\n",
    "newtrain_y = newtrain[['Class_e','Class_p']]\n",
    "newtrain_y = newtrain_y.values\n",
    "newvalid_x = newvalid.drop(columns = ['Class_e','Class_p'])\n",
    "newvalid_y = newvalid[['Class_e','Class_p']]\n",
    "newvalid_y = newvalid_y.values\n",
    "newtest_x = newtest.drop(columns = ['Class_e','Class_p'])\n",
    "newtest_y = newtest[['Class_e','Class_p']]\n",
    "newtest_y = newtest_y.values"
   ]
  },
  {
   "cell_type": "markdown",
   "metadata": {},
   "source": [
    "데이터 준비 완료!"
   ]
  },
  {
   "cell_type": "markdown",
   "metadata": {},
   "source": [
    "---"
   ]
  },
  {
   "cell_type": "markdown",
   "metadata": {},
   "source": [
    "## Part3: 이 부분 역시 전 파트의 인코딩 문제로 마크다운 처리했습니다"
   ]
  },
  {
   "cell_type": "markdown",
   "metadata": {},
   "source": [
    "이번 파트에서는 새롭게 feature selection과 encoding을 거친 데이터로 part1에서 좋은 성능을 기록했던 DT, Perceptron, MLP, RandomForest에 대해서 test 데이터에 대한 성능 변화를 살펴보겠다."
   ]
  },
  {
   "cell_type": "markdown",
   "metadata": {},
   "source": [
    "(1) Decision Tree\n",
    "dt_entropy2.fit(newtrain_x, newtrain_y)\n",
    "prediction2n = dt_entropy2.predict(newtest_x)\n",
    "tn, fp, fn, tp = confusion_matrix(prediction2n,newtest_y).ravel()\n",
    "precision2n = tp/(tp+fp) #0.9608843537414966와 비교\n",
    "\n",
    "(2) Perceptron\n",
    "P.fit(newtrain_x, newtrain_y\n",
    "prediction_p2 = P.predict(newtest_x)\n",
    "tn, fp, fn, tp = confusion_matrix(prediction_p2,newtest_y).ravel()\n",
    "precision_p2 = tp/(tp+fp)\n",
    "precision_p2 #0.9642384105960264\n",
    "\n",
    "(3) MLP\n",
    "MLP_r.fit(newtrain_x,newtrain_y)  \n",
    "prediction_mlp_rtw= MLP_r.predict(newtest_x)\n",
    "tn, fp, fn, tp = confusion_matrix(prediction_mlp_rtw,newtest_y).ravel()\n",
    "precision_mlp_rt2 = tp/(tp+fp)\n",
    "precision_mlp_rt2 #0.9258278145695364\n",
    "\n",
    "(4) Random Forest\n",
    "rf2 = rf2.fit(newtrain_x, newtrain_y)     \n",
    "prediction_rf2t2 = rf2.predict(newtest_x)\n",
    "tn, fp, fn, tp = confusion_matrix(prediction_rf2t2,newtest_y).ravel()\n",
    "precision_rf2t2 = tp/(tp+fp)\n",
    "precision_rf2t2 #0.9589403973509933"
   ]
  },
  {
   "cell_type": "markdown",
   "metadata": {},
   "source": [
    "인코딩이 성공적으로 되었다면 feature selection의 효과를 볼 수 있었을텐데 너무 아쉽다."
   ]
  },
  {
   "cell_type": "markdown",
   "metadata": {},
   "source": [
    "## Part4"
   ]
  },
  {
   "cell_type": "markdown",
   "metadata": {},
   "source": [
    "### 이번 파트에서는 새롭게 인코딩한 데이터를 numpy배열을 쓰지 않고 배열로 변환하여 딥러닝 keras를 통해서 MLP를 구현해보려고 했으나 역시 이전 파트의 문제로 마크다운 처리합니다. 위에 sklearn에 따라서 MLP를 구현한 것을 참고해주세요."
   ]
  },
  {
   "cell_type": "markdown",
   "metadata": {},
   "source": [
    "import keras"
   ]
  },
  {
   "cell_type": "markdown",
   "metadata": {},
   "source": [
    "from keras.models import Sequential"
   ]
  },
  {
   "cell_type": "markdown",
   "metadata": {},
   "source": [
    "nn_model = Sequential()"
   ]
  },
  {
   "cell_type": "markdown",
   "metadata": {},
   "source": [
    "from keras.layers import InputLayer,Dense"
   ]
  },
  {
   "cell_type": "markdown",
   "metadata": {},
   "source": [
    "nn_model.add(InputLayer(input_shape=((43,))))"
   ]
  },
  {
   "cell_type": "markdown",
   "metadata": {},
   "source": [
    "nn_model.add(Dense(units=43, activation='sigmoid'))"
   ]
  },
  {
   "cell_type": "markdown",
   "metadata": {},
   "source": [
    "nn_model.add(Dense(units=30\n",
    "                   , activation='sigmoid'))"
   ]
  },
  {
   "cell_type": "markdown",
   "metadata": {},
   "source": [
    "nn_model.add(Dense(units=10, activation='sigmoid'))"
   ]
  },
  {
   "cell_type": "markdown",
   "metadata": {},
   "source": [
    "nn_model.add(Dense(units=1, activation='sigmoid'))"
   ]
  },
  {
   "cell_type": "markdown",
   "metadata": {},
   "source": [
    "nn_model.compile(optimizer='sgd', loss = 'mean_squared_error', metrics=['accuracy'])"
   ]
  },
  {
   "cell_type": "markdown",
   "metadata": {},
   "source": [
    "nn_model.fit(x=newtrain_x, y=newtrain_y, epochs=1000, validation_data = (newvalid_x, newvalid_y))"
   ]
  },
  {
   "cell_type": "code",
   "execution_count": 847,
   "metadata": {},
   "outputs": [
    {
     "name": "stdout",
     "output_type": "stream",
     "text": [
      "_________________________________________________________________\n",
      "Layer (type)                 Output Shape              Param #   \n",
      "=================================================================\n",
      "dense_63 (Dense)             (None, 43)                1892      \n",
      "_________________________________________________________________\n",
      "dense_64 (Dense)             (None, 30)                1320      \n",
      "_________________________________________________________________\n",
      "dense_65 (Dense)             (None, 10)                310       \n",
      "_________________________________________________________________\n",
      "dense_66 (Dense)             (None, 1)                 11        \n",
      "=================================================================\n",
      "Total params: 3,533\n",
      "Trainable params: 3,533\n",
      "Non-trainable params: 0\n",
      "_________________________________________________________________\n"
     ]
    }
   ],
   "source": [
    "# nn_model.summary()"
   ]
  },
  {
   "cell_type": "markdown",
   "metadata": {},
   "source": [
    "nn_model.evaluate(x=newtest_x, y=newtest_y)  \n",
    "cf. keras 새로운 버전에서는 precision을 metric으로 제공하지 않는다!!"
   ]
  },
  {
   "cell_type": "markdown",
   "metadata": {},
   "source": [
    "원래는 epoch수도 달리해보고 여러 히든 레이어를 디자인해보려고 시도했습니다"
   ]
  },
  {
   "cell_type": "markdown",
   "metadata": {},
   "source": [
    "## Part5"
   ]
  },
  {
   "cell_type": "markdown",
   "metadata": {},
   "source": [
    "*실험 정리 및 결론\n",
    "\n",
    "-모델에 대한 자세한 결론은 part1을 참고해주십시오.\n",
    "\n",
    "이번 데이터 셋에서는 feature selection은 실패하였고, 그 이전의 인코딩을 통한 8가지의 다른 classification 모델을 설계해보았다. 설계 과정에서 각 알고리즘마다 parameter를 달리하여 overfitting의 관점과 원래 내가 예상하고 있던 model의 개선 방향이 항상 일치하지 않음을 알게 되었다. 또한 part1에서 시도해본 여러가지 모델 중 linear model과 nonlinear model간의 성능이 크게 차이 나지 않아 데이터 셋의 분포에 대한 예측을 단지 linearly separable할 것이라고 예측해버린 것이 조금 아쉽다. 시간적 여유와 파이썬에 대해 더 알았다면 정말 좋았을 것 같다. 기회가 된다면 AI 수업을 통해서 다시 한번 기계학습 알고리즘에 접근해보고 싶다. "
   ]
  },
  {
   "cell_type": "markdown",
   "metadata": {},
   "source": [
    "## 참고 자료"
   ]
  },
  {
   "cell_type": "markdown",
   "metadata": {},
   "source": [
    "https://hashcode.co.kr/questions/1772/%EB%A7%88%ED%81%AC%EB%8B%A4%EC%9A%B4-%EB%AC%B8%EB%B2%95-%EC%9E%91%EC%84%B1-%ED%8C%81  마크다운 관련 정리 자료\n",
    "\n",
    "https://en.wikipedia.org/wiki/Precision_and_recall evaluation metric Precision 정의\n",
    "\n",
    "2018 가을학기 기계학습 강의 자료"
   ]
  },
  {
   "cell_type": "raw",
   "metadata": {},
   "source": []
  },
  {
   "cell_type": "code",
   "execution_count": null,
   "metadata": {},
   "outputs": [],
   "source": []
  }
 ],
 "metadata": {
  "kernelspec": {
   "display_name": "Python 3",
   "language": "python",
   "name": "python3"
  },
  "language_info": {
   "codemirror_mode": {
    "name": "ipython",
    "version": 3
   },
   "file_extension": ".py",
   "mimetype": "text/x-python",
   "name": "python",
   "nbconvert_exporter": "python",
   "pygments_lexer": "ipython3",
   "version": "3.6.7"
  }
 },
 "nbformat": 4,
 "nbformat_minor": 2
}
